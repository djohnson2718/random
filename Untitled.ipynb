{
 "cells": [
  {
   "cell_type": "code",
   "execution_count": 24,
   "metadata": {},
   "outputs": [
    {
     "name": "stdout",
     "output_type": "stream",
     "text": [
      "1\n",
      "1\n",
      "\n",
      "x0*y0 + x0*y1 + x1*y0 + x1*y1\n",
      "x0*y0 + x0*y1 + x1*y0 + x1*y1\n",
      "\n",
      "x0^2*y0^2 + x0^2*y0*y1 + x0^2*y1^2 + x0*x1*y0^2 + 2*x0*x1*y0*y1 + x0*x1*y1^2 + x1^2*y0^2 + x1^2*y0*y1 + x1^2*y1^2\n",
      "x0^2*y0^2 + x0^2*y0*y1 + x0^2*y1^2 + x0*x1*y0^2 + 2*x0*x1*y0*y1 + x0*x1*y1^2 + x1^2*y0^2 + x1^2*y0*y1 + x1^2*y1^2\n",
      "\n",
      "x0^3*y0^2*y1 + x0^3*y0*y1^2 + x0^2*x1*y0^3 + 2*x0^2*x1*y0^2*y1 + 2*x0^2*x1*y0*y1^2 + x0^2*x1*y1^3 + x0*x1^2*y0^3 + 2*x0*x1^2*y0^2*y1 + 2*x0*x1^2*y0*y1^2 + x0*x1^2*y1^3 + x1^3*y0^2*y1 + x1^3*y0*y1^2\n",
      "x0^3*y0^3 + x0^3*y0^2*y1 + x0^3*y0*y1^2 + x0^3*y1^3 + x0^2*x1*y0^3 + 2*x0^2*x1*y0^2*y1 + 2*x0^2*x1*y0*y1^2 + x0^2*x1*y1^3 + x0*x1^2*y0^3 + 2*x0*x1^2*y0^2*y1 + 2*x0*x1^2*y0*y1^2 + x0*x1^2*y1^3 + x1^3*y0^3 + x1^3*y0^2*y1 + x1^3*y0*y1^2 + x1^3*y1^3\n",
      "\n"
     ]
    }
   ],
   "source": [
    "n=2\n",
    "R = PowerSeriesRing(QQ, [\"x\"+str(i) for i in range(n)] + [\"y\"+str(i) for i in range(n)])\n",
    "\n",
    "x = R.gens()[:n]\n",
    "y = R.gens()[n:]\n",
    "xy = [xi*yi for xi in x for yi in y]\n",
    "\n",
    "s = SymmetricFunctions(QQ).schur()\n",
    "\n",
    "def ooom(v, order=2):\n",
    "    return sum((v^i for i in range(order+1)))\n",
    "\n",
    "order =3\n",
    "result = 1\n",
    "for i in range(n):\n",
    "    for j in range(n):\n",
    "        result *= ooom(x[i]*y[j])\n",
    "        \n",
    "#print result\n",
    "#print\n",
    "\n",
    "for k in range(order+1):\n",
    "    print result[k*2]\n",
    "    schurside = 0\n",
    "    for p in Partitions(k):\n",
    "        schurside += s[p].expand(n)(x) * s[p].expand(n)(y)\n",
    "    print schurside\n",
    "    print"
   ]
  },
  {
   "cell_type": "code",
   "execution_count": 2,
   "metadata": {},
   "outputs": [
    {
     "data": {
      "text/plain": [
       "x0^2*y0^2 + x0^2*y1^2 + x0^2*y2^2 + x1^2*y0^2 + x1^2*y1^2 + x1^2*y2^2 + x2^2*y0^2 + x2^2*y1^2 + x2^2*y2^2"
      ]
     },
     "execution_count": 2,
     "metadata": {},
     "output_type": "execute_result"
    }
   ],
   "source": [
    "result[4]"
   ]
  },
  {
   "cell_type": "code",
   "execution_count": 13,
   "metadata": {},
   "outputs": [],
   "source": [
    "m = SymmetricFunctions(QQ).monomial()"
   ]
  },
  {
   "cell_type": "code",
   "execution_count": 23,
   "metadata": {},
   "outputs": [
    {
     "data": {
      "text/plain": [
       "-x0^2*y0*y1 - x0^2*y0*y2 - x0^2*y1*y2 - x0*x1*y0^2 - x0*x1*y0*y1 - x0*x1*y0*y2 - x0*x1*y1^2 - x0*x1*y1*y2 - x0*x1*y2^2 - x0*x2*y0^2 - x0*x2*y0*y1 - x0*x2*y0*y2 - x0*x2*y1^2 - x0*x2*y1*y2 - x0*x2*y2^2 - x1^2*y0*y1 - x1^2*y0*y2 - x1^2*y1*y2 - x1*x2*y0^2 - x1*x2*y0*y1 - x1*x2*y0*y2 - x1*x2*y1^2 - x1*x2*y1*y2 - x1*x2*y2^2 - x2^2*y0*y1 - x2^2*y0*y2 - x2^2*y1*y2"
      ]
     },
     "execution_count": 23,
     "metadata": {},
     "output_type": "execute_result"
    }
   ],
   "source": [
    "p=[1,1]\n",
    "m[p].expand(3)(x)*m[p].expand(3)(y) -m[p].expand(9)(xy)"
   ]
  },
  {
   "cell_type": "code",
   "execution_count": 18,
   "metadata": {},
   "outputs": [
    {
     "data": {
      "text/plain": [
       "x0^3*y0^2*y1 + x0^3*y0^2*y2 + x0^3*y0*y1^2 + x0^3*y0*y2^2 + x0^3*y1^2*y2 + x0^3*y1*y2^2 + x0^2*x1*y0^3 + x0^2*x1*y0^2*y1 + x0^2*x1*y0^2*y2 + x0^2*x1*y0*y1^2 + x0^2*x1*y0*y2^2 + x0^2*x1*y1^3 + x0^2*x1*y1^2*y2 + x0^2*x1*y1*y2^2 + x0^2*x1*y2^3 + x0^2*x2*y0^3 + x0^2*x2*y0^2*y1 + x0^2*x2*y0^2*y2 + x0^2*x2*y0*y1^2 + x0^2*x2*y0*y2^2 + x0^2*x2*y1^3 + x0^2*x2*y1^2*y2 + x0^2*x2*y1*y2^2 + x0^2*x2*y2^3 + x0*x1^2*y0^3 + x0*x1^2*y0^2*y1 + x0*x1^2*y0^2*y2 + x0*x1^2*y0*y1^2 + x0*x1^2*y0*y2^2 + x0*x1^2*y1^3 + x0*x1^2*y1^2*y2 + x0*x1^2*y1*y2^2 + x0*x1^2*y2^3 + x0*x2^2*y0^3 + x0*x2^2*y0^2*y1 + x0*x2^2*y0^2*y2 + x0*x2^2*y0*y1^2 + x0*x2^2*y0*y2^2 + x0*x2^2*y1^3 + x0*x2^2*y1^2*y2 + x0*x2^2*y1*y2^2 + x0*x2^2*y2^3 + x1^3*y0^2*y1 + x1^3*y0^2*y2 + x1^3*y0*y1^2 + x1^3*y0*y2^2 + x1^3*y1^2*y2 + x1^3*y1*y2^2 + x1^2*x2*y0^3 + x1^2*x2*y0^2*y1 + x1^2*x2*y0^2*y2 + x1^2*x2*y0*y1^2 + x1^2*x2*y0*y2^2 + x1^2*x2*y1^3 + x1^2*x2*y1^2*y2 + x1^2*x2*y1*y2^2 + x1^2*x2*y2^3 + x1*x2^2*y0^3 + x1*x2^2*y0^2*y1 + x1*x2^2*y0^2*y2 + x1*x2^2*y0*y1^2 + x1*x2^2*y0*y2^2 + x1*x2^2*y1^3 + x1*x2^2*y1^2*y2 + x1*x2^2*y1*y2^2 + x1*x2^2*y2^3 + x2^3*y0^2*y1 + x2^3*y0^2*y2 + x2^3*y0*y1^2 + x2^3*y0*y2^2 + x2^3*y1^2*y2 + x2^3*y1*y2^2"
      ]
     },
     "execution_count": 18,
     "metadata": {},
     "output_type": "execute_result"
    }
   ],
   "source": [
    "m[2,1].expand(9)(xy)"
   ]
  },
  {
   "cell_type": "code",
   "execution_count": 25,
   "metadata": {},
   "outputs": [
    {
     "data": {
      "text/plain": [
       "x0^3*y0^2*y1 + x0^3*y0*y1^2 + x0^2*x1*y0^3 + x0^2*x1*y0^2*y1 + x0^2*x1*y0*y1^2 + x0^2*x1*y1^3 + x0*x1^2*y0^3 + x0*x1^2*y0^2*y1 + x0*x1^2*y0*y1^2 + x0*x1^2*y1^3 + x1^3*y0^2*y1 + x1^3*y0*y1^2"
      ]
     },
     "execution_count": 25,
     "metadata": {},
     "output_type": "execute_result"
    }
   ],
   "source": [
    "m[2,1].expand(4)(xy)"
   ]
  },
  {
   "cell_type": "code",
   "execution_count": 28,
   "metadata": {},
   "outputs": [],
   "source": [
    "def qq(m):\n",
    "    mon = SymmetricFunctions(QQ).monomial()\n",
    "    n=2*m-1\n",
    "    \n",
    "    R = PowerSeriesRing(QQ, [\"x\"+str(i) for i in range(n)] + [\"y\"+str(i) for i in range(6)])\n",
    "\n",
    "    x = R.gens()[:n]\n",
    "    y = R.gens()[n:]\n",
    "    xy = [xi*yi for xi in x for yi in y]\n",
    "\n",
    "    print mon[[2] + [1]*(n-1)].expand(6*n)(xy)\n",
    "    \n",
    "    print mon[[1]*(n+1)].expand(6*n)(xy)"
   ]
  },
  {
   "cell_type": "code",
   "execution_count": 29,
   "metadata": {},
   "outputs": [
    {
     "name": "stdout",
     "output_type": "stream",
     "text": [
      "x0^2*y0^2 + x0^2*y1^2 + x0^2*y2^2 + x0^2*y3^2 + x0^2*y4^2 + x0^2*y5^2\n",
      "x0^2*y0*y1 + x0^2*y0*y2 + x0^2*y0*y3 + x0^2*y0*y4 + x0^2*y0*y5 + x0^2*y1*y2 + x0^2*y1*y3 + x0^2*y1*y4 + x0^2*y1*y5 + x0^2*y2*y3 + x0^2*y2*y4 + x0^2*y2*y5 + x0^2*y3*y4 + x0^2*y3*y5 + x0^2*y4*y5\n"
     ]
    }
   ],
   "source": [
    "qq(1)"
   ]
  },
  {
   "cell_type": "code",
   "execution_count": 30,
   "metadata": {},
   "outputs": [
    {
     "ename": "KeyboardInterrupt",
     "evalue": "",
     "output_type": "error",
     "traceback": [
      "\u001b[0;31m---------------------------------------------------------------------------\u001b[0m",
      "\u001b[0;31mKeyboardInterrupt\u001b[0m                         Traceback (most recent call last)",
      "\u001b[0;32m<ipython-input-30-55896b77d23e>\u001b[0m in \u001b[0;36m<module>\u001b[0;34m()\u001b[0m\n\u001b[0;32m----> 1\u001b[0;31m \u001b[0mqq\u001b[0m\u001b[0;34m(\u001b[0m\u001b[0mInteger\u001b[0m\u001b[0;34m(\u001b[0m\u001b[0;36m2\u001b[0m\u001b[0;34m)\u001b[0m\u001b[0;34m)\u001b[0m\u001b[0;34m\u001b[0m\u001b[0m\n\u001b[0m",
      "\u001b[0;32m<ipython-input-28-2c69066cf495>\u001b[0m in \u001b[0;36mqq\u001b[0;34m(m)\u001b[0m\n\u001b[1;32m      9\u001b[0m     \u001b[0mxy\u001b[0m \u001b[0;34m=\u001b[0m \u001b[0;34m[\u001b[0m\u001b[0mxi\u001b[0m\u001b[0;34m*\u001b[0m\u001b[0myi\u001b[0m \u001b[0;32mfor\u001b[0m \u001b[0mxi\u001b[0m \u001b[0;32min\u001b[0m \u001b[0mx\u001b[0m \u001b[0;32mfor\u001b[0m \u001b[0myi\u001b[0m \u001b[0;32min\u001b[0m \u001b[0my\u001b[0m\u001b[0;34m]\u001b[0m\u001b[0;34m\u001b[0m\u001b[0m\n\u001b[1;32m     10\u001b[0m \u001b[0;34m\u001b[0m\u001b[0m\n\u001b[0;32m---> 11\u001b[0;31m     \u001b[0;32mprint\u001b[0m \u001b[0mmon\u001b[0m\u001b[0;34m[\u001b[0m\u001b[0;34m[\u001b[0m\u001b[0mInteger\u001b[0m\u001b[0;34m(\u001b[0m\u001b[0;36m2\u001b[0m\u001b[0;34m)\u001b[0m\u001b[0;34m]\u001b[0m \u001b[0;34m+\u001b[0m \u001b[0;34m[\u001b[0m\u001b[0mInteger\u001b[0m\u001b[0;34m(\u001b[0m\u001b[0;36m1\u001b[0m\u001b[0;34m)\u001b[0m\u001b[0;34m]\u001b[0m\u001b[0;34m*\u001b[0m\u001b[0;34m(\u001b[0m\u001b[0mn\u001b[0m\u001b[0;34m-\u001b[0m\u001b[0mInteger\u001b[0m\u001b[0;34m(\u001b[0m\u001b[0;36m1\u001b[0m\u001b[0;34m)\u001b[0m\u001b[0;34m)\u001b[0m\u001b[0;34m]\u001b[0m\u001b[0;34m.\u001b[0m\u001b[0mexpand\u001b[0m\u001b[0;34m(\u001b[0m\u001b[0mInteger\u001b[0m\u001b[0;34m(\u001b[0m\u001b[0;36m6\u001b[0m\u001b[0;34m)\u001b[0m\u001b[0;34m*\u001b[0m\u001b[0mn\u001b[0m\u001b[0;34m)\u001b[0m\u001b[0;34m(\u001b[0m\u001b[0mxy\u001b[0m\u001b[0;34m)\u001b[0m\u001b[0;34m\u001b[0m\u001b[0m\n\u001b[0m\u001b[1;32m     12\u001b[0m \u001b[0;34m\u001b[0m\u001b[0m\n\u001b[1;32m     13\u001b[0m     \u001b[0;32mprint\u001b[0m \u001b[0mmon\u001b[0m\u001b[0;34m[\u001b[0m\u001b[0;34m[\u001b[0m\u001b[0mInteger\u001b[0m\u001b[0;34m(\u001b[0m\u001b[0;36m1\u001b[0m\u001b[0;34m)\u001b[0m\u001b[0;34m]\u001b[0m\u001b[0;34m*\u001b[0m\u001b[0;34m(\u001b[0m\u001b[0mn\u001b[0m\u001b[0;34m+\u001b[0m\u001b[0mInteger\u001b[0m\u001b[0;34m(\u001b[0m\u001b[0;36m1\u001b[0m\u001b[0;34m)\u001b[0m\u001b[0;34m)\u001b[0m\u001b[0;34m]\u001b[0m\u001b[0;34m.\u001b[0m\u001b[0mexpand\u001b[0m\u001b[0;34m(\u001b[0m\u001b[0mInteger\u001b[0m\u001b[0;34m(\u001b[0m\u001b[0;36m6\u001b[0m\u001b[0;34m)\u001b[0m\u001b[0;34m*\u001b[0m\u001b[0mn\u001b[0m\u001b[0;34m)\u001b[0m\u001b[0;34m(\u001b[0m\u001b[0mxy\u001b[0m\u001b[0;34m)\u001b[0m\u001b[0;34m\u001b[0m\u001b[0m\n",
      "\u001b[0;32m/opt/sagemath-8.6/local/lib/python2.7/site-packages/sage/combinat/sf/monomial.pyc\u001b[0m in \u001b[0;36mexpand\u001b[0;34m(self, n, alphabet)\u001b[0m\n\u001b[1;32m    301\u001b[0m             \"\"\"\n\u001b[1;32m    302\u001b[0m             \u001b[0mcondition\u001b[0m \u001b[0;34m=\u001b[0m \u001b[0;32mlambda\u001b[0m \u001b[0mpart\u001b[0m\u001b[0;34m:\u001b[0m \u001b[0mlen\u001b[0m\u001b[0;34m(\u001b[0m\u001b[0mpart\u001b[0m\u001b[0;34m)\u001b[0m \u001b[0;34m>\u001b[0m \u001b[0mn\u001b[0m\u001b[0;34m\u001b[0m\u001b[0m\n\u001b[0;32m--> 303\u001b[0;31m             \u001b[0;32mreturn\u001b[0m \u001b[0mself\u001b[0m\u001b[0;34m.\u001b[0m\u001b[0m_expand\u001b[0m\u001b[0;34m(\u001b[0m\u001b[0mcondition\u001b[0m\u001b[0;34m,\u001b[0m \u001b[0mn\u001b[0m\u001b[0;34m,\u001b[0m \u001b[0malphabet\u001b[0m\u001b[0;34m)\u001b[0m\u001b[0;34m\u001b[0m\u001b[0m\n\u001b[0m\u001b[1;32m    304\u001b[0m \u001b[0;34m\u001b[0m\u001b[0m\n\u001b[1;32m    305\u001b[0m \u001b[0;31m# Backward compatibility for unpickling\u001b[0m\u001b[0;34m\u001b[0m\u001b[0;34m\u001b[0m\u001b[0m\n",
      "\u001b[0;32m/opt/sagemath-8.6/local/lib/python2.7/site-packages/sage/combinat/sf/sfa.pyc\u001b[0m in \u001b[0;36m_expand\u001b[0;34m(self, condition, n, alphabet)\u001b[0m\n\u001b[1;32m   4984\u001b[0m             \u001b[0;32melse\u001b[0m\u001b[0;34m:\u001b[0m\u001b[0;34m\u001b[0m\u001b[0m\n\u001b[1;32m   4985\u001b[0m                 \u001b[0;32mreturn\u001b[0m \u001b[0mresPR\u001b[0m\u001b[0;34m.\u001b[0m\u001b[0mzero\u001b[0m\u001b[0;34m(\u001b[0m\u001b[0;34m)\u001b[0m \u001b[0;32mif\u001b[0m \u001b[0mcondition\u001b[0m\u001b[0;34m(\u001b[0m\u001b[0mpart\u001b[0m\u001b[0;34m)\u001b[0m \u001b[0;32melse\u001b[0m \u001b[0mresPR\u001b[0m\u001b[0;34m(\u001b[0m\u001b[0me\u001b[0m\u001b[0;34m(\u001b[0m\u001b[0mpart\u001b[0m\u001b[0;34m,\u001b[0m \u001b[0mn\u001b[0m\u001b[0;34m,\u001b[0m \u001b[0malphabet\u001b[0m\u001b[0;34m)\u001b[0m\u001b[0;34m)\u001b[0m\u001b[0;34m\u001b[0m\u001b[0m\n\u001b[0;32m-> 4986\u001b[0;31m         \u001b[0;32mreturn\u001b[0m \u001b[0mparent\u001b[0m\u001b[0;34m.\u001b[0m\u001b[0m_apply_module_morphism\u001b[0m\u001b[0;34m(\u001b[0m\u001b[0mself\u001b[0m\u001b[0;34m,\u001b[0m \u001b[0mf\u001b[0m\u001b[0;34m)\u001b[0m\u001b[0;34m\u001b[0m\u001b[0m\n\u001b[0m\u001b[1;32m   4987\u001b[0m \u001b[0;34m\u001b[0m\u001b[0m\n\u001b[1;32m   4988\u001b[0m     \u001b[0;32mdef\u001b[0m \u001b[0mis_schur_positive\u001b[0m\u001b[0;34m(\u001b[0m\u001b[0mself\u001b[0m\u001b[0;34m)\u001b[0m\u001b[0;34m:\u001b[0m\u001b[0;34m\u001b[0m\u001b[0m\n",
      "\u001b[0;32m/opt/sagemath-8.6/local/lib/python2.7/site-packages/sage/categories/modules_with_basis.pyc\u001b[0m in \u001b[0;36m_apply_module_morphism\u001b[0;34m(self, x, on_basis, codomain)\u001b[0m\n\u001b[1;32m   1092\u001b[0m                 \u001b[0mkey\u001b[0m \u001b[0;34m=\u001b[0m \u001b[0mkeys\u001b[0m\u001b[0;34m[\u001b[0m\u001b[0;36m0\u001b[0m\u001b[0;34m]\u001b[0m\u001b[0;34m\u001b[0m\u001b[0m\n\u001b[1;32m   1093\u001b[0m                 \u001b[0;32mtry\u001b[0m\u001b[0;34m:\u001b[0m\u001b[0;34m\u001b[0m\u001b[0m\n\u001b[0;32m-> 1094\u001b[0;31m                     \u001b[0mcodomain\u001b[0m \u001b[0;34m=\u001b[0m \u001b[0mon_basis\u001b[0m\u001b[0;34m(\u001b[0m\u001b[0mkey\u001b[0m\u001b[0;34m)\u001b[0m\u001b[0;34m.\u001b[0m\u001b[0mparent\u001b[0m\u001b[0;34m(\u001b[0m\u001b[0;34m)\u001b[0m\u001b[0;34m\u001b[0m\u001b[0m\n\u001b[0m\u001b[1;32m   1095\u001b[0m                 \u001b[0;32mexcept\u001b[0m \u001b[0mException\u001b[0m\u001b[0;34m:\u001b[0m\u001b[0;34m\u001b[0m\u001b[0m\n\u001b[1;32m   1096\u001b[0m                     \u001b[0;32mraise\u001b[0m \u001b[0mValueError\u001b[0m\u001b[0;34m(\u001b[0m\u001b[0;34m'codomain could not be determined'\u001b[0m\u001b[0;34m)\u001b[0m\u001b[0;34m\u001b[0m\u001b[0m\n",
      "\u001b[0;32m/opt/sagemath-8.6/local/lib/python2.7/site-packages/sage/combinat/sf/sfa.pyc\u001b[0m in \u001b[0;36mf\u001b[0;34m(part)\u001b[0m\n\u001b[1;32m   4983\u001b[0m                 \u001b[0;32mreturn\u001b[0m \u001b[0mresPR\u001b[0m\u001b[0;34m.\u001b[0m\u001b[0mone\u001b[0m\u001b[0;34m(\u001b[0m\u001b[0;34m)\u001b[0m\u001b[0;34m\u001b[0m\u001b[0m\n\u001b[1;32m   4984\u001b[0m             \u001b[0;32melse\u001b[0m\u001b[0;34m:\u001b[0m\u001b[0;34m\u001b[0m\u001b[0m\n\u001b[0;32m-> 4985\u001b[0;31m                 \u001b[0;32mreturn\u001b[0m \u001b[0mresPR\u001b[0m\u001b[0;34m.\u001b[0m\u001b[0mzero\u001b[0m\u001b[0;34m(\u001b[0m\u001b[0;34m)\u001b[0m \u001b[0;32mif\u001b[0m \u001b[0mcondition\u001b[0m\u001b[0;34m(\u001b[0m\u001b[0mpart\u001b[0m\u001b[0;34m)\u001b[0m \u001b[0;32melse\u001b[0m \u001b[0mresPR\u001b[0m\u001b[0;34m(\u001b[0m\u001b[0me\u001b[0m\u001b[0;34m(\u001b[0m\u001b[0mpart\u001b[0m\u001b[0;34m,\u001b[0m \u001b[0mn\u001b[0m\u001b[0;34m,\u001b[0m \u001b[0malphabet\u001b[0m\u001b[0;34m)\u001b[0m\u001b[0;34m)\u001b[0m\u001b[0;34m\u001b[0m\u001b[0m\n\u001b[0m\u001b[1;32m   4986\u001b[0m         \u001b[0;32mreturn\u001b[0m \u001b[0mparent\u001b[0m\u001b[0;34m.\u001b[0m\u001b[0m_apply_module_morphism\u001b[0m\u001b[0;34m(\u001b[0m\u001b[0mself\u001b[0m\u001b[0;34m,\u001b[0m \u001b[0mf\u001b[0m\u001b[0;34m)\u001b[0m\u001b[0;34m\u001b[0m\u001b[0m\n\u001b[1;32m   4987\u001b[0m \u001b[0;34m\u001b[0m\u001b[0m\n",
      "\u001b[0;32m/opt/sagemath-8.6/local/lib/python2.7/site-packages/sage/libs/symmetrica/schur.pxi\u001b[0m in \u001b[0;36msage.libs.symmetrica.symmetrica.compute_monomial_with_alphabet_symmetrica (build/cythonized/sage/libs/symmetrica/symmetrica.c:20280)\u001b[0;34m()\u001b[0m\n\u001b[1;32m    306\u001b[0m     \u001b[0m_op_integer\u001b[0m\u001b[0;34m(\u001b[0m\u001b[0mlength\u001b[0m\u001b[0;34m,\u001b[0m \u001b[0mclength\u001b[0m\u001b[0;34m)\u001b[0m\u001b[0;34m\u001b[0m\u001b[0m\n\u001b[1;32m    307\u001b[0m \u001b[0;34m\u001b[0m\u001b[0m\n\u001b[0;32m--> 308\u001b[0;31m     \u001b[0msig_on\u001b[0m\u001b[0;34m(\u001b[0m\u001b[0;34m)\u001b[0m\u001b[0;34m\u001b[0m\u001b[0m\n\u001b[0m\u001b[1;32m    309\u001b[0m     \u001b[0mcompute_monomial_with_alphabet\u001b[0m\u001b[0;34m(\u001b[0m\u001b[0mcn\u001b[0m\u001b[0;34m,\u001b[0m \u001b[0mclength\u001b[0m\u001b[0;34m,\u001b[0m \u001b[0mcresult\u001b[0m\u001b[0;34m)\u001b[0m\u001b[0;34m\u001b[0m\u001b[0m\n\u001b[1;32m    310\u001b[0m     \u001b[0msig_off\u001b[0m\u001b[0;34m(\u001b[0m\u001b[0;34m)\u001b[0m\u001b[0;34m\u001b[0m\u001b[0m\n",
      "\u001b[0;31mKeyboardInterrupt\u001b[0m: "
     ]
    }
   ],
   "source": [
    "qq(2)"
   ]
  },
  {
   "cell_type": "code",
   "execution_count": null,
   "metadata": {},
   "outputs": [],
   "source": []
  }
 ],
 "metadata": {
  "kernelspec": {
   "display_name": "SageMath 8.6",
   "language": "",
   "name": "sagemath"
  },
  "language_info": {
   "codemirror_mode": {
    "name": "ipython",
    "version": 2
   },
   "file_extension": ".py",
   "mimetype": "text/x-python",
   "name": "python",
   "nbconvert_exporter": "python",
   "pygments_lexer": "ipython2",
   "version": "2.7.15"
  }
 },
 "nbformat": 4,
 "nbformat_minor": 2
}
