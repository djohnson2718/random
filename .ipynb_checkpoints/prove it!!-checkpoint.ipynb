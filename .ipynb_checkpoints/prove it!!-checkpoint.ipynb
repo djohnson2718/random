{
 "cells": [
  {
   "cell_type": "code",
   "execution_count": null,
   "metadata": {},
   "outputs": [],
   "source": [
    "s=SymmetricFunctions(QQ).schur()"
   ]
  },
  {
   "cell_type": "code",
   "execution_count": 163,
   "metadata": {},
   "outputs": [],
   "source": [
    "t = tensor([s[1],s[1]])\n",
    "def find(m):\n",
    "    n = 2*m-1\n",
    "    \n",
    "    print \"for 2222..21:\"\n",
    "    for tt, c in s[[2]*(m-1) + [1]](t).monomial_coefficients().items():\n",
    "        #print tt, tt[0], [1]*(2*m-1)\n",
    "        \n",
    "        if tt[0] == [1]*(2*m-1):\n",
    "            print tt\n",
    "            \n",
    "    print \"for 22222..22, tensor C^n*\"\n",
    "    for tt, c in (s[[2]*m](t)*tensor([s[[1]*(n-1)],s(1)])).monomial_coefficients().items():\n",
    "        if tt[0] == [2]*(2*m-1):\n",
    "            print tt\n",
    "        "
   ]
  },
  {
   "cell_type": "code",
   "execution_count": 164,
   "metadata": {},
   "outputs": [
    {
     "name": "stdout",
     "output_type": "stream",
     "text": [
      "for 2222..21:\n",
      "([1], [1])\n",
      "for 22222..22, tensor Vd\n",
      "([2], [2])\n"
     ]
    }
   ],
   "source": [
    "find(1)"
   ]
  },
  {
   "cell_type": "code",
   "execution_count": 165,
   "metadata": {},
   "outputs": [
    {
     "name": "stdout",
     "output_type": "stream",
     "text": [
      "for 2222..21:\n",
      "([1, 1, 1], [2, 1])\n",
      "for 22222..22, tensor Vd\n",
      "([2, 2, 2], [2, 1, 1])\n",
      "([2, 2, 2], [3, 1])\n"
     ]
    }
   ],
   "source": [
    "find(2)"
   ]
  },
  {
   "cell_type": "code",
   "execution_count": 166,
   "metadata": {},
   "outputs": [
    {
     "name": "stdout",
     "output_type": "stream",
     "text": [
      "for 2222..21:\n",
      "([1, 1, 1, 1, 1], [3, 2])\n",
      "for 22222..22, tensor Vd\n",
      "([2, 2, 2, 2, 2], [4, 2])\n",
      "([2, 2, 2, 2, 2], [3, 2, 1])\n"
     ]
    }
   ],
   "source": [
    "find(3)"
   ]
  },
  {
   "cell_type": "code",
   "execution_count": 167,
   "metadata": {},
   "outputs": [
    {
     "name": "stdout",
     "output_type": "stream",
     "text": [
      "for 2222..21:\n",
      "([1, 1, 1, 1, 1, 1, 1], [4, 3])\n",
      "for 22222..22, tensor Vd\n",
      "([2, 2, 2, 2, 2, 2, 2], [5, 3])\n",
      "([2, 2, 2, 2, 2, 2, 2], [4, 3, 1])\n"
     ]
    }
   ],
   "source": [
    "find(4)"
   ]
  },
  {
   "cell_type": "code",
   "execution_count": 168,
   "metadata": {},
   "outputs": [
    {
     "name": "stdout",
     "output_type": "stream",
     "text": [
      "for 2222..21:\n",
      "([1, 1, 1, 1, 1, 1, 1, 1, 1], [5, 4])\n",
      "for 22222..22, tensor Vd\n",
      "([2, 2, 2, 2, 2, 2, 2, 2, 2], [6, 4])\n",
      "([2, 2, 2, 2, 2, 2, 2, 2, 2], [5, 4, 1])\n"
     ]
    }
   ],
   "source": [
    "find(5)"
   ]
  },
  {
   "cell_type": "code",
   "execution_count": 169,
   "metadata": {},
   "outputs": [
    {
     "name": "stdout",
     "output_type": "stream",
     "text": [
      "for 2222..21:\n",
      "([1, 1, 1, 1, 1, 1, 1, 1, 1, 1, 1], [6, 5])\n",
      "for 22222..22, tensor Vd\n",
      "([2, 2, 2, 2, 2, 2, 2, 2, 2, 2, 2], [6, 5, 1])\n",
      "([2, 2, 2, 2, 2, 2, 2, 2, 2, 2, 2], [7, 5])\n"
     ]
    }
   ],
   "source": [
    "find(6)"
   ]
  },
  {
   "cell_type": "code",
   "execution_count": 172,
   "metadata": {},
   "outputs": [
    {
     "name": "stdout",
     "output_type": "stream",
     "text": [
      "2 s[2, 1, 1] + s[2, 2] + s[3, 1]\n",
      "3 s[3, 2, 1] + s[3, 3] + s[4, 2]\n",
      "4 s[4, 3, 1] + s[4, 4] + s[5, 3]\n",
      "5 s[5, 4, 1] + s[5, 5] + s[6, 4]\n",
      "6 s[6, 5, 1] + s[6, 6] + s[7, 5]\n",
      "7 s[7, 6, 1] + s[7, 7] + s[8, 6]\n"
     ]
    }
   ],
   "source": [
    "for m in range(2,8):\n",
    "    print m, s[m,m-1]*s[1]"
   ]
  },
  {
   "cell_type": "code",
   "execution_count": 177,
   "metadata": {},
   "outputs": [
    {
     "name": "stdout",
     "output_type": "stream",
     "text": [
      "2 **** -s[4, 4, 2] + s[5, 5] + s[7, 3]\n",
      "\n",
      "3 **** -s[5, 5, 4] - s[6, 5, 3] - s[7, 4, 3] - s[7, 5, 2] - s[8, 3, 3] + s[8, 6] + s[10, 4]\n",
      "\n",
      "4 **** -s[7, 6, 5] - s[8, 5, 5] - 3*s[8, 6, 4] - s[8, 7, 3] - s[8, 8, 2] - s[9, 5, 4] - 2*s[9, 6, 3] + s[9, 9] - s[10, 4, 4] - 2*s[10, 5, 3] - s[10, 6, 2] - s[11, 4, 3] + s[11, 7] + s[13, 5]\n",
      "\n",
      "5 **** -s[8, 7, 7] - 2*s[9, 7, 6] - 2*s[9, 8, 5] - 2*s[9, 9, 4] - s[10, 6, 6] - 4*s[10, 7, 5] - 2*s[10, 8, 4] - s[10, 9, 3] - 3*s[11, 6, 5] - 4*s[11, 7, 4] - 2*s[11, 8, 3] - s[11, 9, 2] - 2*s[12, 5, 5] - 2*s[12, 6, 4] - 3*s[12, 7, 3] + s[12, 10] - 2*s[13, 5, 4] - 2*s[13, 6, 3] - s[13, 7, 2] - s[14, 5, 3] + s[14, 8] + s[16, 6]\n",
      "\n",
      "6 **** -s[10, 8, 8] - 2*s[10, 9, 7] - 2*s[10, 10, 6] - 3*s[11, 8, 7] - 3*s[11, 9, 6] - 3*s[11, 10, 5] - 2*s[12, 7, 7] - 6*s[12, 8, 6] - 5*s[12, 9, 5] - 4*s[12, 10, 4] - s[12, 11, 3] - s[12, 12, 2] - 4*s[13, 7, 6] - 6*s[13, 8, 5] - 3*s[13, 9, 4] - 2*s[13, 10, 3] + s[13, 13] - 2*s[14, 6, 6] - 5*s[14, 7, 5] - 5*s[14, 8, 4] - 3*s[14, 9, 3] - s[14, 10, 2] - 3*s[15, 6, 5] - 3*s[15, 7, 4] - 3*s[15, 8, 3] + s[15, 11] - s[16, 5, 5] - 2*s[16, 6, 4] - 2*s[16, 7, 3] - s[16, 8, 2] - s[17, 6, 3] + s[17, 9] + s[19, 7]\n",
      "\n",
      "7 **** -s[11, 10, 9] - 2*s[11, 11, 8] - 2*s[12, 9, 9] - 2*s[12, 10, 8] - 4*s[12, 11, 7] - s[12, 12, 6] - 5*s[13, 9, 8] - 6*s[13, 10, 7] - 6*s[13, 11, 6] - 3*s[13, 12, 5] - 2*s[13, 13, 4] - 2*s[14, 8, 8] - 8*s[14, 9, 7] - 7*s[14, 10, 6] - 6*s[14, 11, 5] - 2*s[14, 12, 4] - s[14, 13, 3] - 6*s[15, 8, 7] - 9*s[15, 9, 6] - 7*s[15, 10, 5] - 5*s[15, 11, 4] - 2*s[15, 12, 3] - s[15, 13, 2] - 4*s[16, 7, 7] - 6*s[16, 8, 6] - 8*s[16, 9, 5] - 4*s[16, 10, 4] - 3*s[16, 11, 3] + s[16, 14] - 4*s[17, 7, 6] - 6*s[17, 8, 5] - 6*s[17, 9, 4] - 3*s[17, 10, 3] - s[17, 11, 2] - s[18, 6, 6] - 4*s[18, 7, 5] - 3*s[18, 8, 4] - 3*s[18, 9, 3] + s[18, 12] - s[19, 6, 5] - 2*s[19, 7, 4] - 2*s[19, 8, 3] - s[19, 9, 2] - s[20, 7, 3] + s[20, 10] + s[22, 8]\n",
      "\n"
     ]
    }
   ],
   "source": [
    "W = s[2]\n",
    "Wd=s[2,2]\n",
    "V = s[1]\n",
    "Vd= s[1,1]\n",
    "\n",
    "for m in range(2,8):\n",
    "    print m,\"****\",(s[m,m](W)*Vd - s[m,m-1](W)*V*s[1,1,1]).restrict_partition_lengths(3,exact=False)\n",
    "    print"
   ]
  },
  {
   "cell_type": "code",
   "execution_count": 186,
   "metadata": {},
   "outputs": [
    {
     "data": {
      "text/plain": [
       "111"
      ]
     },
     "execution_count": 186,
     "metadata": {},
     "output_type": "execute_result"
    }
   ],
   "source": [
    "s[5,5].expand(3)(1,1,1) + s[7,3].expand(3)(1,1,1)"
   ]
  },
  {
   "cell_type": "code",
   "execution_count": 2,
   "metadata": {},
   "outputs": [
    {
     "ename": "NameError",
     "evalue": "name 's' is not defined",
     "output_type": "error",
     "traceback": [
      "\u001b[0;31m---------------------------------------------------------------------------\u001b[0m",
      "\u001b[0;31mNameError\u001b[0m                                 Traceback (most recent call last)",
      "\u001b[0;32m<ipython-input-2-f39573e15ce1>\u001b[0m in \u001b[0;36m<module>\u001b[0;34m()\u001b[0m\n\u001b[0;32m----> 1\u001b[0;31m \u001b[0ms\u001b[0m\u001b[0;34m[\u001b[0m\u001b[0mInteger\u001b[0m\u001b[0;34m(\u001b[0m\u001b[0;36m5\u001b[0m\u001b[0;34m)\u001b[0m\u001b[0;34m,\u001b[0m\u001b[0mInteger\u001b[0m\u001b[0;34m(\u001b[0m\u001b[0;36m5\u001b[0m\u001b[0;34m)\u001b[0m\u001b[0;34m]\u001b[0m\u001b[0;34m.\u001b[0m\u001b[0mexpand\u001b[0m\u001b[0;34m(\u001b[0m\u001b[0mInteger\u001b[0m\u001b[0;34m(\u001b[0m\u001b[0;36m3\u001b[0m\u001b[0;34m)\u001b[0m\u001b[0;34m)\u001b[0m\u001b[0;34m(\u001b[0m\u001b[0mInteger\u001b[0m\u001b[0;34m(\u001b[0m\u001b[0;36m1\u001b[0m\u001b[0;34m)\u001b[0m\u001b[0;34m,\u001b[0m\u001b[0mInteger\u001b[0m\u001b[0;34m(\u001b[0m\u001b[0;36m1\u001b[0m\u001b[0;34m)\u001b[0m\u001b[0;34m,\u001b[0m\u001b[0mInteger\u001b[0m\u001b[0;34m(\u001b[0m\u001b[0;36m1\u001b[0m\u001b[0;34m)\u001b[0m\u001b[0;34m)\u001b[0m\u001b[0;34m\u001b[0m\u001b[0m\n\u001b[0m",
      "\u001b[0;31mNameError\u001b[0m: name 's' is not defined"
     ]
    }
   ],
   "source": [
    "s[5,5].expand(3)(1,1,1) "
   ]
  },
  {
   "cell_type": "code",
   "execution_count": 189,
   "metadata": {},
   "outputs": [
    {
     "data": {
      "text/plain": [
       "-x0^4*x1^4*x2^2 - x0^4*x1^3*x2^3 - x0^3*x1^4*x2^3 - x0^4*x1^2*x2^4 - x0^3*x1^3*x2^4 - x0^2*x1^4*x2^4"
      ]
     },
     "execution_count": 189,
     "metadata": {},
     "output_type": "execute_result"
    }
   ],
   "source": [
    "-s[4, 4, 2].expand(3)"
   ]
  },
  {
   "cell_type": "code",
   "execution_count": 178,
   "metadata": {},
   "outputs": [
    {
     "data": {
      "text/plain": [
       "x0^2 + x0*x1 + x1^2 + x0*x2 + x1*x2 + x2^2"
      ]
     },
     "execution_count": 178,
     "metadata": {},
     "output_type": "execute_result"
    }
   ],
   "source": [
    "s[2].expand(3)"
   ]
  },
  {
   "cell_type": "code",
   "execution_count": 179,
   "metadata": {},
   "outputs": [
    {
     "data": {
      "text/plain": [
       "x0^2*x1^2 + x0^2*x1*x2 + x0*x1^2*x2 + x0^2*x2^2 + x0*x1*x2^2 + x1^2*x2^2 + x0^2*x1*x3 + x0*x1^2*x3 + x0^2*x2*x3 + 2*x0*x1*x2*x3 + x1^2*x2*x3 + x0*x2^2*x3 + x1*x2^2*x3 + x0^2*x3^2 + x0*x1*x3^2 + x1^2*x3^2 + x0*x2*x3^2 + x1*x2*x3^2 + x2^2*x3^2 + x0^2*x1*x4 + x0*x1^2*x4 + x0^2*x2*x4 + 2*x0*x1*x2*x4 + x1^2*x2*x4 + x0*x2^2*x4 + x1*x2^2*x4 + x0^2*x3*x4 + 2*x0*x1*x3*x4 + x1^2*x3*x4 + 2*x0*x2*x3*x4 + 2*x1*x2*x3*x4 + x2^2*x3*x4 + x0*x3^2*x4 + x1*x3^2*x4 + x2*x3^2*x4 + x0^2*x4^2 + x0*x1*x4^2 + x1^2*x4^2 + x0*x2*x4^2 + x1*x2*x4^2 + x2^2*x4^2 + x0*x3*x4^2 + x1*x3*x4^2 + x2*x3*x4^2 + x3^2*x4^2 + x0^2*x1*x5 + x0*x1^2*x5 + x0^2*x2*x5 + 2*x0*x1*x2*x5 + x1^2*x2*x5 + x0*x2^2*x5 + x1*x2^2*x5 + x0^2*x3*x5 + 2*x0*x1*x3*x5 + x1^2*x3*x5 + 2*x0*x2*x3*x5 + 2*x1*x2*x3*x5 + x2^2*x3*x5 + x0*x3^2*x5 + x1*x3^2*x5 + x2*x3^2*x5 + x0^2*x4*x5 + 2*x0*x1*x4*x5 + x1^2*x4*x5 + 2*x0*x2*x4*x5 + 2*x1*x2*x4*x5 + x2^2*x4*x5 + 2*x0*x3*x4*x5 + 2*x1*x3*x4*x5 + 2*x2*x3*x4*x5 + x3^2*x4*x5 + x0*x4^2*x5 + x1*x4^2*x5 + x2*x4^2*x5 + x3*x4^2*x5 + x0^2*x5^2 + x0*x1*x5^2 + x1^2*x5^2 + x0*x2*x5^2 + x1*x2*x5^2 + x2^2*x5^2 + x0*x3*x5^2 + x1*x3*x5^2 + x2*x3*x5^2 + x3^2*x5^2 + x0*x4*x5^2 + x1*x4*x5^2 + x2*x4*x5^2 + x3*x4*x5^2 + x4^2*x5^2"
      ]
     },
     "execution_count": 179,
     "metadata": {},
     "output_type": "execute_result"
    }
   ],
   "source": [
    "s[2,2].expand(6)"
   ]
  },
  {
   "cell_type": "code",
   "execution_count": 127,
   "metadata": {},
   "outputs": [
    {
     "data": {
      "text/plain": [
       "(([1], [1]), 1)"
      ]
     },
     "execution_count": 127,
     "metadata": {},
     "output_type": "execute_result"
    }
   ],
   "source": [
    "t.monomial_coefficients().items()[0]"
   ]
  },
  {
   "cell_type": "code",
   "execution_count": 5,
   "metadata": {},
   "outputs": [
    {
     "data": {
      "text/plain": [
       "x0^2*x1^2 + x0^2*x1*x2 + x0*x1^2*x2 + x0^2*x2^2 + x0*x1*x2^2 + x1^2*x2^2"
      ]
     },
     "execution_count": 5,
     "metadata": {},
     "output_type": "execute_result"
    }
   ],
   "source": [
    "s[2,2].expand(3)"
   ]
  },
  {
   "cell_type": "code",
   "execution_count": 6,
   "metadata": {},
   "outputs": [
    {
     "data": {
      "text/plain": [
       "x0^2 + x0*x1 + x1^2 + x0*x2 + x1*x2 + x2^2"
      ]
     },
     "execution_count": 6,
     "metadata": {},
     "output_type": "execute_result"
    }
   ],
   "source": [
    "s[2].expand(3)"
   ]
  },
  {
   "cell_type": "code",
   "execution_count": 107,
   "metadata": {},
   "outputs": [
    {
     "data": {
      "text/plain": [
       "s[2, 2] + s[4]"
      ]
     },
     "execution_count": 107,
     "metadata": {},
     "output_type": "execute_result"
    }
   ],
   "source": [
    "s[2](s[2])"
   ]
  },
  {
   "cell_type": "code",
   "execution_count": 7,
   "metadata": {},
   "outputs": [],
   "source": [
    "t = tensor([s[1],s[1]])"
   ]
  },
  {
   "cell_type": "code",
   "execution_count": 9,
   "metadata": {
    "scrolled": true
   },
   "outputs": [
    {
     "data": {
      "text/plain": [
       "[s[3, 2] # s[4, 1],\n",
       " s[2, 2, 1] # s[2, 1, 1, 1],\n",
       " s[4, 1] # s[2, 2, 1],\n",
       " s[4, 1] # s[3, 2],\n",
       " s[3, 1, 1] # s[2, 1, 1, 1],\n",
       " s[5] # s[2, 2, 1],\n",
       " s[2, 1, 1, 1] # s[4, 1],\n",
       " s[2, 2, 1] # s[3, 1, 1],\n",
       " s[2, 1, 1, 1] # s[3, 2],\n",
       " s[2, 1, 1, 1] # s[3, 1, 1],\n",
       " s[2, 2, 1] # s[5],\n",
       " s[3, 1, 1] # s[3, 1, 1],\n",
       " s[3, 2] # s[1, 1, 1, 1, 1],\n",
       " s[3, 2] # s[3, 2],\n",
       " s[2, 1, 1, 1] # s[2, 2, 1],\n",
       " s[1, 1, 1, 1, 1] # s[3, 2],\n",
       " s[2, 2, 1] # s[4, 1],\n",
       " s[3, 1, 1] # s[3, 2],\n",
       " s[3, 1, 1] # s[4, 1],\n",
       " s[2, 2, 1] # s[3, 2],\n",
       " s[3, 1, 1] # s[2, 2, 1],\n",
       " s[3, 2] # s[2, 2, 1],\n",
       " s[4, 1] # s[3, 1, 1],\n",
       " s[2, 2, 1] # s[2, 2, 1],\n",
       " s[4, 1] # s[2, 1, 1, 1],\n",
       " s[3, 2] # s[3, 1, 1],\n",
       " s[3, 2] # s[2, 1, 1, 1]]"
      ]
     },
     "execution_count": 9,
     "metadata": {},
     "output_type": "execute_result"
    }
   ],
   "source": [
    "s[2,2,1](t).monomials()"
   ]
  },
  {
   "cell_type": "code",
   "execution_count": 10,
   "metadata": {},
   "outputs": [
    {
     "data": {
      "text/plain": [
       "[s[3, 2, 2] # s[4, 3],\n",
       " s[3, 3, 1] # s[2, 2, 2, 1],\n",
       " s[3, 2, 1, 1] # s[5, 2],\n",
       " s[3, 2, 1, 1] # s[4, 1, 1, 1],\n",
       " s[4, 3] # s[2, 1, 1, 1, 1, 1],\n",
       " s[4, 2, 1] # s[3, 1, 1, 1, 1],\n",
       " s[2, 2, 2, 1] # s[4, 3],\n",
       " s[5, 2] # s[3, 2, 1, 1],\n",
       " s[2, 2, 2, 1] # s[5, 2],\n",
       " s[5, 1, 1] # s[3, 1, 1, 1, 1],\n",
       " s[3, 2, 1, 1] # s[3, 2, 2],\n",
       " s[2, 2, 1, 1, 1] # s[4, 2, 1],\n",
       " s[3, 1, 1, 1, 1] # s[3, 2, 2],\n",
       " s[5, 1, 1] # s[2, 2, 2, 1],\n",
       " s[3, 2, 2] # s[3, 2, 2],\n",
       " s[4, 3] # s[3, 2, 2],\n",
       " s[4, 1, 1, 1] # s[3, 3, 1],\n",
       " s[3, 3, 1] # s[5, 1, 1],\n",
       " s[4, 3] # s[1, 1, 1, 1, 1, 1, 1],\n",
       " s[6, 1] # s[3, 2, 1, 1],\n",
       " s[3, 2, 2] # s[5, 2],\n",
       " s[5, 1, 1] # s[3, 2, 1, 1],\n",
       " s[2, 2, 2, 1] # s[3, 3, 1],\n",
       " s[3, 2, 1, 1] # s[4, 3],\n",
       " s[3, 2, 2] # s[6, 1],\n",
       " s[5, 2] # s[3, 3, 1],\n",
       " s[2, 2, 1, 1, 1] # s[3, 2, 2],\n",
       " s[5, 1, 1] # s[3, 2, 2],\n",
       " s[2, 2, 1, 1, 1] # s[4, 3],\n",
       " s[4, 2, 1] # s[2, 2, 2, 1],\n",
       " s[2, 2, 2, 1] # s[6, 1],\n",
       " s[5, 2] # s[4, 2, 1],\n",
       " s[5, 2] # s[3, 2, 2],\n",
       " s[2, 2, 2, 1] # s[4, 1, 1, 1],\n",
       " s[2, 2, 1, 1, 1] # s[5, 2],\n",
       " s[6, 1] # s[2, 2, 1, 1, 1],\n",
       " s[2, 2, 2, 1] # s[3, 2, 1, 1],\n",
       " s[5, 2] # s[2, 2, 2, 1],\n",
       " s[4, 2, 1] # s[3, 2, 2],\n",
       " s[2, 2, 1, 1, 1] # s[3, 2, 1, 1],\n",
       " s[3, 2, 2] # s[4, 1, 1, 1],\n",
       " s[3, 2, 1, 1] # s[2, 2, 2, 1],\n",
       " s[4, 2, 1] # s[5, 1, 1],\n",
       " s[3, 2, 1, 1] # s[3, 3, 1],\n",
       " s[4, 3] # s[3, 2, 1, 1],\n",
       " s[3, 2, 2] # s[3, 2, 1, 1],\n",
       " s[3, 1, 1, 1, 1] # s[4, 3],\n",
       " s[2, 2, 2, 1] # s[4, 2, 1],\n",
       " s[4, 1, 1, 1] # s[4, 3],\n",
       " s[3, 3, 1] # s[3, 3, 1],\n",
       " s[3, 2, 2] # s[2, 2, 2, 1],\n",
       " s[3, 3, 1] # s[3, 1, 1, 1, 1],\n",
       " s[4, 2, 1] # s[2, 2, 1, 1, 1],\n",
       " s[7] # s[2, 2, 2, 1],\n",
       " s[3, 3, 1] # s[3, 2, 1, 1],\n",
       " s[4, 2, 1] # s[4, 1, 1, 1],\n",
       " s[3, 3, 1] # s[2, 1, 1, 1, 1, 1],\n",
       " s[3, 1, 1, 1, 1] # s[5, 1, 1],\n",
       " s[3, 2, 1, 1] # s[4, 2, 1],\n",
       " s[5, 1, 1] # s[2, 2, 1, 1, 1],\n",
       " s[3, 3, 1] # s[4, 1, 1, 1],\n",
       " s[4, 2, 1] # s[3, 2, 1, 1],\n",
       " s[3, 2, 1, 1] # s[3, 1, 1, 1, 1],\n",
       " s[6, 1] # s[2, 2, 2, 1],\n",
       " s[3, 2, 2] # s[3, 3, 1],\n",
       " s[3, 1, 1, 1, 1] # s[4, 2, 1],\n",
       " s[4, 1, 1, 1] # s[4, 2, 1],\n",
       " s[4, 3] # s[4, 2, 1],\n",
       " s[3, 1, 1, 1, 1] # s[5, 2],\n",
       " s[3, 2, 2] # s[5, 1, 1],\n",
       " s[2, 2, 2, 1] # s[7],\n",
       " s[4, 2, 1] # s[5, 2],\n",
       " s[3, 2, 1, 1] # s[5, 1, 1],\n",
       " s[4, 2, 1] # s[4, 2, 1],\n",
       " s[5, 1, 1] # s[4, 1, 1, 1],\n",
       " s[2, 2, 2, 1] # s[2, 2, 2, 1],\n",
       " s[3, 2, 2] # s[3, 1, 1, 1, 1],\n",
       " s[4, 1, 1, 1] # s[5, 1, 1],\n",
       " s[4, 1, 1, 1] # s[3, 2, 1, 1],\n",
       " s[2, 2, 2, 1] # s[3, 2, 2],\n",
       " s[3, 3, 1] # s[3, 2, 2],\n",
       " s[4, 2, 1] # s[4, 3],\n",
       " s[3, 1, 1, 1, 1] # s[4, 1, 1, 1],\n",
       " s[2, 2, 1, 1, 1] # s[5, 1, 1],\n",
       " s[3, 1, 1, 1, 1] # s[3, 3, 1],\n",
       " s[4, 3] # s[4, 3],\n",
       " s[5, 2] # s[3, 1, 1, 1, 1],\n",
       " s[4, 1, 1, 1] # s[4, 1, 1, 1],\n",
       " s[2, 1, 1, 1, 1, 1] # s[5, 2],\n",
       " s[2, 1, 1, 1, 1, 1] # s[3, 3, 1],\n",
       " s[3, 2, 2] # s[4, 2, 1],\n",
       " s[4, 1, 1, 1] # s[3, 2, 2],\n",
       " s[4, 2, 1] # s[3, 3, 1],\n",
       " s[1, 1, 1, 1, 1, 1, 1] # s[4, 3],\n",
       " s[3, 2, 1, 1] # s[3, 2, 1, 1],\n",
       " s[3, 1, 1, 1, 1] # s[3, 2, 1, 1],\n",
       " s[4, 1, 1, 1] # s[3, 1, 1, 1, 1],\n",
       " s[4, 2, 1] # s[2, 1, 1, 1, 1, 1],\n",
       " s[3, 3, 1] # s[4, 3],\n",
       " s[3, 2, 1, 1] # s[2, 2, 1, 1, 1],\n",
       " s[4, 1, 1, 1] # s[2, 2, 2, 1],\n",
       " s[2, 1, 1, 1, 1, 1] # s[4, 3],\n",
       " s[3, 3, 1] # s[4, 2, 1],\n",
       " s[4, 3] # s[2, 2, 1, 1, 1],\n",
       " s[2, 2, 1, 1, 1] # s[6, 1],\n",
       " s[5, 1, 1] # s[4, 2, 1],\n",
       " s[4, 3] # s[3, 1, 1, 1, 1],\n",
       " s[2, 1, 1, 1, 1, 1] # s[4, 2, 1],\n",
       " s[5, 2] # s[2, 1, 1, 1, 1, 1],\n",
       " s[5, 2] # s[2, 2, 1, 1, 1],\n",
       " s[4, 3] # s[3, 3, 1],\n",
       " s[2, 2, 2, 1] # s[5, 1, 1],\n",
       " s[6, 1] # s[3, 2, 2],\n",
       " s[3, 3, 1] # s[2, 2, 1, 1, 1],\n",
       " s[4, 3] # s[4, 1, 1, 1],\n",
       " s[2, 2, 1, 1, 1] # s[3, 3, 1],\n",
       " s[3, 2, 2] # s[2, 2, 1, 1, 1],\n",
       " s[3, 3, 1] # s[5, 2],\n",
       " s[4, 3] # s[2, 2, 2, 1],\n",
       " s[5, 1, 1] # s[3, 3, 1],\n",
       " s[3, 2, 1, 1] # s[6, 1]]"
      ]
     },
     "execution_count": 10,
     "metadata": {},
     "output_type": "execute_result"
    }
   ],
   "source": [
    "s[2,2,2,1](t).monomials()"
   ]
  },
  {
   "cell_type": "code",
   "execution_count": 11,
   "metadata": {},
   "outputs": [
    {
     "data": {
      "text/plain": [
       "s[1, 1, 1, 1] # s[2, 2] + s[2, 1, 1] # s[2, 1, 1] + s[2, 1, 1] # s[3, 1] + s[2, 2] # s[1, 1, 1, 1] + s[2, 2] # s[2, 2] + s[2, 2] # s[4] + s[3, 1] # s[2, 1, 1] + s[3, 1] # s[3, 1] + s[4] # s[2, 2]"
      ]
     },
     "execution_count": 11,
     "metadata": {},
     "output_type": "execute_result"
    }
   ],
   "source": [
    "s[2,2](t)"
   ]
  },
  {
   "cell_type": "code",
   "execution_count": 116,
   "metadata": {},
   "outputs": [
    {
     "data": {
      "text/plain": [
       "{([1, 1, 1, 1, 1, 1], [2, 2]): 1,\n",
       " ([2, 1, 1, 1, 1], [2, 1, 1]): 1,\n",
       " ([2, 1, 1, 1, 1], [2, 2]): 1,\n",
       " ([2, 1, 1, 1, 1], [3, 1]): 1,\n",
       " ([2, 2, 1, 1], [1, 1, 1, 1]): 1,\n",
       " ([2, 2, 1, 1], [2, 1, 1]): 1,\n",
       " ([2, 2, 1, 1], [2, 2]): 2,\n",
       " ([2, 2, 1, 1], [3, 1]): 1,\n",
       " ([2, 2, 1, 1], [4]): 1,\n",
       " ([2, 2, 2], [2, 1, 1]): 1,\n",
       " ([2, 2, 2], [3, 1]): 1,\n",
       " ([3, 1, 1, 1], [2, 1, 1]): 2,\n",
       " ([3, 1, 1, 1], [3, 1]): 2,\n",
       " ([3, 2, 1], [1, 1, 1, 1]): 1,\n",
       " ([3, 2, 1], [2, 1, 1]): 2,\n",
       " ([3, 2, 1], [2, 2]): 1,\n",
       " ([3, 2, 1], [3, 1]): 2,\n",
       " ([3, 2, 1], [4]): 1,\n",
       " ([3, 3], [1, 1, 1, 1]): 1,\n",
       " ([3, 3], [2, 2]): 1,\n",
       " ([3, 3], [4]): 1,\n",
       " ([4, 1, 1], [2, 1, 1]): 1,\n",
       " ([4, 1, 1], [2, 2]): 1,\n",
       " ([4, 1, 1], [3, 1]): 1,\n",
       " ([4, 2], [2, 1, 1]): 1,\n",
       " ([4, 2], [3, 1]): 1,\n",
       " ([5, 1], [2, 2]): 1}"
      ]
     },
     "execution_count": 116,
     "metadata": {},
     "output_type": "execute_result"
    }
   ],
   "source": [
    "(s[2,2](t)*tensor([s[1,1],s(1)])).monomial_coefficients()"
   ]
  },
  {
   "cell_type": "code",
   "execution_count": 20,
   "metadata": {},
   "outputs": [
    {
     "data": {
      "text/plain": [
       "[s[4, 3, 1, 1, 1] # s[3, 2, 1],\n",
       " s[4, 1, 1, 1, 1, 1, 1] # s[4, 1, 1],\n",
       " s[4, 2, 2, 2] # s[4, 2],\n",
       " s[2, 2, 2, 2, 1, 1] # s[3, 2, 1],\n",
       " s[4, 2, 1, 1, 1, 1] # s[3, 3],\n",
       " s[4, 2, 2, 2] # s[2, 2, 2],\n",
       " s[4, 1, 1, 1, 1, 1, 1] # s[3, 3],\n",
       " s[3, 3, 2, 1, 1] # s[4, 1, 1],\n",
       " s[3, 3, 1, 1, 1, 1] # s[2, 2, 1, 1],\n",
       " s[4, 3, 1, 1, 1] # s[5, 1],\n",
       " s[3, 2, 2, 1, 1, 1] # s[3, 3],\n",
       " s[3, 2, 1, 1, 1, 1, 1] # s[5, 1],\n",
       " s[5, 2, 2, 1] # s[3, 2, 1],\n",
       " s[4, 1, 1, 1, 1, 1, 1] # s[2, 2, 1, 1],\n",
       " s[3, 3, 3, 1] # s[6],\n",
       " s[2, 2, 2, 2, 1, 1] # s[4, 1, 1],\n",
       " s[3, 3, 2, 1, 1] # s[2, 2, 2],\n",
       " s[2, 2, 2, 1, 1, 1, 1] # s[4, 2],\n",
       " s[3, 2, 1, 1, 1, 1, 1] # s[3, 2, 1],\n",
       " s[4, 1, 1, 1, 1, 1, 1] # s[3, 1, 1, 1],\n",
       " s[4, 2, 2, 1, 1] # s[2, 2, 2],\n",
       " s[6, 2, 1, 1] # s[2, 2, 1, 1],\n",
       " s[4, 4, 1, 1] # s[4, 1, 1],\n",
       " s[5, 2, 1, 1, 1] # s[3, 1, 1, 1],\n",
       " s[2, 2, 2, 2, 1, 1] # s[5, 1],\n",
       " s[4, 3, 2, 1] # s[4, 2],\n",
       " s[4, 4, 1, 1] # s[1, 1, 1, 1, 1, 1],\n",
       " s[4, 2, 1, 1, 1, 1] # s[2, 2, 2],\n",
       " s[5, 1, 1, 1, 1, 1] # s[3, 3],\n",
       " s[4, 2, 2, 1, 1] # s[2, 2, 1, 1],\n",
       " s[3, 2, 2, 1, 1, 1] # s[2, 2, 1, 1],\n",
       " s[2, 2, 2, 2, 1, 1] # s[4, 2],\n",
       " s[5, 2, 1, 1, 1] # s[4, 2],\n",
       " s[2, 2, 2, 1, 1, 1, 1] # s[6],\n",
       " s[2, 2, 2, 2, 2] # s[3, 2, 1],\n",
       " s[3, 3, 1, 1, 1, 1] # s[3, 1, 1, 1],\n",
       " s[4, 1, 1, 1, 1, 1, 1] # s[4, 2],\n",
       " s[3, 3, 2, 1, 1] # s[3, 1, 1, 1],\n",
       " s[4, 2, 1, 1, 1, 1] # s[4, 2],\n",
       " s[4, 3, 1, 1, 1] # s[2, 1, 1, 1, 1],\n",
       " s[3, 3, 2, 2] # s[3, 2, 1],\n",
       " s[3, 3, 1, 1, 1, 1] # s[3, 3],\n",
       " s[4, 1, 1, 1, 1, 1, 1] # s[3, 2, 1],\n",
       " s[4, 2, 1, 1, 1, 1] # s[3, 1, 1, 1],\n",
       " s[3, 3, 2, 2] # s[4, 1, 1],\n",
       " s[7, 1, 1, 1] # s[2, 2, 2],\n",
       " s[3, 3, 2, 1, 1] # s[2, 2, 1, 1],\n",
       " s[5, 2, 1, 1, 1] # s[3, 2, 1],\n",
       " s[3, 3, 1, 1, 1, 1] # s[2, 1, 1, 1, 1],\n",
       " s[2, 2, 1, 1, 1, 1, 1, 1] # s[3, 2, 1],\n",
       " s[3, 2, 2, 2, 1] # s[3, 1, 1, 1],\n",
       " s[5, 1, 1, 1, 1, 1] # s[4, 1, 1],\n",
       " s[4, 3, 2, 1] # s[3, 1, 1, 1],\n",
       " s[3, 2, 2, 1, 1, 1] # s[3, 1, 1, 1],\n",
       " s[2, 2, 1, 1, 1, 1, 1, 1] # s[4, 1, 1],\n",
       " s[6, 1, 1, 1, 1] # s[2, 2, 2],\n",
       " s[5, 2, 2, 1] # s[4, 1, 1],\n",
       " s[4, 2, 2, 2] # s[3, 1, 1, 1],\n",
       " s[2, 2, 1, 1, 1, 1, 1, 1] # s[4, 2],\n",
       " s[4, 2, 1, 1, 1, 1] # s[2, 1, 1, 1, 1],\n",
       " s[5, 2, 1, 1, 1] # s[3, 3],\n",
       " s[3, 2, 1, 1, 1, 1, 1] # s[2, 2, 2],\n",
       " s[3, 3, 1, 1, 1, 1] # s[4, 2],\n",
       " s[5, 3, 1, 1] # s[3, 2, 1],\n",
       " s[5, 2, 2, 1] # s[3, 1, 1, 1],\n",
       " s[5, 2, 1, 1, 1] # s[2, 1, 1, 1, 1],\n",
       " s[3, 2, 1, 1, 1, 1, 1] # s[2, 1, 1, 1, 1],\n",
       " s[3, 1, 1, 1, 1, 1, 1, 1] # s[3, 1, 1, 1],\n",
       " s[3, 3, 2, 1, 1] # s[6],\n",
       " s[5, 1, 1, 1, 1, 1] # s[3, 1, 1, 1],\n",
       " s[4, 2, 1, 1, 1, 1] # s[4, 1, 1],\n",
       " s[3, 3, 2, 2] # s[5, 1],\n",
       " s[2, 2, 2, 1, 1, 1, 1] # s[5, 1],\n",
       " s[3, 2, 2, 1, 1, 1] # s[2, 2, 2],\n",
       " s[2, 2, 1, 1, 1, 1, 1, 1] # s[2, 2, 1, 1],\n",
       " s[3, 3, 2, 1, 1] # s[2, 1, 1, 1, 1],\n",
       " s[5, 1, 1, 1, 1, 1] # s[2, 2, 1, 1],\n",
       " s[4, 3, 2, 1] # s[5, 1],\n",
       " s[5, 2, 2, 1] # s[3, 3],\n",
       " s[2, 2, 2, 2, 1, 1] # s[2, 2, 1, 1],\n",
       " s[3, 3, 2, 1, 1] # s[3, 3],\n",
       " s[2, 1, 1, 1, 1, 1, 1, 1, 1] # s[3, 3],\n",
       " s[3, 3, 3, 1] # s[2, 2, 2],\n",
       " s[3, 2, 2, 2, 1] # s[3, 3],\n",
       " s[2, 1, 1, 1, 1, 1, 1, 1, 1] # s[4, 2],\n",
       " s[4, 1, 1, 1, 1, 1, 1] # s[2, 2, 2],\n",
       " s[3, 1, 1, 1, 1, 1, 1, 1] # s[4, 2],\n",
       " s[4, 2, 1, 1, 1, 1] # s[2, 2, 1, 1],\n",
       " s[3, 2, 2, 2, 1] # s[2, 2, 1, 1],\n",
       " s[3, 1, 1, 1, 1, 1, 1, 1] # s[2, 2, 2],\n",
       " s[4, 3, 1, 1, 1] # s[3, 3],\n",
       " s[5, 2, 1, 1, 1] # s[4, 1, 1],\n",
       " s[3, 2, 1, 1, 1, 1, 1] # s[3, 1, 1, 1],\n",
       " s[5, 1, 1, 1, 1, 1] # s[3, 2, 1],\n",
       " s[5, 3, 1, 1] # s[2, 2, 2],\n",
       " s[2, 2, 2, 1, 1, 1, 1] # s[2, 2, 1, 1],\n",
       " s[4, 4, 1, 1] # s[2, 2, 1, 1],\n",
       " s[3, 2, 2, 1, 1, 1] # s[6],\n",
       " s[3, 2, 2, 2, 1] # s[2, 2, 2],\n",
       " s[3, 1, 1, 1, 1, 1, 1, 1] # s[3, 2, 1],\n",
       " s[3, 2, 1, 1, 1, 1, 1] # s[2, 2, 1, 1],\n",
       " s[4, 3, 1, 1, 1] # s[2, 2, 1, 1],\n",
       " s[3, 3, 2, 2] # s[3, 3],\n",
       " s[4, 2, 2, 1, 1] # s[3, 3],\n",
       " s[6, 2, 1, 1] # s[3, 2, 1],\n",
       " s[3, 2, 2, 1, 1, 1] # s[3, 2, 1],\n",
       " s[4, 3, 2, 1] # s[3, 2, 1],\n",
       " s[3, 2, 2, 1, 1, 1] # s[4, 1, 1],\n",
       " s[4, 2, 2, 1, 1] # s[4, 1, 1],\n",
       " s[3, 2, 2, 2, 1] # s[4, 1, 1],\n",
       " s[4, 2, 2, 1, 1] # s[3, 2, 1],\n",
       " s[3, 3, 2, 1, 1] # s[3, 2, 1],\n",
       " s[4, 2, 1, 1, 1, 1] # s[5, 1],\n",
       " s[3, 3, 2, 1, 1] # s[5, 1],\n",
       " s[4, 2, 2, 1, 1] # s[3, 1, 1, 1],\n",
       " s[3, 3, 1, 1, 1, 1] # s[5, 1],\n",
       " s[4, 2, 1, 1, 1, 1] # s[3, 2, 1],\n",
       " s[4, 3, 1, 1, 1] # s[2, 2, 2],\n",
       " s[6, 1, 1, 1, 1] # s[3, 2, 1],\n",
       " s[4, 2, 2, 1, 1] # s[5, 1],\n",
       " s[4, 3, 1, 1, 1] # s[3, 1, 1, 1],\n",
       " s[3, 3, 3, 1] # s[3, 1, 1, 1],\n",
       " s[2, 2, 2, 1, 1, 1, 1] # s[4, 1, 1],\n",
       " s[4, 4, 1, 1] # s[3, 3],\n",
       " s[3, 1, 1, 1, 1, 1, 1, 1] # s[4, 1, 1],\n",
       " s[3, 3, 2, 1, 1] # s[4, 2],\n",
       " s[5, 2, 1, 1, 1] # s[2, 2, 1, 1],\n",
       " s[3, 2, 2, 1, 1, 1] # s[5, 1],\n",
       " s[3, 2, 2, 1, 1, 1] # s[4, 2],\n",
       " s[2, 1, 1, 1, 1, 1, 1, 1, 1] # s[3, 2, 1],\n",
       " s[2, 2, 2, 2, 2] # s[4, 2],\n",
       " s[4, 3, 2, 1] # s[2, 2, 1, 1],\n",
       " s[4, 3, 1, 1, 1] # s[1, 1, 1, 1, 1, 1],\n",
       " s[5, 2, 1, 1, 1] # s[2, 2, 2],\n",
       " s[3, 3, 3, 1] # s[4, 2],\n",
       " s[6, 1, 1, 1, 1] # s[2, 2, 1, 1],\n",
       " s[3, 2, 1, 1, 1, 1, 1] # s[3, 3],\n",
       " s[5, 2, 2, 1] # s[2, 2, 1, 1],\n",
       " s[4, 2, 2, 1, 1] # s[4, 2],\n",
       " s[4, 2, 2, 1, 1] # s[2, 1, 1, 1, 1],\n",
       " s[3, 2, 2, 1, 1, 1] # s[2, 1, 1, 1, 1],\n",
       " s[3, 3, 1, 1, 1, 1] # s[1, 1, 1, 1, 1, 1],\n",
       " s[3, 2, 1, 1, 1, 1, 1] # s[4, 1, 1],\n",
       " s[2, 2, 2, 2, 1, 1] # s[3, 3],\n",
       " s[3, 2, 2, 2, 1] # s[3, 2, 1],\n",
       " s[4, 3, 1, 1, 1] # s[4, 2],\n",
       " s[5, 3, 1, 1] # s[2, 1, 1, 1, 1],\n",
       " s[2, 2, 2, 1, 1, 1, 1] # s[3, 2, 1],\n",
       " s[5, 3, 1, 1] # s[3, 1, 1, 1],\n",
       " s[3, 2, 2, 2, 1] # s[4, 2],\n",
       " s[4, 2, 2, 2] # s[4, 1, 1],\n",
       " s[3, 3, 2, 2] # s[2, 2, 1, 1],\n",
       " s[4, 3, 2, 1] # s[2, 1, 1, 1, 1],\n",
       " s[4, 2, 2, 2] # s[3, 2, 1],\n",
       " s[1, 1, 1, 1, 1, 1, 1, 1, 1, 1] # s[3, 3],\n",
       " s[2, 2, 2, 1, 1, 1, 1] # s[3, 3],\n",
       " s[2, 2, 1, 1, 1, 1, 1, 1] # s[5, 1],\n",
       " s[2, 2, 1, 1, 1, 1, 1, 1] # s[3, 3],\n",
       " s[3, 3, 1, 1, 1, 1] # s[4, 1, 1],\n",
       " s[3, 2, 1, 1, 1, 1, 1] # s[4, 2],\n",
       " s[4, 3, 2, 1] # s[4, 1, 1],\n",
       " s[3, 3, 1, 1, 1, 1] # s[3, 2, 1],\n",
       " s[3, 2, 2, 2, 1] # s[5, 1],\n",
       " s[2, 2, 2, 1, 1, 1, 1] # s[2, 2, 2],\n",
       " s[2, 2, 2, 1, 1, 1, 1] # s[3, 1, 1, 1],\n",
       " s[5, 3, 1, 1] # s[4, 2],\n",
       " s[4, 3, 1, 1, 1] # s[4, 1, 1]]"
      ]
     },
     "execution_count": 20,
     "metadata": {},
     "output_type": "execute_result"
    }
   ],
   "source": [
    "(s[2,2,2](t)*tensor([s[1,1,1,1],s(1)])).monomials()"
   ]
  },
  {
   "cell_type": "code",
   "execution_count": 21,
   "metadata": {},
   "outputs": [
    {
     "data": {
      "text/plain": [
       "0"
      ]
     },
     "execution_count": 21,
     "metadata": {},
     "output_type": "execute_result"
    }
   ],
   "source": [
    "t[0]"
   ]
  },
  {
   "cell_type": "code",
   "execution_count": 22,
   "metadata": {},
   "outputs": [
    {
     "data": {
      "text/plain": [
       "0"
      ]
     },
     "execution_count": 22,
     "metadata": {},
     "output_type": "execute_result"
    }
   ],
   "source": [
    "t[1]"
   ]
  },
  {
   "cell_type": "code",
   "execution_count": 26,
   "metadata": {},
   "outputs": [],
   "source": [
    "m=t.monomials()[0]"
   ]
  },
  {
   "cell_type": "code",
   "execution_count": 28,
   "metadata": {},
   "outputs": [
    {
     "data": {
      "text/plain": [
       "[s[1] # s[1]]"
      ]
     },
     "execution_count": 28,
     "metadata": {},
     "output_type": "execute_result"
    }
   ],
   "source": [
    "m."
   ]
  },
  {
   "cell_type": "code",
   "execution_count": 88,
   "metadata": {},
   "outputs": [],
   "source": [
    "W = s[2]\n",
    "Wd=s[2,2]\n",
    "V = s[1]\n",
    "Vd= s[1,1]"
   ]
  },
  {
   "cell_type": "code",
   "execution_count": 82,
   "metadata": {},
   "outputs": [
    {
     "data": {
      "text/plain": [
       "2*s[4, 3, 3] + 2*s[4, 4, 2] + 5*s[5, 3, 2] + 4*s[5, 4, 1] + s[5, 5] + 3*s[6, 2, 2] + 5*s[6, 3, 1] + 2*s[6, 4] + 3*s[7, 2, 1] + 2*s[7, 3] + s[8, 1, 1] + s[8, 2]"
      ]
     },
     "execution_count": 82,
     "metadata": {},
     "output_type": "execute_result"
    }
   ],
   "source": [
    "l=(s[2,1](W)*(-V*s[1,1,1] + W*Vd)).restrict_partition_lengths(3,exact=False);l"
   ]
  },
  {
   "cell_type": "code",
   "execution_count": 96,
   "metadata": {},
   "outputs": [
    {
     "data": {
      "text/plain": [
       "2*s[4, 3, 3] + 3*s[4, 4, 2] + 5*s[5, 3, 2] + 4*s[5, 4, 1] + 3*s[6, 2, 2] + 5*s[6, 3, 1] + 2*s[6, 4] + 3*s[7, 2, 1] + s[7, 3] + s[8, 1, 1] + s[8, 2]"
      ]
     },
     "execution_count": 96,
     "metadata": {},
     "output_type": "execute_result"
    }
   ],
   "source": [
    "r=((s[2,1,1]+s[3,1])(W)*Vd).restrict_partition_lengths(3,exact=False);r"
   ]
  },
  {
   "cell_type": "code",
   "execution_count": 84,
   "metadata": {},
   "outputs": [
    {
     "data": {
      "text/plain": [
       "2*s[6, 5, 5] + 2*s[6, 6, 4] + 5*s[7, 5, 4] + 4*s[7, 6, 3] + s[7, 7, 2] + 3*s[8, 4, 4] + 5*s[8, 5, 3] + 2*s[8, 6, 2] + 3*s[9, 4, 3] + 2*s[9, 5, 2] + s[10, 3, 3] + s[10, 4, 2]"
      ]
     },
     "execution_count": 84,
     "metadata": {},
     "output_type": "execute_result"
    }
   ],
   "source": [
    "(l*s[2,2,2]).restrict_partition_lengths(3,exact=False)"
   ]
  },
  {
   "cell_type": "code",
   "execution_count": 97,
   "metadata": {},
   "outputs": [
    {
     "data": {
      "text/plain": [
       "-s[4, 4, 2] + s[5, 5] + s[7, 3]"
      ]
     },
     "execution_count": 97,
     "metadata": {},
     "output_type": "execute_result"
    }
   ],
   "source": [
    "l-r"
   ]
  },
  {
   "cell_type": "code",
   "execution_count": 104,
   "metadata": {},
   "outputs": [
    {
     "data": {
      "text/plain": [
       "105"
      ]
     },
     "execution_count": 104,
     "metadata": {},
     "output_type": "execute_result"
    }
   ],
   "source": [
    "(l-r).expand(3)(1,1,1)"
   ]
  },
  {
   "cell_type": "code",
   "execution_count": 105,
   "metadata": {},
   "outputs": [
    {
     "data": {
      "text/plain": [
       "-s[4, 4, 2] + s[5, 5] + s[7, 3]"
      ]
     },
     "execution_count": 105,
     "metadata": {},
     "output_type": "execute_result"
    }
   ],
   "source": [
    "lr2=(s[2,2](W)*Vd - s[2,1](W)*V*s[1,1,1]).restrict_partition_lengths(3,exact=False);lr2"
   ]
  },
  {
   "cell_type": "code",
   "execution_count": 103,
   "metadata": {},
   "outputs": [
    {
     "data": {
      "text/plain": [
       "105"
      ]
     },
     "execution_count": 103,
     "metadata": {},
     "output_type": "execute_result"
    }
   ],
   "source": [
    "lr2.expand(3)(1,1,1)"
   ]
  },
  {
   "cell_type": "code",
   "execution_count": 83,
   "metadata": {},
   "outputs": [
    {
     "data": {
      "text/plain": [
       "1050"
      ]
     },
     "execution_count": 83,
     "metadata": {},
     "output_type": "execute_result"
    }
   ],
   "source": [
    "l.expand(3)(1,1,1)"
   ]
  },
  {
   "cell_type": "code",
   "execution_count": 86,
   "metadata": {},
   "outputs": [
    {
     "data": {
      "text/plain": [
       "315"
      ]
     },
     "execution_count": 86,
     "metadata": {},
     "output_type": "execute_result"
    }
   ],
   "source": [
    "r.expand(3)(1,1,1)"
   ]
  },
  {
   "cell_type": "code",
   "execution_count": 71,
   "metadata": {},
   "outputs": [
    {
     "data": {
      "text/plain": [
       "-s[1, 1] + s[2, 2, 1] + s[3, 2]"
      ]
     },
     "execution_count": 71,
     "metadata": {},
     "output_type": "execute_result"
    }
   ],
   "source": [
    "Wd*V-Vd"
   ]
  },
  {
   "cell_type": "code",
   "execution_count": 78,
   "metadata": {},
   "outputs": [
    {
     "data": {
      "text/plain": [
       "-s[1, 1, 1, 1] + s[3, 1]"
      ]
     },
     "execution_count": 78,
     "metadata": {},
     "output_type": "execute_result"
    }
   ],
   "source": [
    "W*Vd-V*s[1,1,1]"
   ]
  },
  {
   "cell_type": "code",
   "execution_count": 94,
   "metadata": {},
   "outputs": [
    {
     "data": {
      "text/plain": [
       "s[2, 1, 1] + s[2, 2] + s[3, 1]"
      ]
     },
     "execution_count": 94,
     "metadata": {},
     "output_type": "execute_result"
    }
   ],
   "source": [
    "s[2,1]*s[1]"
   ]
  },
  {
   "cell_type": "code",
   "execution_count": 112,
   "metadata": {},
   "outputs": [
    {
     "data": {
      "text/plain": [
       "s[4, 3, 3] + 2*s[5, 3, 2] + s[5, 4, 1] + s[5, 5] + s[6, 2, 2] + 2*s[6, 3, 1] + s[7, 2, 1] + s[7, 3]"
      ]
     },
     "execution_count": 112,
     "metadata": {},
     "output_type": "execute_result"
    }
   ],
   "source": [
    "(s[2,2](s[2])*Vd).restrict_partition_lengths(3,exact=False)"
   ]
  },
  {
   "cell_type": "code",
   "execution_count": 114,
   "metadata": {},
   "outputs": [
    {
     "data": {
      "text/plain": [
       "s[4, 3, 3] + s[4, 4, 2] + 2*s[5, 3, 2] + s[5, 4, 1] + s[6, 2, 2] + 2*s[6, 3, 1] + s[7, 2, 1]"
      ]
     },
     "execution_count": 114,
     "metadata": {},
     "output_type": "execute_result"
    }
   ],
   "source": [
    "(s[2,1](s[2])*V*s[1,1,1]).restrict_partition_lengths(3,exact=False)"
   ]
  },
  {
   "cell_type": "code",
   "execution_count": 180,
   "metadata": {},
   "outputs": [
    {
     "data": {
      "text/plain": [
       "s[1, 1, 1, 1] + s[2, 1, 1]"
      ]
     },
     "execution_count": 180,
     "metadata": {},
     "output_type": "execute_result"
    }
   ],
   "source": [
    "s[1]*s[1,1,1]"
   ]
  },
  {
   "cell_type": "code",
   "execution_count": 181,
   "metadata": {},
   "outputs": [
    {
     "data": {
      "text/plain": [
       "105"
      ]
     },
     "execution_count": 181,
     "metadata": {},
     "output_type": "execute_result"
    }
   ],
   "source": [
    "s[2,2].expand(6)(1,1,1,1,1,1)"
   ]
  },
  {
   "cell_type": "code",
   "execution_count": 183,
   "metadata": {},
   "outputs": [
    {
     "data": {
      "text/plain": [
       "315"
      ]
     },
     "execution_count": 183,
     "metadata": {},
     "output_type": "execute_result"
    }
   ],
   "source": [
    "(s[2,2](s[2])*s[1,1]).expand(3)(1,1,1)"
   ]
  },
  {
   "cell_type": "code",
   "execution_count": 184,
   "metadata": {},
   "outputs": [
    {
     "data": {
      "text/plain": [
       "70"
      ]
     },
     "execution_count": 184,
     "metadata": {},
     "output_type": "execute_result"
    }
   ],
   "source": [
    "s[2,1].expand(6)(1,1,1,1,1,1)"
   ]
  },
  {
   "cell_type": "code",
   "execution_count": 185,
   "metadata": {},
   "outputs": [
    {
     "data": {
      "text/plain": [
       "210"
      ]
     },
     "execution_count": 185,
     "metadata": {},
     "output_type": "execute_result"
    }
   ],
   "source": [
    "(s[2,1](s[2])*s[1]).expand(3)(1,1,1)"
   ]
  },
  {
   "cell_type": "code",
   "execution_count": null,
   "metadata": {},
   "outputs": [],
   "source": []
  }
 ],
 "metadata": {
  "kernelspec": {
   "display_name": "SageMath 8.6",
   "language": "",
   "name": "sagemath"
  }
 },
 "nbformat": 4,
 "nbformat_minor": 2
}
