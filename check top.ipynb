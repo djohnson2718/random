{
 "cells": [
  {
   "cell_type": "code",
   "execution_count": 51,
   "metadata": {},
   "outputs": [],
   "source": [
    "n = 3\n",
    "Rx = PolynomialRing(QQ, \"x\", n)\n",
    "\n",
    "x = Rx.gens()\n",
    "RxF = Frac(Rx)\n",
    "def H(j):\n",
    "    return sum(( prod(( (1-x[i])^-jj[i]  for i in range(n) ))  for jj in IntegerVectors(j, n)))\n",
    "\n",
    "def P(d):\n",
    "    return sum(( 1/(1-x[i])^d for i in range(n)))\n",
    "    "
   ]
  },
  {
   "cell_type": "code",
   "execution_count": 54,
   "metadata": {},
   "outputs": [
    {
     "name": "stdout",
     "output_type": "stream",
     "text": [
      "O(t^6)\n"
     ]
    }
   ],
   "source": [
    "order = 5\n",
    "Rt.<t> = PowerSeriesRing(RxF)\n",
    "Hgen = sum(( H(j) * t^j for j in range(order + 1) )) + O(t^(order + 1))\n",
    "\n",
    "Pgen = sum((  t^d * P(d) / d for d in range(1,order + 1))) + O(t^(order +1))\n",
    "\n",
    "eP = exp(Pgen)\n",
    "\n",
    "print eP - Hgen"
   ]
  },
  {
   "cell_type": "code",
   "execution_count": 53,
   "metadata": {},
   "outputs": [
    {
     "data": {
      "text/plain": [
       "(-x0^4*x1^3 - x0^3*x1^4 - x0^4*x1^2*x2 - x0^3*x1^3*x2 - x0^2*x1^4*x2 - x0^4*x1*x2^2 - x0^3*x1^2*x2^2 - x0^2*x1^3*x2^2 - x0*x1^4*x2^2 - x0^4*x2^3 - x0^3*x1*x2^3 - x0^2*x1^2*x2^3 - x0*x1^3*x2^3 - x1^4*x2^3 - x0^3*x2^4 - x0^2*x1*x2^4 - x0*x1^2*x2^4 - x1^3*x2^4 + 4*x0^4*x1^2 + 9*x0^3*x1^3 + 4*x0^2*x1^4 + 4*x0^4*x1*x2 + 9*x0^3*x1^2*x2 + 9*x0^2*x1^3*x2 + 4*x0*x1^4*x2 + 4*x0^4*x2^2 + 9*x0^3*x1*x2^2 + 9*x0^2*x1^2*x2^2 + 9*x0*x1^3*x2^2 + 4*x1^4*x2^2 + 9*x0^3*x2^3 + 9*x0^2*x1*x2^3 + 9*x0*x1^2*x2^3 + 9*x1^3*x2^3 + 4*x0^2*x2^4 + 4*x0*x1*x2^4 + 4*x1^2*x2^4 - 6*x0^4*x1 - 26*x0^3*x1^2 - 26*x0^2*x1^3 - 6*x0*x1^4 - 6*x0^4*x2 - 26*x0^3*x1*x2 - 36*x0^2*x1^2*x2 - 26*x0*x1^3*x2 - 6*x1^4*x2 - 26*x0^3*x2^2 - 36*x0^2*x1*x2^2 - 36*x0*x1^2*x2^2 - 26*x1^3*x2^2 - 26*x0^2*x2^3 - 26*x0*x1*x2^3 - 26*x1^2*x2^3 - 6*x0*x2^4 - 6*x1*x2^4 + 4*x0^4 + 34*x0^3*x1 + 64*x0^2*x1^2 + 34*x0*x1^3 + 4*x1^4 + 34*x0^3*x2 + 74*x0^2*x1*x2 + 74*x0*x1^2*x2 + 34*x1^3*x2 + 64*x0^2*x2^2 + 74*x0*x1*x2^2 + 64*x1^2*x2^2 + 34*x0*x2^3 + 34*x1*x2^3 + 4*x2^4 - 21*x0^3 - 76*x0^2*x1 - 76*x0*x1^2 - 21*x1^3 - 76*x0^2*x2 - 111*x0*x1*x2 - 76*x1^2*x2 - 76*x0*x2^2 - 76*x1*x2^2 - 21*x2^3 + 43*x0^2 + 83*x0*x1 + 43*x1^2 + 83*x0*x2 + 83*x1*x2 + 43*x2^2 - 42*x0 - 42*x1 - 42*x2 + 18)/(x0^4*x1^4*x2^4 - 4*x0^4*x1^4*x2^3 - 4*x0^4*x1^3*x2^4 - 4*x0^3*x1^4*x2^4 + 6*x0^4*x1^4*x2^2 + 16*x0^4*x1^3*x2^3 + 16*x0^3*x1^4*x2^3 + 6*x0^4*x1^2*x2^4 + 16*x0^3*x1^3*x2^4 + 6*x0^2*x1^4*x2^4 - 4*x0^4*x1^4*x2 - 24*x0^4*x1^3*x2^2 - 24*x0^3*x1^4*x2^2 - 24*x0^4*x1^2*x2^3 - 64*x0^3*x1^3*x2^3 - 24*x0^2*x1^4*x2^3 - 4*x0^4*x1*x2^4 - 24*x0^3*x1^2*x2^4 - 24*x0^2*x1^3*x2^4 - 4*x0*x1^4*x2^4 + x0^4*x1^4 + 16*x0^4*x1^3*x2 + 16*x0^3*x1^4*x2 + 36*x0^4*x1^2*x2^2 + 96*x0^3*x1^3*x2^2 + 36*x0^2*x1^4*x2^2 + 16*x0^4*x1*x2^3 + 96*x0^3*x1^2*x2^3 + 96*x0^2*x1^3*x2^3 + 16*x0*x1^4*x2^3 + x0^4*x2^4 + 16*x0^3*x1*x2^4 + 36*x0^2*x1^2*x2^4 + 16*x0*x1^3*x2^4 + x1^4*x2^4 - 4*x0^4*x1^3 - 4*x0^3*x1^4 - 24*x0^4*x1^2*x2 - 64*x0^3*x1^3*x2 - 24*x0^2*x1^4*x2 - 24*x0^4*x1*x2^2 - 144*x0^3*x1^2*x2^2 - 144*x0^2*x1^3*x2^2 - 24*x0*x1^4*x2^2 - 4*x0^4*x2^3 - 64*x0^3*x1*x2^3 - 144*x0^2*x1^2*x2^3 - 64*x0*x1^3*x2^3 - 4*x1^4*x2^3 - 4*x0^3*x2^4 - 24*x0^2*x1*x2^4 - 24*x0*x1^2*x2^4 - 4*x1^3*x2^4 + 6*x0^4*x1^2 + 16*x0^3*x1^3 + 6*x0^2*x1^4 + 16*x0^4*x1*x2 + 96*x0^3*x1^2*x2 + 96*x0^2*x1^3*x2 + 16*x0*x1^4*x2 + 6*x0^4*x2^2 + 96*x0^3*x1*x2^2 + 216*x0^2*x1^2*x2^2 + 96*x0*x1^3*x2^2 + 6*x1^4*x2^2 + 16*x0^3*x2^3 + 96*x0^2*x1*x2^3 + 96*x0*x1^2*x2^3 + 16*x1^3*x2^3 + 6*x0^2*x2^4 + 16*x0*x1*x2^4 + 6*x1^2*x2^4 - 4*x0^4*x1 - 24*x0^3*x1^2 - 24*x0^2*x1^3 - 4*x0*x1^4 - 4*x0^4*x2 - 64*x0^3*x1*x2 - 144*x0^2*x1^2*x2 - 64*x0*x1^3*x2 - 4*x1^4*x2 - 24*x0^3*x2^2 - 144*x0^2*x1*x2^2 - 144*x0*x1^2*x2^2 - 24*x1^3*x2^2 - 24*x0^2*x2^3 - 64*x0*x1*x2^3 - 24*x1^2*x2^3 - 4*x0*x2^4 - 4*x1*x2^4 + x0^4 + 16*x0^3*x1 + 36*x0^2*x1^2 + 16*x0*x1^3 + x1^4 + 16*x0^3*x2 + 96*x0^2*x1*x2 + 96*x0*x1^2*x2 + 16*x1^3*x2 + 36*x0^2*x2^2 + 96*x0*x1*x2^2 + 36*x1^2*x2^2 + 16*x0*x2^3 + 16*x1*x2^3 + x2^4 - 4*x0^3 - 24*x0^2*x1 - 24*x0*x1^2 - 4*x1^3 - 24*x0^2*x2 - 64*x0*x1*x2 - 24*x1^2*x2 - 24*x0*x2^2 - 24*x1*x2^2 - 4*x2^3 + 6*x0^2 + 16*x0*x1 + 6*x1^2 + 16*x0*x2 + 16*x1*x2 + 6*x2^2 - 4*x0 - 4*x1 - 4*x2 + 1)"
      ]
     },
     "execution_count": 53,
     "metadata": {},
     "output_type": "execute_result"
    }
   ],
   "source": [
    "H(5) - P(5)"
   ]
  },
  {
   "cell_type": "code",
   "execution_count": 47,
   "metadata": {},
   "outputs": [
    {
     "data": {
      "text/plain": [
       "1 + (1/(-x + 1))*t + O(t^5)"
      ]
     },
     "execution_count": 47,
     "metadata": {},
     "output_type": "execute_result"
    }
   ],
   "source": [
    "exp(Pgen)"
   ]
  },
  {
   "cell_type": "code",
   "execution_count": 48,
   "metadata": {},
   "outputs": [
    {
     "data": {
      "text/plain": [
       "1 + (1/(-x + 1))*t + (1/(x^2 - 2*x + 1))*t^2 + (1/(-x^3 + 3*x^2 - 3*x + 1))*t^3 + (1/(x^4 - 4*x^3 + 6*x^2 - 4*x + 1))*t^4 + O(t^5)"
      ]
     },
     "execution_count": 48,
     "metadata": {},
     "output_type": "execute_result"
    }
   ],
   "source": [
    "Hgen"
   ]
  },
  {
   "cell_type": "code",
   "execution_count": 19,
   "metadata": {},
   "outputs": [
    {
     "data": {
      "text/plain": [
       "Integer vectors of length 1 that sum to 3"
      ]
     },
     "execution_count": 19,
     "metadata": {},
     "output_type": "execute_result"
    }
   ],
   "source": [
    "IntegerVectors(3,1)"
   ]
  },
  {
   "cell_type": "code",
   "execution_count": 34,
   "metadata": {},
   "outputs": [
    {
     "data": {
      "text/plain": [
       "1"
      ]
     },
     "execution_count": 34,
     "metadata": {},
     "output_type": "execute_result"
    }
   ],
   "source": [
    "H(0)"
   ]
  },
  {
   "cell_type": "code",
   "execution_count": 21,
   "metadata": {},
   "outputs": [
    {
     "data": {
      "text/plain": [
       "(x0*x1 + x0*x2 + x1*x2 - 2*x0 - 2*x1 - 2*x2 + 3)/(-x0*x1*x2 + x0*x1 + x0*x2 + x1*x2 - x0 - x1 - x2 + 1)"
      ]
     },
     "execution_count": 21,
     "metadata": {},
     "output_type": "execute_result"
    }
   ],
   "source": [
    "H(1)"
   ]
  },
  {
   "cell_type": "code",
   "execution_count": 22,
   "metadata": {},
   "outputs": [
    {
     "data": {
      "text/plain": [
       "(x0^4*x1^4 + x0^4*x2^4 + x1^4*x2^4 - 4*x0^4*x1^3 - 4*x0^3*x1^4 - 4*x0^4*x2^3 - 4*x1^4*x2^3 - 4*x0^3*x2^4 - 4*x1^3*x2^4 + 6*x0^4*x1^2 + 16*x0^3*x1^3 + 6*x0^2*x1^4 + 6*x0^4*x2^2 + 6*x1^4*x2^2 + 16*x0^3*x2^3 + 16*x1^3*x2^3 + 6*x0^2*x2^4 + 6*x1^2*x2^4 - 4*x0^4*x1 - 24*x0^3*x1^2 - 24*x0^2*x1^3 - 4*x0*x1^4 - 4*x0^4*x2 - 4*x1^4*x2 - 24*x0^3*x2^2 - 24*x1^3*x2^2 - 24*x0^2*x2^3 - 24*x1^2*x2^3 - 4*x0*x2^4 - 4*x1*x2^4 + 2*x0^4 + 16*x0^3*x1 + 36*x0^2*x1^2 + 16*x0*x1^3 + 2*x1^4 + 16*x0^3*x2 + 16*x1^3*x2 + 36*x0^2*x2^2 + 36*x1^2*x2^2 + 16*x0*x2^3 + 16*x1*x2^3 + 2*x2^4 - 8*x0^3 - 24*x0^2*x1 - 24*x0*x1^2 - 8*x1^3 - 24*x0^2*x2 - 24*x1^2*x2 - 24*x0*x2^2 - 24*x1*x2^2 - 8*x2^3 + 12*x0^2 + 16*x0*x1 + 12*x1^2 + 16*x0*x2 + 16*x1*x2 + 12*x2^2 - 8*x0 - 8*x1 - 8*x2 + 3)/(x0^4*x1^4*x2^4 - 4*x0^4*x1^4*x2^3 - 4*x0^4*x1^3*x2^4 - 4*x0^3*x1^4*x2^4 + 6*x0^4*x1^4*x2^2 + 16*x0^4*x1^3*x2^3 + 16*x0^3*x1^4*x2^3 + 6*x0^4*x1^2*x2^4 + 16*x0^3*x1^3*x2^4 + 6*x0^2*x1^4*x2^4 - 4*x0^4*x1^4*x2 - 24*x0^4*x1^3*x2^2 - 24*x0^3*x1^4*x2^2 - 24*x0^4*x1^2*x2^3 - 64*x0^3*x1^3*x2^3 - 24*x0^2*x1^4*x2^3 - 4*x0^4*x1*x2^4 - 24*x0^3*x1^2*x2^4 - 24*x0^2*x1^3*x2^4 - 4*x0*x1^4*x2^4 + x0^4*x1^4 + 16*x0^4*x1^3*x2 + 16*x0^3*x1^4*x2 + 36*x0^4*x1^2*x2^2 + 96*x0^3*x1^3*x2^2 + 36*x0^2*x1^4*x2^2 + 16*x0^4*x1*x2^3 + 96*x0^3*x1^2*x2^3 + 96*x0^2*x1^3*x2^3 + 16*x0*x1^4*x2^3 + x0^4*x2^4 + 16*x0^3*x1*x2^4 + 36*x0^2*x1^2*x2^4 + 16*x0*x1^3*x2^4 + x1^4*x2^4 - 4*x0^4*x1^3 - 4*x0^3*x1^4 - 24*x0^4*x1^2*x2 - 64*x0^3*x1^3*x2 - 24*x0^2*x1^4*x2 - 24*x0^4*x1*x2^2 - 144*x0^3*x1^2*x2^2 - 144*x0^2*x1^3*x2^2 - 24*x0*x1^4*x2^2 - 4*x0^4*x2^3 - 64*x0^3*x1*x2^3 - 144*x0^2*x1^2*x2^3 - 64*x0*x1^3*x2^3 - 4*x1^4*x2^3 - 4*x0^3*x2^4 - 24*x0^2*x1*x2^4 - 24*x0*x1^2*x2^4 - 4*x1^3*x2^4 + 6*x0^4*x1^2 + 16*x0^3*x1^3 + 6*x0^2*x1^4 + 16*x0^4*x1*x2 + 96*x0^3*x1^2*x2 + 96*x0^2*x1^3*x2 + 16*x0*x1^4*x2 + 6*x0^4*x2^2 + 96*x0^3*x1*x2^2 + 216*x0^2*x1^2*x2^2 + 96*x0*x1^3*x2^2 + 6*x1^4*x2^2 + 16*x0^3*x2^3 + 96*x0^2*x1*x2^3 + 96*x0*x1^2*x2^3 + 16*x1^3*x2^3 + 6*x0^2*x2^4 + 16*x0*x1*x2^4 + 6*x1^2*x2^4 - 4*x0^4*x1 - 24*x0^3*x1^2 - 24*x0^2*x1^3 - 4*x0*x1^4 - 4*x0^4*x2 - 64*x0^3*x1*x2 - 144*x0^2*x1^2*x2 - 64*x0*x1^3*x2 - 4*x1^4*x2 - 24*x0^3*x2^2 - 144*x0^2*x1*x2^2 - 144*x0*x1^2*x2^2 - 24*x1^3*x2^2 - 24*x0^2*x2^3 - 64*x0*x1*x2^3 - 24*x1^2*x2^3 - 4*x0*x2^4 - 4*x1*x2^4 + x0^4 + 16*x0^3*x1 + 36*x0^2*x1^2 + 16*x0*x1^3 + x1^4 + 16*x0^3*x2 + 96*x0^2*x1*x2 + 96*x0*x1^2*x2 + 16*x1^3*x2 + 36*x0^2*x2^2 + 96*x0*x1*x2^2 + 36*x1^2*x2^2 + 16*x0*x2^3 + 16*x1*x2^3 + x2^4 - 4*x0^3 - 24*x0^2*x1 - 24*x0*x1^2 - 4*x1^3 - 24*x0^2*x2 - 64*x0*x1*x2 - 24*x1^2*x2 - 24*x0*x2^2 - 24*x1*x2^2 - 4*x2^3 + 6*x0^2 + 16*x0*x1 + 6*x1^2 + 16*x0*x2 + 16*x1*x2 + 6*x2^2 - 4*x0 - 4*x1 - 4*x2 + 1)"
      ]
     },
     "execution_count": 22,
     "metadata": {},
     "output_type": "execute_result"
    }
   ],
   "source": [
    "H(2)"
   ]
  },
  {
   "cell_type": "code",
   "execution_count": 43,
   "metadata": {},
   "outputs": [
    {
     "data": {
      "text/plain": [
       "1/(-x + 1)"
      ]
     },
     "execution_count": 43,
     "metadata": {},
     "output_type": "execute_result"
    }
   ],
   "source": [
    "H(1)"
   ]
  },
  {
   "cell_type": "code",
   "execution_count": 44,
   "metadata": {},
   "outputs": [
    {
     "data": {
      "text/plain": [
       "1/(-x + 1)"
      ]
     },
     "execution_count": 44,
     "metadata": {},
     "output_type": "execute_result"
    }
   ],
   "source": [
    "P(1)"
   ]
  },
  {
   "cell_type": "code",
   "execution_count": 45,
   "metadata": {},
   "outputs": [
    {
     "data": {
      "text/plain": [
       "1/(x^2 - 2*x + 1)"
      ]
     },
     "execution_count": 45,
     "metadata": {},
     "output_type": "execute_result"
    }
   ],
   "source": [
    "H(2)"
   ]
  },
  {
   "cell_type": "code",
   "execution_count": null,
   "metadata": {},
   "outputs": [],
   "source": []
  }
 ],
 "metadata": {
  "kernelspec": {
   "display_name": "SageMath 8.6",
   "language": "",
   "name": "sagemath"
  },
  "language_info": {
   "codemirror_mode": {
    "name": "ipython",
    "version": 2
   },
   "file_extension": ".py",
   "mimetype": "text/x-python",
   "name": "python",
   "nbconvert_exporter": "python",
   "pygments_lexer": "ipython2",
   "version": "2.7.15"
  }
 },
 "nbformat": 4,
 "nbformat_minor": 2
}
