{
 "cells": [
  {
   "cell_type": "code",
   "execution_count": 84,
   "metadata": {},
   "outputs": [],
   "source": [
    "def F(b,mp=0,r1=2,r3=1):\n",
    "\n",
    "    m = b + mp\n",
    "\n",
    "\n",
    "\n",
    "    R = PolynomialRing(QQ, names = [\"c{}Mb\".format(u) for u in range(m+1)]\n",
    "                                 + [\"c{}mu{}\".format(i,l) for i in range(m+1) for l in range(b+2)]\n",
    "                                 + [\"c{}nu{}\".format(k,l) for k in range(m+1) for l in range(b+2)] )\n",
    "\n",
    "    Rn = PolynomialRing(R,\"n\")\n",
    "    n=Rn.gen()\n",
    "    \n",
    "    Rt = PolynomialRing(Rn,\"t\")\n",
    "    t = Rt.gen()\n",
    "\n",
    "    cMb = {u : R(\"c{}Mb\".format(u)) for u in range(m+1)}\n",
    "    cmu = {(i,l) : R(\"c{}mu{}\".format(i,l)) for i in range(m+1) for l in range(b+2)}\n",
    "    cnu = {(k,l) : R(\"c{}nu{}\".format(k,l)) for k in range(m+1) for l in range(b+2)}\n",
    "\n",
    "    cM = sum(( cMb[u]*t^u for u in range(m+1)  ))\n",
    "    \n",
    "    def cmMn(i):\n",
    "        return sum(( prod((cmu[i,l] for l,i in zip(range(b+2),I)))*\n",
    "                     prod((binomial(n^j,i) for j,i in zip(range(b+2),I))) \n",
    "                        for I in IntegerVectors(i,b+2)))\n",
    "    def cmepn(i):\n",
    "        return sum(( prod((cnu[i,l] for l,i in zip(range(b+2),I)))*\n",
    "                     prod((binomial(n^j,i) for j,i in zip(range(b+2),I))) \n",
    "                        for I in IntegerVectors(i,b+2)))\n",
    "    \n",
    "    #print cmMn(1)\n",
    "    #factor of (-1)^n omitted\n",
    "    \n",
    "    for u,i,k in IntegerVectors(m,3):\n",
    "        print u,i,k\n",
    "        print (binomial(n+r1-i,r1-i-k-r3) ,\n",
    "            cM[u] ,\n",
    "            cmMn(i) ,\n",
    "            cmepn(k))\n",
    "        print\n",
    "    #print [[(-1)^(k+r3) ,\n",
    "    #        binomial(n+r1-i,r1-i-k-r3) ,\n",
    "    #        cM[u] ,\n",
    "    #        cmMn(i) ,\n",
    "    #        cmepn(k)]\n",
    "    #    for u,i,k in IntegerVectors(m,3)]\n",
    "    \n",
    "    tot = sum((\n",
    "            (-1)^(k+r3) *\n",
    "            binomial(n+r1-i,r1-i-k-r3) *\n",
    "            cM[u] *\n",
    "            cmMn(i) *\n",
    "            cmepn(k)\n",
    "        for u,i,k in IntegerVectors(m,3)\n",
    "    ))\n",
    "    \n",
    "    return tot"
   ]
  },
  {
   "cell_type": "code",
   "execution_count": 85,
   "metadata": {},
   "outputs": [
    {
     "name": "stdout",
     "output_type": "stream",
     "text": [
      "0 0 0\n",
      "(n + 2, c0Mb, c0mu0*c0mu1, c0nu0*c0nu1)\n",
      "\n"
     ]
    },
    {
     "data": {
      "text/plain": [
       "-c0Mb*c0mu0*c0mu1*c0nu0*c0nu1*n - 2*c0Mb*c0mu0*c0mu1*c0nu0*c0nu1"
      ]
     },
     "execution_count": 85,
     "metadata": {},
     "output_type": "execute_result"
    }
   ],
   "source": [
    "F(0)"
   ]
  },
  {
   "cell_type": "code",
   "execution_count": 86,
   "metadata": {},
   "outputs": [
    {
     "name": "stdout",
     "output_type": "stream",
     "text": [
      "1 0 0\n",
      "(n + 2, c1Mb, c0mu0*c0mu1*c0mu2, c0nu0*c0nu1*c0nu2)\n",
      "\n",
      "0 1 0\n",
      "(1, c0Mb, c0mu0*c0mu1*c1mu2*n^2 + c0mu0*c0mu2*c1mu1*n + c0mu1*c0mu2*c1mu0, c0nu0*c0nu1*c0nu2)\n",
      "\n",
      "0 0 1\n",
      "(1, c0Mb, c0mu0*c0mu1*c0mu2, c0nu0*c0nu1*c1nu2*n^2 + c0nu0*c0nu2*c1nu1*n + c0nu1*c0nu2*c1nu0)\n",
      "\n"
     ]
    },
    {
     "data": {
      "text/plain": [
       "(-c0Mb*c0mu0*c0mu1*c1mu2*c0nu0*c0nu1*c0nu2 + c0Mb*c0mu0*c0mu1*c0mu2*c0nu0*c0nu1*c1nu2)*n^2 + (-c1Mb*c0mu0*c0mu1*c0mu2*c0nu0*c0nu1*c0nu2 - c0Mb*c0mu0*c0mu2*c1mu1*c0nu0*c0nu1*c0nu2 + c0Mb*c0mu0*c0mu1*c0mu2*c0nu0*c0nu2*c1nu1)*n - 2*c1Mb*c0mu0*c0mu1*c0mu2*c0nu0*c0nu1*c0nu2 - c0Mb*c0mu1*c0mu2*c1mu0*c0nu0*c0nu1*c0nu2 + c0Mb*c0mu0*c0mu1*c0mu2*c0nu1*c0nu2*c1nu0"
      ]
     },
     "execution_count": 86,
     "metadata": {},
     "output_type": "execute_result"
    }
   ],
   "source": [
    "F(1)"
   ]
  },
  {
   "cell_type": "code",
   "execution_count": 87,
   "metadata": {},
   "outputs": [
    {
     "name": "stdout",
     "output_type": "stream",
     "text": [
      "2 0 0\n",
      "(n + 2, c2Mb, c0mu0*c0mu1*c0mu2*c0mu3, c0nu0*c0nu1*c0nu2*c0nu3)\n",
      "\n",
      "1 1 0\n",
      "(1, c1Mb, c0mu0*c0mu1*c0mu2*c1mu3*n^3 + c0mu0*c0mu1*c0mu3*c1mu2*n^2 + c0mu0*c0mu2*c0mu3*c1mu1*n + c0mu1*c0mu2*c0mu3*c1mu0, c0nu0*c0nu1*c0nu2*c0nu3)\n",
      "\n",
      "1 0 1\n",
      "(1, c1Mb, c0mu0*c0mu1*c0mu2*c0mu3, c0nu0*c0nu1*c0nu2*c1nu3*n^3 + c0nu0*c0nu1*c0nu3*c1nu2*n^2 + c0nu0*c0nu2*c0nu3*c1nu1*n + c0nu1*c0nu2*c0nu3*c1nu0)\n",
      "\n",
      "0 2 0\n",
      "(0, c0Mb, 1/2*c0mu0*c0mu1*c0mu2*c2mu3*n^6 + c0mu0*c0mu1*c1mu2*c1mu3*n^5 + (c0mu0*c0mu2*c1mu1*c1mu3 + 1/2*c0mu0*c0mu1*c0mu3*c2mu2)*n^4 + (c0mu0*c0mu3*c1mu1*c1mu2 + c0mu1*c0mu2*c1mu0*c1mu3 - 1/2*c0mu0*c0mu1*c0mu2*c2mu3)*n^3 + (c0mu1*c0mu3*c1mu0*c1mu2 + 1/2*c0mu0*c0mu2*c0mu3*c2mu1 - 1/2*c0mu0*c0mu1*c0mu3*c2mu2)*n^2 + (c0mu2*c0mu3*c1mu0*c1mu1 - 1/2*c0mu0*c0mu2*c0mu3*c2mu1)*n, c0nu0*c0nu1*c0nu2*c0nu3)\n",
      "\n",
      "0 1 1\n",
      "(0, c0Mb, c0mu0*c0mu1*c0mu2*c1mu3*n^3 + c0mu0*c0mu1*c0mu3*c1mu2*n^2 + c0mu0*c0mu2*c0mu3*c1mu1*n + c0mu1*c0mu2*c0mu3*c1mu0, c0nu0*c0nu1*c0nu2*c1nu3*n^3 + c0nu0*c0nu1*c0nu3*c1nu2*n^2 + c0nu0*c0nu2*c0nu3*c1nu1*n + c0nu1*c0nu2*c0nu3*c1nu0)\n",
      "\n",
      "0 0 2\n",
      "(0, c0Mb, c0mu0*c0mu1*c0mu2*c0mu3, 1/2*c0nu0*c0nu1*c0nu2*c2nu3*n^6 + c0nu0*c0nu1*c1nu2*c1nu3*n^5 + (c0nu0*c0nu2*c1nu1*c1nu3 + 1/2*c0nu0*c0nu1*c0nu3*c2nu2)*n^4 + (c0nu0*c0nu3*c1nu1*c1nu2 + c0nu1*c0nu2*c1nu0*c1nu3 - 1/2*c0nu0*c0nu1*c0nu2*c2nu3)*n^3 + (c0nu1*c0nu3*c1nu0*c1nu2 + 1/2*c0nu0*c0nu2*c0nu3*c2nu1 - 1/2*c0nu0*c0nu1*c0nu3*c2nu2)*n^2 + (c0nu2*c0nu3*c1nu0*c1nu1 - 1/2*c0nu0*c0nu2*c0nu3*c2nu1)*n)\n",
      "\n"
     ]
    },
    {
     "data": {
      "text/plain": [
       "(-c1Mb*c0mu0*c0mu1*c0mu2*c1mu3*c0nu0*c0nu1*c0nu2*c0nu3 + c1Mb*c0mu0*c0mu1*c0mu2*c0mu3*c0nu0*c0nu1*c0nu2*c1nu3)*n^3 + (-c1Mb*c0mu0*c0mu1*c0mu3*c1mu2*c0nu0*c0nu1*c0nu2*c0nu3 + c1Mb*c0mu0*c0mu1*c0mu2*c0mu3*c0nu0*c0nu1*c0nu3*c1nu2)*n^2 + (-c2Mb*c0mu0*c0mu1*c0mu2*c0mu3*c0nu0*c0nu1*c0nu2*c0nu3 - c1Mb*c0mu0*c0mu2*c0mu3*c1mu1*c0nu0*c0nu1*c0nu2*c0nu3 + c1Mb*c0mu0*c0mu1*c0mu2*c0mu3*c0nu0*c0nu2*c0nu3*c1nu1)*n - 2*c2Mb*c0mu0*c0mu1*c0mu2*c0mu3*c0nu0*c0nu1*c0nu2*c0nu3 - c1Mb*c0mu1*c0mu2*c0mu3*c1mu0*c0nu0*c0nu1*c0nu2*c0nu3 + c1Mb*c0mu0*c0mu1*c0mu2*c0mu3*c0nu1*c0nu2*c0nu3*c1nu0"
      ]
     },
     "execution_count": 87,
     "metadata": {},
     "output_type": "execute_result"
    }
   ],
   "source": [
    "F(2)"
   ]
  },
  {
   "cell_type": "code",
   "execution_count": 88,
   "metadata": {},
   "outputs": [
    {
     "name": "stdout",
     "output_type": "stream",
     "text": [
      "3 0 0\n",
      "(n + 2, c3Mb, c0mu0*c0mu1*c0mu2*c0mu3*c0mu4, c0nu0*c0nu1*c0nu2*c0nu3*c0nu4)\n",
      "\n",
      "2 1 0\n",
      "(1, c2Mb, c0mu0*c0mu1*c0mu2*c0mu3*c1mu4*n^4 + c0mu0*c0mu1*c0mu2*c0mu4*c1mu3*n^3 + c0mu0*c0mu1*c0mu3*c0mu4*c1mu2*n^2 + c0mu0*c0mu2*c0mu3*c0mu4*c1mu1*n + c0mu1*c0mu2*c0mu3*c0mu4*c1mu0, c0nu0*c0nu1*c0nu2*c0nu3*c0nu4)\n",
      "\n",
      "2 0 1\n",
      "(1, c2Mb, c0mu0*c0mu1*c0mu2*c0mu3*c0mu4, c0nu0*c0nu1*c0nu2*c0nu3*c1nu4*n^4 + c0nu0*c0nu1*c0nu2*c0nu4*c1nu3*n^3 + c0nu0*c0nu1*c0nu3*c0nu4*c1nu2*n^2 + c0nu0*c0nu2*c0nu3*c0nu4*c1nu1*n + c0nu1*c0nu2*c0nu3*c0nu4*c1nu0)\n",
      "\n",
      "1 2 0\n",
      "(0, c1Mb, 1/2*c0mu0*c0mu1*c0mu2*c0mu3*c2mu4*n^8 + c0mu0*c0mu1*c0mu2*c1mu3*c1mu4*n^7 + (c0mu0*c0mu1*c0mu3*c1mu2*c1mu4 + 1/2*c0mu0*c0mu1*c0mu2*c0mu4*c2mu3)*n^6 + (c0mu0*c0mu1*c0mu4*c1mu2*c1mu3 + c0mu0*c0mu2*c0mu3*c1mu1*c1mu4)*n^5 + (c0mu0*c0mu2*c0mu4*c1mu1*c1mu3 + c0mu1*c0mu2*c0mu3*c1mu0*c1mu4 + 1/2*c0mu0*c0mu1*c0mu3*c0mu4*c2mu2 - 1/2*c0mu0*c0mu1*c0mu2*c0mu3*c2mu4)*n^4 + (c0mu0*c0mu3*c0mu4*c1mu1*c1mu2 + c0mu1*c0mu2*c0mu4*c1mu0*c1mu3 - 1/2*c0mu0*c0mu1*c0mu2*c0mu4*c2mu3)*n^3 + (c0mu1*c0mu3*c0mu4*c1mu0*c1mu2 + 1/2*c0mu0*c0mu2*c0mu3*c0mu4*c2mu1 - 1/2*c0mu0*c0mu1*c0mu3*c0mu4*c2mu2)*n^2 + (c0mu2*c0mu3*c0mu4*c1mu0*c1mu1 - 1/2*c0mu0*c0mu2*c0mu3*c0mu4*c2mu1)*n, c0nu0*c0nu1*c0nu2*c0nu3*c0nu4)\n",
      "\n",
      "1 1 1\n",
      "(0, c1Mb, c0mu0*c0mu1*c0mu2*c0mu3*c1mu4*n^4 + c0mu0*c0mu1*c0mu2*c0mu4*c1mu3*n^3 + c0mu0*c0mu1*c0mu3*c0mu4*c1mu2*n^2 + c0mu0*c0mu2*c0mu3*c0mu4*c1mu1*n + c0mu1*c0mu2*c0mu3*c0mu4*c1mu0, c0nu0*c0nu1*c0nu2*c0nu3*c1nu4*n^4 + c0nu0*c0nu1*c0nu2*c0nu4*c1nu3*n^3 + c0nu0*c0nu1*c0nu3*c0nu4*c1nu2*n^2 + c0nu0*c0nu2*c0nu3*c0nu4*c1nu1*n + c0nu1*c0nu2*c0nu3*c0nu4*c1nu0)\n",
      "\n",
      "1 0 2\n",
      "(0, c1Mb, c0mu0*c0mu1*c0mu2*c0mu3*c0mu4, 1/2*c0nu0*c0nu1*c0nu2*c0nu3*c2nu4*n^8 + c0nu0*c0nu1*c0nu2*c1nu3*c1nu4*n^7 + (c0nu0*c0nu1*c0nu3*c1nu2*c1nu4 + 1/2*c0nu0*c0nu1*c0nu2*c0nu4*c2nu3)*n^6 + (c0nu0*c0nu1*c0nu4*c1nu2*c1nu3 + c0nu0*c0nu2*c0nu3*c1nu1*c1nu4)*n^5 + (c0nu0*c0nu2*c0nu4*c1nu1*c1nu3 + c0nu1*c0nu2*c0nu3*c1nu0*c1nu4 + 1/2*c0nu0*c0nu1*c0nu3*c0nu4*c2nu2 - 1/2*c0nu0*c0nu1*c0nu2*c0nu3*c2nu4)*n^4 + (c0nu0*c0nu3*c0nu4*c1nu1*c1nu2 + c0nu1*c0nu2*c0nu4*c1nu0*c1nu3 - 1/2*c0nu0*c0nu1*c0nu2*c0nu4*c2nu3)*n^3 + (c0nu1*c0nu3*c0nu4*c1nu0*c1nu2 + 1/2*c0nu0*c0nu2*c0nu3*c0nu4*c2nu1 - 1/2*c0nu0*c0nu1*c0nu3*c0nu4*c2nu2)*n^2 + (c0nu2*c0nu3*c0nu4*c1nu0*c1nu1 - 1/2*c0nu0*c0nu2*c0nu3*c0nu4*c2nu1)*n)\n",
      "\n",
      "0 3 0\n",
      "(0, c0Mb, 1/6*c0mu0*c0mu1*c0mu2*c0mu3*c3mu4*n^12 + 1/2*c0mu0*c0mu1*c0mu2*c1mu3*c2mu4*n^11 + (1/2*c0mu0*c0mu1*c0mu2*c1mu4*c2mu3 + 1/2*c0mu0*c0mu1*c0mu3*c1mu2*c2mu4)*n^10 + (c0mu0*c0mu1*c1mu2*c1mu3*c1mu4 + 1/2*c0mu0*c0mu2*c0mu3*c1mu1*c2mu4 + 1/6*c0mu0*c0mu1*c0mu2*c0mu4*c3mu3)*n^9 + (c0mu0*c0mu2*c1mu1*c1mu3*c1mu4 + 1/2*c0mu0*c0mu1*c0mu3*c1mu4*c2mu2 + 1/2*c0mu0*c0mu1*c0mu4*c1mu2*c2mu3 + 1/2*c0mu1*c0mu2*c0mu3*c1mu0*c2mu4 - 1/2*c0mu0*c0mu1*c0mu2*c0mu3*c3mu4)*n^8 + (c0mu0*c0mu3*c1mu1*c1mu2*c1mu4 + c0mu1*c0mu2*c1mu0*c1mu3*c1mu4 + 1/2*c0mu0*c0mu1*c0mu4*c1mu3*c2mu2 + 1/2*c0mu0*c0mu2*c0mu4*c1mu1*c2mu3 - 1/2*c0mu0*c0mu1*c0mu2*c1mu4*c2mu3 - 1/2*c0mu0*c0mu1*c0mu2*c1mu3*c2mu4)*n^7 + (c0mu0*c0mu4*c1mu1*c1mu2*c1mu3 + c0mu1*c0mu3*c1mu0*c1mu2*c1mu4 + 1/2*c0mu0*c0mu2*c0mu3*c1mu4*c2mu1 - 1/2*c0mu0*c0mu1*c0mu3*c1mu4*c2mu2 + 1/2*c0mu1*c0mu2*c0mu4*c1mu0*c2mu3 - 1/2*c0mu0*c0mu1*c0mu3*c1mu2*c2mu4 + 1/6*c0mu0*c0mu1*c0mu3*c0mu4*c3mu2 - 1/2*c0mu0*c0mu1*c0mu2*c0mu4*c3mu3)*n^6 + (c0mu1*c0mu4*c1mu0*c1mu2*c1mu3 + c0mu2*c0mu3*c1mu0*c1mu1*c1mu4 + 1/2*c0mu0*c0mu2*c0mu4*c1mu3*c2mu1 - 1/2*c0mu0*c0mu2*c0mu3*c1mu4*c2mu1 + 1/2*c0mu0*c0mu3*c0mu4*c1mu1*c2mu2 - 1/2*c0mu0*c0mu1*c0mu4*c1mu3*c2mu2 - 1/2*c0mu0*c0mu1*c0mu4*c1mu2*c2mu3 - 1/2*c0mu0*c0mu2*c0mu3*c1mu1*c2mu4)*n^5 + (c0mu2*c0mu4*c1mu0*c1mu1*c1mu3 + 1/2*c0mu0*c0mu3*c0mu4*c1mu2*c2mu1 - 1/2*c0mu0*c0mu2*c0mu4*c1mu3*c2mu1 + 1/2*c0mu1*c0mu3*c0mu4*c1mu0*c2mu2 - 1/2*c0mu0*c0mu2*c0mu4*c1mu1*c2mu3 - 1/2*c0mu1*c0mu2*c0mu3*c1mu0*c2mu4 - 1/2*c0mu0*c0mu1*c0mu3*c0mu4*c3mu2 + 1/3*c0mu0*c0mu1*c0mu2*c0mu3*c3mu4)*n^4 + (c0mu3*c0mu4*c1mu0*c1mu1*c1mu2 - 1/2*c0mu0*c0mu3*c0mu4*c1mu2*c2mu1 - 1/2*c0mu0*c0mu3*c0mu4*c1mu1*c2mu2 - 1/2*c0mu1*c0mu2*c0mu4*c1mu0*c2mu3 + 1/6*c0mu0*c0mu2*c0mu3*c0mu4*c3mu1 + 1/3*c0mu0*c0mu1*c0mu2*c0mu4*c3mu3)*n^3 + (1/2*c0mu2*c0mu3*c0mu4*c1mu0*c2mu1 - 1/2*c0mu1*c0mu3*c0mu4*c1mu0*c2mu2 - 1/2*c0mu0*c0mu2*c0mu3*c0mu4*c3mu1 + 1/3*c0mu0*c0mu1*c0mu3*c0mu4*c3mu2)*n^2 + (-1/2*c0mu2*c0mu3*c0mu4*c1mu0*c2mu1 + 1/3*c0mu0*c0mu2*c0mu3*c0mu4*c3mu1)*n, c0nu0*c0nu1*c0nu2*c0nu3*c0nu4)\n",
      "\n",
      "0 2 1\n",
      "(0, c0Mb, 1/2*c0mu0*c0mu1*c0mu2*c0mu3*c2mu4*n^8 + c0mu0*c0mu1*c0mu2*c1mu3*c1mu4*n^7 + (c0mu0*c0mu1*c0mu3*c1mu2*c1mu4 + 1/2*c0mu0*c0mu1*c0mu2*c0mu4*c2mu3)*n^6 + (c0mu0*c0mu1*c0mu4*c1mu2*c1mu3 + c0mu0*c0mu2*c0mu3*c1mu1*c1mu4)*n^5 + (c0mu0*c0mu2*c0mu4*c1mu1*c1mu3 + c0mu1*c0mu2*c0mu3*c1mu0*c1mu4 + 1/2*c0mu0*c0mu1*c0mu3*c0mu4*c2mu2 - 1/2*c0mu0*c0mu1*c0mu2*c0mu3*c2mu4)*n^4 + (c0mu0*c0mu3*c0mu4*c1mu1*c1mu2 + c0mu1*c0mu2*c0mu4*c1mu0*c1mu3 - 1/2*c0mu0*c0mu1*c0mu2*c0mu4*c2mu3)*n^3 + (c0mu1*c0mu3*c0mu4*c1mu0*c1mu2 + 1/2*c0mu0*c0mu2*c0mu3*c0mu4*c2mu1 - 1/2*c0mu0*c0mu1*c0mu3*c0mu4*c2mu2)*n^2 + (c0mu2*c0mu3*c0mu4*c1mu0*c1mu1 - 1/2*c0mu0*c0mu2*c0mu3*c0mu4*c2mu1)*n, c0nu0*c0nu1*c0nu2*c0nu3*c1nu4*n^4 + c0nu0*c0nu1*c0nu2*c0nu4*c1nu3*n^3 + c0nu0*c0nu1*c0nu3*c0nu4*c1nu2*n^2 + c0nu0*c0nu2*c0nu3*c0nu4*c1nu1*n + c0nu1*c0nu2*c0nu3*c0nu4*c1nu0)\n",
      "\n",
      "0 1 2\n",
      "(0, c0Mb, c0mu0*c0mu1*c0mu2*c0mu3*c1mu4*n^4 + c0mu0*c0mu1*c0mu2*c0mu4*c1mu3*n^3 + c0mu0*c0mu1*c0mu3*c0mu4*c1mu2*n^2 + c0mu0*c0mu2*c0mu3*c0mu4*c1mu1*n + c0mu1*c0mu2*c0mu3*c0mu4*c1mu0, 1/2*c0nu0*c0nu1*c0nu2*c0nu3*c2nu4*n^8 + c0nu0*c0nu1*c0nu2*c1nu3*c1nu4*n^7 + (c0nu0*c0nu1*c0nu3*c1nu2*c1nu4 + 1/2*c0nu0*c0nu1*c0nu2*c0nu4*c2nu3)*n^6 + (c0nu0*c0nu1*c0nu4*c1nu2*c1nu3 + c0nu0*c0nu2*c0nu3*c1nu1*c1nu4)*n^5 + (c0nu0*c0nu2*c0nu4*c1nu1*c1nu3 + c0nu1*c0nu2*c0nu3*c1nu0*c1nu4 + 1/2*c0nu0*c0nu1*c0nu3*c0nu4*c2nu2 - 1/2*c0nu0*c0nu1*c0nu2*c0nu3*c2nu4)*n^4 + (c0nu0*c0nu3*c0nu4*c1nu1*c1nu2 + c0nu1*c0nu2*c0nu4*c1nu0*c1nu3 - 1/2*c0nu0*c0nu1*c0nu2*c0nu4*c2nu3)*n^3 + (c0nu1*c0nu3*c0nu4*c1nu0*c1nu2 + 1/2*c0nu0*c0nu2*c0nu3*c0nu4*c2nu1 - 1/2*c0nu0*c0nu1*c0nu3*c0nu4*c2nu2)*n^2 + (c0nu2*c0nu3*c0nu4*c1nu0*c1nu1 - 1/2*c0nu0*c0nu2*c0nu3*c0nu4*c2nu1)*n)\n",
      "\n",
      "0 0 3\n",
      "(0, c0Mb, c0mu0*c0mu1*c0mu2*c0mu3*c0mu4, 1/6*c0nu0*c0nu1*c0nu2*c0nu3*c3nu4*n^12 + 1/2*c0nu0*c0nu1*c0nu2*c1nu3*c2nu4*n^11 + (1/2*c0nu0*c0nu1*c0nu2*c1nu4*c2nu3 + 1/2*c0nu0*c0nu1*c0nu3*c1nu2*c2nu4)*n^10 + (c0nu0*c0nu1*c1nu2*c1nu3*c1nu4 + 1/2*c0nu0*c0nu2*c0nu3*c1nu1*c2nu4 + 1/6*c0nu0*c0nu1*c0nu2*c0nu4*c3nu3)*n^9 + (c0nu0*c0nu2*c1nu1*c1nu3*c1nu4 + 1/2*c0nu0*c0nu1*c0nu3*c1nu4*c2nu2 + 1/2*c0nu0*c0nu1*c0nu4*c1nu2*c2nu3 + 1/2*c0nu1*c0nu2*c0nu3*c1nu0*c2nu4 - 1/2*c0nu0*c0nu1*c0nu2*c0nu3*c3nu4)*n^8 + (c0nu0*c0nu3*c1nu1*c1nu2*c1nu4 + c0nu1*c0nu2*c1nu0*c1nu3*c1nu4 + 1/2*c0nu0*c0nu1*c0nu4*c1nu3*c2nu2 + 1/2*c0nu0*c0nu2*c0nu4*c1nu1*c2nu3 - 1/2*c0nu0*c0nu1*c0nu2*c1nu4*c2nu3 - 1/2*c0nu0*c0nu1*c0nu2*c1nu3*c2nu4)*n^7 + (c0nu0*c0nu4*c1nu1*c1nu2*c1nu3 + c0nu1*c0nu3*c1nu0*c1nu2*c1nu4 + 1/2*c0nu0*c0nu2*c0nu3*c1nu4*c2nu1 - 1/2*c0nu0*c0nu1*c0nu3*c1nu4*c2nu2 + 1/2*c0nu1*c0nu2*c0nu4*c1nu0*c2nu3 - 1/2*c0nu0*c0nu1*c0nu3*c1nu2*c2nu4 + 1/6*c0nu0*c0nu1*c0nu3*c0nu4*c3nu2 - 1/2*c0nu0*c0nu1*c0nu2*c0nu4*c3nu3)*n^6 + (c0nu1*c0nu4*c1nu0*c1nu2*c1nu3 + c0nu2*c0nu3*c1nu0*c1nu1*c1nu4 + 1/2*c0nu0*c0nu2*c0nu4*c1nu3*c2nu1 - 1/2*c0nu0*c0nu2*c0nu3*c1nu4*c2nu1 + 1/2*c0nu0*c0nu3*c0nu4*c1nu1*c2nu2 - 1/2*c0nu0*c0nu1*c0nu4*c1nu3*c2nu2 - 1/2*c0nu0*c0nu1*c0nu4*c1nu2*c2nu3 - 1/2*c0nu0*c0nu2*c0nu3*c1nu1*c2nu4)*n^5 + (c0nu2*c0nu4*c1nu0*c1nu1*c1nu3 + 1/2*c0nu0*c0nu3*c0nu4*c1nu2*c2nu1 - 1/2*c0nu0*c0nu2*c0nu4*c1nu3*c2nu1 + 1/2*c0nu1*c0nu3*c0nu4*c1nu0*c2nu2 - 1/2*c0nu0*c0nu2*c0nu4*c1nu1*c2nu3 - 1/2*c0nu1*c0nu2*c0nu3*c1nu0*c2nu4 - 1/2*c0nu0*c0nu1*c0nu3*c0nu4*c3nu2 + 1/3*c0nu0*c0nu1*c0nu2*c0nu3*c3nu4)*n^4 + (c0nu3*c0nu4*c1nu0*c1nu1*c1nu2 - 1/2*c0nu0*c0nu3*c0nu4*c1nu2*c2nu1 - 1/2*c0nu0*c0nu3*c0nu4*c1nu1*c2nu2 - 1/2*c0nu1*c0nu2*c0nu4*c1nu0*c2nu3 + 1/6*c0nu0*c0nu2*c0nu3*c0nu4*c3nu1 + 1/3*c0nu0*c0nu1*c0nu2*c0nu4*c3nu3)*n^3 + (1/2*c0nu2*c0nu3*c0nu4*c1nu0*c2nu1 - 1/2*c0nu1*c0nu3*c0nu4*c1nu0*c2nu2 - 1/2*c0nu0*c0nu2*c0nu3*c0nu4*c3nu1 + 1/3*c0nu0*c0nu1*c0nu3*c0nu4*c3nu2)*n^2 + (-1/2*c0nu2*c0nu3*c0nu4*c1nu0*c2nu1 + 1/3*c0nu0*c0nu2*c0nu3*c0nu4*c3nu1)*n)\n",
      "\n"
     ]
    },
    {
     "data": {
      "text/plain": [
       "(-c2Mb*c0mu0*c0mu1*c0mu2*c0mu3*c1mu4*c0nu0*c0nu1*c0nu2*c0nu3*c0nu4 + c2Mb*c0mu0*c0mu1*c0mu2*c0mu3*c0mu4*c0nu0*c0nu1*c0nu2*c0nu3*c1nu4)*n^4 + (-c2Mb*c0mu0*c0mu1*c0mu2*c0mu4*c1mu3*c0nu0*c0nu1*c0nu2*c0nu3*c0nu4 + c2Mb*c0mu0*c0mu1*c0mu2*c0mu3*c0mu4*c0nu0*c0nu1*c0nu2*c0nu4*c1nu3)*n^3 + (-c2Mb*c0mu0*c0mu1*c0mu3*c0mu4*c1mu2*c0nu0*c0nu1*c0nu2*c0nu3*c0nu4 + c2Mb*c0mu0*c0mu1*c0mu2*c0mu3*c0mu4*c0nu0*c0nu1*c0nu3*c0nu4*c1nu2)*n^2 + (-c3Mb*c0mu0*c0mu1*c0mu2*c0mu3*c0mu4*c0nu0*c0nu1*c0nu2*c0nu3*c0nu4 - c2Mb*c0mu0*c0mu2*c0mu3*c0mu4*c1mu1*c0nu0*c0nu1*c0nu2*c0nu3*c0nu4 + c2Mb*c0mu0*c0mu1*c0mu2*c0mu3*c0mu4*c0nu0*c0nu2*c0nu3*c0nu4*c1nu1)*n - 2*c3Mb*c0mu0*c0mu1*c0mu2*c0mu3*c0mu4*c0nu0*c0nu1*c0nu2*c0nu3*c0nu4 - c2Mb*c0mu1*c0mu2*c0mu3*c0mu4*c1mu0*c0nu0*c0nu1*c0nu2*c0nu3*c0nu4 + c2Mb*c0mu0*c0mu1*c0mu2*c0mu3*c0mu4*c0nu1*c0nu2*c0nu3*c0nu4*c1nu0"
      ]
     },
     "execution_count": 88,
     "metadata": {},
     "output_type": "execute_result"
    }
   ],
   "source": [
    "F(3)"
   ]
  },
  {
   "cell_type": "code",
   "execution_count": 89,
   "metadata": {},
   "outputs": [
    {
     "name": "stdout",
     "output_type": "stream",
     "text": [
      "4 0 0\n",
      "(n + 2, c4Mb, c0mu0*c0mu1*c0mu2*c0mu3*c0mu4*c0mu5, c0nu0*c0nu1*c0nu2*c0nu3*c0nu4*c0nu5)\n",
      "\n",
      "3 1 0\n",
      "(1, c3Mb, c0mu0*c0mu1*c0mu2*c0mu3*c0mu4*c1mu5*n^5 + c0mu0*c0mu1*c0mu2*c0mu3*c0mu5*c1mu4*n^4 + c0mu0*c0mu1*c0mu2*c0mu4*c0mu5*c1mu3*n^3 + c0mu0*c0mu1*c0mu3*c0mu4*c0mu5*c1mu2*n^2 + c0mu0*c0mu2*c0mu3*c0mu4*c0mu5*c1mu1*n + c0mu1*c0mu2*c0mu3*c0mu4*c0mu5*c1mu0, c0nu0*c0nu1*c0nu2*c0nu3*c0nu4*c0nu5)\n",
      "\n",
      "3 0 1\n",
      "(1, c3Mb, c0mu0*c0mu1*c0mu2*c0mu3*c0mu4*c0mu5, c0nu0*c0nu1*c0nu2*c0nu3*c0nu4*c1nu5*n^5 + c0nu0*c0nu1*c0nu2*c0nu3*c0nu5*c1nu4*n^4 + c0nu0*c0nu1*c0nu2*c0nu4*c0nu5*c1nu3*n^3 + c0nu0*c0nu1*c0nu3*c0nu4*c0nu5*c1nu2*n^2 + c0nu0*c0nu2*c0nu3*c0nu4*c0nu5*c1nu1*n + c0nu1*c0nu2*c0nu3*c0nu4*c0nu5*c1nu0)\n",
      "\n",
      "2 2 0\n",
      "(0, c2Mb, 1/2*c0mu0*c0mu1*c0mu2*c0mu3*c0mu4*c2mu5*n^10 + c0mu0*c0mu1*c0mu2*c0mu3*c1mu4*c1mu5*n^9 + (c0mu0*c0mu1*c0mu2*c0mu4*c1mu3*c1mu5 + 1/2*c0mu0*c0mu1*c0mu2*c0mu3*c0mu5*c2mu4)*n^8 + (c0mu0*c0mu1*c0mu2*c0mu5*c1mu3*c1mu4 + c0mu0*c0mu1*c0mu3*c0mu4*c1mu2*c1mu5)*n^7 + (c0mu0*c0mu1*c0mu3*c0mu5*c1mu2*c1mu4 + c0mu0*c0mu2*c0mu3*c0mu4*c1mu1*c1mu5 + 1/2*c0mu0*c0mu1*c0mu2*c0mu4*c0mu5*c2mu3)*n^6 + (c0mu0*c0mu1*c0mu4*c0mu5*c1mu2*c1mu3 + c0mu0*c0mu2*c0mu3*c0mu5*c1mu1*c1mu4 + c0mu1*c0mu2*c0mu3*c0mu4*c1mu0*c1mu5 - 1/2*c0mu0*c0mu1*c0mu2*c0mu3*c0mu4*c2mu5)*n^5 + (c0mu0*c0mu2*c0mu4*c0mu5*c1mu1*c1mu3 + c0mu1*c0mu2*c0mu3*c0mu5*c1mu0*c1mu4 + 1/2*c0mu0*c0mu1*c0mu3*c0mu4*c0mu5*c2mu2 - 1/2*c0mu0*c0mu1*c0mu2*c0mu3*c0mu5*c2mu4)*n^4 + (c0mu0*c0mu3*c0mu4*c0mu5*c1mu1*c1mu2 + c0mu1*c0mu2*c0mu4*c0mu5*c1mu0*c1mu3 - 1/2*c0mu0*c0mu1*c0mu2*c0mu4*c0mu5*c2mu3)*n^3 + (c0mu1*c0mu3*c0mu4*c0mu5*c1mu0*c1mu2 + 1/2*c0mu0*c0mu2*c0mu3*c0mu4*c0mu5*c2mu1 - 1/2*c0mu0*c0mu1*c0mu3*c0mu4*c0mu5*c2mu2)*n^2 + (c0mu2*c0mu3*c0mu4*c0mu5*c1mu0*c1mu1 - 1/2*c0mu0*c0mu2*c0mu3*c0mu4*c0mu5*c2mu1)*n, c0nu0*c0nu1*c0nu2*c0nu3*c0nu4*c0nu5)\n",
      "\n",
      "2 1 1\n",
      "(0, c2Mb, c0mu0*c0mu1*c0mu2*c0mu3*c0mu4*c1mu5*n^5 + c0mu0*c0mu1*c0mu2*c0mu3*c0mu5*c1mu4*n^4 + c0mu0*c0mu1*c0mu2*c0mu4*c0mu5*c1mu3*n^3 + c0mu0*c0mu1*c0mu3*c0mu4*c0mu5*c1mu2*n^2 + c0mu0*c0mu2*c0mu3*c0mu4*c0mu5*c1mu1*n + c0mu1*c0mu2*c0mu3*c0mu4*c0mu5*c1mu0, c0nu0*c0nu1*c0nu2*c0nu3*c0nu4*c1nu5*n^5 + c0nu0*c0nu1*c0nu2*c0nu3*c0nu5*c1nu4*n^4 + c0nu0*c0nu1*c0nu2*c0nu4*c0nu5*c1nu3*n^3 + c0nu0*c0nu1*c0nu3*c0nu4*c0nu5*c1nu2*n^2 + c0nu0*c0nu2*c0nu3*c0nu4*c0nu5*c1nu1*n + c0nu1*c0nu2*c0nu3*c0nu4*c0nu5*c1nu0)\n",
      "\n",
      "2 0 2\n",
      "(0, c2Mb, c0mu0*c0mu1*c0mu2*c0mu3*c0mu4*c0mu5, 1/2*c0nu0*c0nu1*c0nu2*c0nu3*c0nu4*c2nu5*n^10 + c0nu0*c0nu1*c0nu2*c0nu3*c1nu4*c1nu5*n^9 + (c0nu0*c0nu1*c0nu2*c0nu4*c1nu3*c1nu5 + 1/2*c0nu0*c0nu1*c0nu2*c0nu3*c0nu5*c2nu4)*n^8 + (c0nu0*c0nu1*c0nu2*c0nu5*c1nu3*c1nu4 + c0nu0*c0nu1*c0nu3*c0nu4*c1nu2*c1nu5)*n^7 + (c0nu0*c0nu1*c0nu3*c0nu5*c1nu2*c1nu4 + c0nu0*c0nu2*c0nu3*c0nu4*c1nu1*c1nu5 + 1/2*c0nu0*c0nu1*c0nu2*c0nu4*c0nu5*c2nu3)*n^6 + (c0nu0*c0nu1*c0nu4*c0nu5*c1nu2*c1nu3 + c0nu0*c0nu2*c0nu3*c0nu5*c1nu1*c1nu4 + c0nu1*c0nu2*c0nu3*c0nu4*c1nu0*c1nu5 - 1/2*c0nu0*c0nu1*c0nu2*c0nu3*c0nu4*c2nu5)*n^5 + (c0nu0*c0nu2*c0nu4*c0nu5*c1nu1*c1nu3 + c0nu1*c0nu2*c0nu3*c0nu5*c1nu0*c1nu4 + 1/2*c0nu0*c0nu1*c0nu3*c0nu4*c0nu5*c2nu2 - 1/2*c0nu0*c0nu1*c0nu2*c0nu3*c0nu5*c2nu4)*n^4 + (c0nu0*c0nu3*c0nu4*c0nu5*c1nu1*c1nu2 + c0nu1*c0nu2*c0nu4*c0nu5*c1nu0*c1nu3 - 1/2*c0nu0*c0nu1*c0nu2*c0nu4*c0nu5*c2nu3)*n^3 + (c0nu1*c0nu3*c0nu4*c0nu5*c1nu0*c1nu2 + 1/2*c0nu0*c0nu2*c0nu3*c0nu4*c0nu5*c2nu1 - 1/2*c0nu0*c0nu1*c0nu3*c0nu4*c0nu5*c2nu2)*n^2 + (c0nu2*c0nu3*c0nu4*c0nu5*c1nu0*c1nu1 - 1/2*c0nu0*c0nu2*c0nu3*c0nu4*c0nu5*c2nu1)*n)\n",
      "\n",
      "1 3 0\n",
      "(0, c1Mb, 1/6*c0mu0*c0mu1*c0mu2*c0mu3*c0mu4*c3mu5*n^15 + 1/2*c0mu0*c0mu1*c0mu2*c0mu3*c1mu4*c2mu5*n^14 + (1/2*c0mu0*c0mu1*c0mu2*c0mu3*c1mu5*c2mu4 + 1/2*c0mu0*c0mu1*c0mu2*c0mu4*c1mu3*c2mu5)*n^13 + (c0mu0*c0mu1*c0mu2*c1mu3*c1mu4*c1mu5 + 1/2*c0mu0*c0mu1*c0mu3*c0mu4*c1mu2*c2mu5 + 1/6*c0mu0*c0mu1*c0mu2*c0mu3*c0mu5*c3mu4)*n^12 + (c0mu0*c0mu1*c0mu3*c1mu2*c1mu4*c1mu5 + 1/2*c0mu0*c0mu1*c0mu2*c0mu4*c1mu5*c2mu3 + 1/2*c0mu0*c0mu1*c0mu2*c0mu5*c1mu3*c2mu4 + 1/2*c0mu0*c0mu2*c0mu3*c0mu4*c1mu1*c2mu5)*n^11 + (c0mu0*c0mu1*c0mu4*c1mu2*c1mu3*c1mu5 + c0mu0*c0mu2*c0mu3*c1mu1*c1mu4*c1mu5 + 1/2*c0mu0*c0mu1*c0mu2*c0mu5*c1mu4*c2mu3 + 1/2*c0mu0*c0mu1*c0mu3*c0mu5*c1mu2*c2mu4 + 1/2*c0mu1*c0mu2*c0mu3*c0mu4*c1mu0*c2mu5 - 1/2*c0mu0*c0mu1*c0mu2*c0mu3*c0mu4*c3mu5)*n^10 + (c0mu0*c0mu1*c0mu5*c1mu2*c1mu3*c1mu4 + c0mu0*c0mu2*c0mu4*c1mu1*c1mu3*c1mu5 + c0mu1*c0mu2*c0mu3*c1mu0*c1mu4*c1mu5 + 1/2*c0mu0*c0mu1*c0mu3*c0mu4*c1mu5*c2mu2 + 1/2*c0mu0*c0mu2*c0mu3*c0mu5*c1mu1*c2mu4 - 1/2*c0mu0*c0mu1*c0mu2*c0mu3*c1mu5*c2mu4 - 1/2*c0mu0*c0mu1*c0mu2*c0mu3*c1mu4*c2mu5 + 1/6*c0mu0*c0mu1*c0mu2*c0mu4*c0mu5*c3mu3)*n^9 + (c0mu0*c0mu2*c0mu5*c1mu1*c1mu3*c1mu4 + c0mu0*c0mu3*c0mu4*c1mu1*c1mu2*c1mu5 + c0mu1*c0mu2*c0mu4*c1mu0*c1mu3*c1mu5 + 1/2*c0mu0*c0mu1*c0mu3*c0mu5*c1mu4*c2mu2 + 1/2*c0mu0*c0mu1*c0mu4*c0mu5*c1mu2*c2mu3 - 1/2*c0mu0*c0mu1*c0mu2*c0mu4*c1mu5*c2mu3 + 1/2*c0mu1*c0mu2*c0mu3*c0mu5*c1mu0*c2mu4 - 1/2*c0mu0*c0mu1*c0mu2*c0mu4*c1mu3*c2mu5 - 1/2*c0mu0*c0mu1*c0mu2*c0mu3*c0mu5*c3mu4)*n^8 + (c0mu0*c0mu3*c0mu5*c1mu1*c1mu2*c1mu4 + c0mu1*c0mu2*c0mu5*c1mu0*c1mu3*c1mu4 + c0mu1*c0mu3*c0mu4*c1mu0*c1mu2*c1mu5 + 1/2*c0mu0*c0mu2*c0mu3*c0mu4*c1mu5*c2mu1 + 1/2*c0mu0*c0mu1*c0mu4*c0mu5*c1mu3*c2mu2 - 1/2*c0mu0*c0mu1*c0mu3*c0mu4*c1mu5*c2mu2 + 1/2*c0mu0*c0mu2*c0mu4*c0mu5*c1mu1*c2mu3 - 1/2*c0mu0*c0mu1*c0mu2*c0mu5*c1mu4*c2mu3 - 1/2*c0mu0*c0mu1*c0mu2*c0mu5*c1mu3*c2mu4 - 1/2*c0mu0*c0mu1*c0mu3*c0mu4*c1mu2*c2mu5)*n^7 + (c0mu0*c0mu4*c0mu5*c1mu1*c1mu2*c1mu3 + c0mu1*c0mu3*c0mu5*c1mu0*c1mu2*c1mu4 + c0mu2*c0mu3*c0mu4*c1mu0*c1mu1*c1mu5 + 1/2*c0mu0*c0mu2*c0mu3*c0mu5*c1mu4*c2mu1 - 1/2*c0mu0*c0mu2*c0mu3*c0mu4*c1mu5*c2mu1 - 1/2*c0mu0*c0mu1*c0mu3*c0mu5*c1mu4*c2mu2 + 1/2*c0mu1*c0mu2*c0mu4*c0mu5*c1mu0*c2mu3 - 1/2*c0mu0*c0mu1*c0mu3*c0mu5*c1mu2*c2mu4 - 1/2*c0mu0*c0mu2*c0mu3*c0mu4*c1mu1*c2mu5 + 1/6*c0mu0*c0mu1*c0mu3*c0mu4*c0mu5*c3mu2 - 1/2*c0mu0*c0mu1*c0mu2*c0mu4*c0mu5*c3mu3)*n^6 + (c0mu1*c0mu4*c0mu5*c1mu0*c1mu2*c1mu3 + c0mu2*c0mu3*c0mu5*c1mu0*c1mu1*c1mu4 + 1/2*c0mu0*c0mu2*c0mu4*c0mu5*c1mu3*c2mu1 - 1/2*c0mu0*c0mu2*c0mu3*c0mu5*c1mu4*c2mu1 + 1/2*c0mu0*c0mu3*c0mu4*c0mu5*c1mu1*c2mu2 - 1/2*c0mu0*c0mu1*c0mu4*c0mu5*c1mu3*c2mu2 - 1/2*c0mu0*c0mu1*c0mu4*c0mu5*c1mu2*c2mu3 - 1/2*c0mu0*c0mu2*c0mu3*c0mu5*c1mu1*c2mu4 - 1/2*c0mu1*c0mu2*c0mu3*c0mu4*c1mu0*c2mu5 + 1/3*c0mu0*c0mu1*c0mu2*c0mu3*c0mu4*c3mu5)*n^5 + (c0mu2*c0mu4*c0mu5*c1mu0*c1mu1*c1mu3 + 1/2*c0mu0*c0mu3*c0mu4*c0mu5*c1mu2*c2mu1 - 1/2*c0mu0*c0mu2*c0mu4*c0mu5*c1mu3*c2mu1 + 1/2*c0mu1*c0mu3*c0mu4*c0mu5*c1mu0*c2mu2 - 1/2*c0mu0*c0mu2*c0mu4*c0mu5*c1mu1*c2mu3 - 1/2*c0mu1*c0mu2*c0mu3*c0mu5*c1mu0*c2mu4 - 1/2*c0mu0*c0mu1*c0mu3*c0mu4*c0mu5*c3mu2 + 1/3*c0mu0*c0mu1*c0mu2*c0mu3*c0mu5*c3mu4)*n^4 + (c0mu3*c0mu4*c0mu5*c1mu0*c1mu1*c1mu2 - 1/2*c0mu0*c0mu3*c0mu4*c0mu5*c1mu2*c2mu1 - 1/2*c0mu0*c0mu3*c0mu4*c0mu5*c1mu1*c2mu2 - 1/2*c0mu1*c0mu2*c0mu4*c0mu5*c1mu0*c2mu3 + 1/6*c0mu0*c0mu2*c0mu3*c0mu4*c0mu5*c3mu1 + 1/3*c0mu0*c0mu1*c0mu2*c0mu4*c0mu5*c3mu3)*n^3 + (1/2*c0mu2*c0mu3*c0mu4*c0mu5*c1mu0*c2mu1 - 1/2*c0mu1*c0mu3*c0mu4*c0mu5*c1mu0*c2mu2 - 1/2*c0mu0*c0mu2*c0mu3*c0mu4*c0mu5*c3mu1 + 1/3*c0mu0*c0mu1*c0mu3*c0mu4*c0mu5*c3mu2)*n^2 + (-1/2*c0mu2*c0mu3*c0mu4*c0mu5*c1mu0*c2mu1 + 1/3*c0mu0*c0mu2*c0mu3*c0mu4*c0mu5*c3mu1)*n, c0nu0*c0nu1*c0nu2*c0nu3*c0nu4*c0nu5)\n",
      "\n",
      "1 2 1\n",
      "(0, c1Mb, 1/2*c0mu0*c0mu1*c0mu2*c0mu3*c0mu4*c2mu5*n^10 + c0mu0*c0mu1*c0mu2*c0mu3*c1mu4*c1mu5*n^9 + (c0mu0*c0mu1*c0mu2*c0mu4*c1mu3*c1mu5 + 1/2*c0mu0*c0mu1*c0mu2*c0mu3*c0mu5*c2mu4)*n^8 + (c0mu0*c0mu1*c0mu2*c0mu5*c1mu3*c1mu4 + c0mu0*c0mu1*c0mu3*c0mu4*c1mu2*c1mu5)*n^7 + (c0mu0*c0mu1*c0mu3*c0mu5*c1mu2*c1mu4 + c0mu0*c0mu2*c0mu3*c0mu4*c1mu1*c1mu5 + 1/2*c0mu0*c0mu1*c0mu2*c0mu4*c0mu5*c2mu3)*n^6 + (c0mu0*c0mu1*c0mu4*c0mu5*c1mu2*c1mu3 + c0mu0*c0mu2*c0mu3*c0mu5*c1mu1*c1mu4 + c0mu1*c0mu2*c0mu3*c0mu4*c1mu0*c1mu5 - 1/2*c0mu0*c0mu1*c0mu2*c0mu3*c0mu4*c2mu5)*n^5 + (c0mu0*c0mu2*c0mu4*c0mu5*c1mu1*c1mu3 + c0mu1*c0mu2*c0mu3*c0mu5*c1mu0*c1mu4 + 1/2*c0mu0*c0mu1*c0mu3*c0mu4*c0mu5*c2mu2 - 1/2*c0mu0*c0mu1*c0mu2*c0mu3*c0mu5*c2mu4)*n^4 + (c0mu0*c0mu3*c0mu4*c0mu5*c1mu1*c1mu2 + c0mu1*c0mu2*c0mu4*c0mu5*c1mu0*c1mu3 - 1/2*c0mu0*c0mu1*c0mu2*c0mu4*c0mu5*c2mu3)*n^3 + (c0mu1*c0mu3*c0mu4*c0mu5*c1mu0*c1mu2 + 1/2*c0mu0*c0mu2*c0mu3*c0mu4*c0mu5*c2mu1 - 1/2*c0mu0*c0mu1*c0mu3*c0mu4*c0mu5*c2mu2)*n^2 + (c0mu2*c0mu3*c0mu4*c0mu5*c1mu0*c1mu1 - 1/2*c0mu0*c0mu2*c0mu3*c0mu4*c0mu5*c2mu1)*n, c0nu0*c0nu1*c0nu2*c0nu3*c0nu4*c1nu5*n^5 + c0nu0*c0nu1*c0nu2*c0nu3*c0nu5*c1nu4*n^4 + c0nu0*c0nu1*c0nu2*c0nu4*c0nu5*c1nu3*n^3 + c0nu0*c0nu1*c0nu3*c0nu4*c0nu5*c1nu2*n^2 + c0nu0*c0nu2*c0nu3*c0nu4*c0nu5*c1nu1*n + c0nu1*c0nu2*c0nu3*c0nu4*c0nu5*c1nu0)\n",
      "\n",
      "1 1 2\n"
     ]
    },
    {
     "name": "stdout",
     "output_type": "stream",
     "text": [
      "(0, c1Mb, c0mu0*c0mu1*c0mu2*c0mu3*c0mu4*c1mu5*n^5 + c0mu0*c0mu1*c0mu2*c0mu3*c0mu5*c1mu4*n^4 + c0mu0*c0mu1*c0mu2*c0mu4*c0mu5*c1mu3*n^3 + c0mu0*c0mu1*c0mu3*c0mu4*c0mu5*c1mu2*n^2 + c0mu0*c0mu2*c0mu3*c0mu4*c0mu5*c1mu1*n + c0mu1*c0mu2*c0mu3*c0mu4*c0mu5*c1mu0, 1/2*c0nu0*c0nu1*c0nu2*c0nu3*c0nu4*c2nu5*n^10 + c0nu0*c0nu1*c0nu2*c0nu3*c1nu4*c1nu5*n^9 + (c0nu0*c0nu1*c0nu2*c0nu4*c1nu3*c1nu5 + 1/2*c0nu0*c0nu1*c0nu2*c0nu3*c0nu5*c2nu4)*n^8 + (c0nu0*c0nu1*c0nu2*c0nu5*c1nu3*c1nu4 + c0nu0*c0nu1*c0nu3*c0nu4*c1nu2*c1nu5)*n^7 + (c0nu0*c0nu1*c0nu3*c0nu5*c1nu2*c1nu4 + c0nu0*c0nu2*c0nu3*c0nu4*c1nu1*c1nu5 + 1/2*c0nu0*c0nu1*c0nu2*c0nu4*c0nu5*c2nu3)*n^6 + (c0nu0*c0nu1*c0nu4*c0nu5*c1nu2*c1nu3 + c0nu0*c0nu2*c0nu3*c0nu5*c1nu1*c1nu4 + c0nu1*c0nu2*c0nu3*c0nu4*c1nu0*c1nu5 - 1/2*c0nu0*c0nu1*c0nu2*c0nu3*c0nu4*c2nu5)*n^5 + (c0nu0*c0nu2*c0nu4*c0nu5*c1nu1*c1nu3 + c0nu1*c0nu2*c0nu3*c0nu5*c1nu0*c1nu4 + 1/2*c0nu0*c0nu1*c0nu3*c0nu4*c0nu5*c2nu2 - 1/2*c0nu0*c0nu1*c0nu2*c0nu3*c0nu5*c2nu4)*n^4 + (c0nu0*c0nu3*c0nu4*c0nu5*c1nu1*c1nu2 + c0nu1*c0nu2*c0nu4*c0nu5*c1nu0*c1nu3 - 1/2*c0nu0*c0nu1*c0nu2*c0nu4*c0nu5*c2nu3)*n^3 + (c0nu1*c0nu3*c0nu4*c0nu5*c1nu0*c1nu2 + 1/2*c0nu0*c0nu2*c0nu3*c0nu4*c0nu5*c2nu1 - 1/2*c0nu0*c0nu1*c0nu3*c0nu4*c0nu5*c2nu2)*n^2 + (c0nu2*c0nu3*c0nu4*c0nu5*c1nu0*c1nu1 - 1/2*c0nu0*c0nu2*c0nu3*c0nu4*c0nu5*c2nu1)*n)\n",
      "\n",
      "1 0 3\n",
      "(0, c1Mb, c0mu0*c0mu1*c0mu2*c0mu3*c0mu4*c0mu5, 1/6*c0nu0*c0nu1*c0nu2*c0nu3*c0nu4*c3nu5*n^15 + 1/2*c0nu0*c0nu1*c0nu2*c0nu3*c1nu4*c2nu5*n^14 + (1/2*c0nu0*c0nu1*c0nu2*c0nu3*c1nu5*c2nu4 + 1/2*c0nu0*c0nu1*c0nu2*c0nu4*c1nu3*c2nu5)*n^13 + (c0nu0*c0nu1*c0nu2*c1nu3*c1nu4*c1nu5 + 1/2*c0nu0*c0nu1*c0nu3*c0nu4*c1nu2*c2nu5 + 1/6*c0nu0*c0nu1*c0nu2*c0nu3*c0nu5*c3nu4)*n^12 + (c0nu0*c0nu1*c0nu3*c1nu2*c1nu4*c1nu5 + 1/2*c0nu0*c0nu1*c0nu2*c0nu4*c1nu5*c2nu3 + 1/2*c0nu0*c0nu1*c0nu2*c0nu5*c1nu3*c2nu4 + 1/2*c0nu0*c0nu2*c0nu3*c0nu4*c1nu1*c2nu5)*n^11 + (c0nu0*c0nu1*c0nu4*c1nu2*c1nu3*c1nu5 + c0nu0*c0nu2*c0nu3*c1nu1*c1nu4*c1nu5 + 1/2*c0nu0*c0nu1*c0nu2*c0nu5*c1nu4*c2nu3 + 1/2*c0nu0*c0nu1*c0nu3*c0nu5*c1nu2*c2nu4 + 1/2*c0nu1*c0nu2*c0nu3*c0nu4*c1nu0*c2nu5 - 1/2*c0nu0*c0nu1*c0nu2*c0nu3*c0nu4*c3nu5)*n^10 + (c0nu0*c0nu1*c0nu5*c1nu2*c1nu3*c1nu4 + c0nu0*c0nu2*c0nu4*c1nu1*c1nu3*c1nu5 + c0nu1*c0nu2*c0nu3*c1nu0*c1nu4*c1nu5 + 1/2*c0nu0*c0nu1*c0nu3*c0nu4*c1nu5*c2nu2 + 1/2*c0nu0*c0nu2*c0nu3*c0nu5*c1nu1*c2nu4 - 1/2*c0nu0*c0nu1*c0nu2*c0nu3*c1nu5*c2nu4 - 1/2*c0nu0*c0nu1*c0nu2*c0nu3*c1nu4*c2nu5 + 1/6*c0nu0*c0nu1*c0nu2*c0nu4*c0nu5*c3nu3)*n^9 + (c0nu0*c0nu2*c0nu5*c1nu1*c1nu3*c1nu4 + c0nu0*c0nu3*c0nu4*c1nu1*c1nu2*c1nu5 + c0nu1*c0nu2*c0nu4*c1nu0*c1nu3*c1nu5 + 1/2*c0nu0*c0nu1*c0nu3*c0nu5*c1nu4*c2nu2 + 1/2*c0nu0*c0nu1*c0nu4*c0nu5*c1nu2*c2nu3 - 1/2*c0nu0*c0nu1*c0nu2*c0nu4*c1nu5*c2nu3 + 1/2*c0nu1*c0nu2*c0nu3*c0nu5*c1nu0*c2nu4 - 1/2*c0nu0*c0nu1*c0nu2*c0nu4*c1nu3*c2nu5 - 1/2*c0nu0*c0nu1*c0nu2*c0nu3*c0nu5*c3nu4)*n^8 + (c0nu0*c0nu3*c0nu5*c1nu1*c1nu2*c1nu4 + c0nu1*c0nu2*c0nu5*c1nu0*c1nu3*c1nu4 + c0nu1*c0nu3*c0nu4*c1nu0*c1nu2*c1nu5 + 1/2*c0nu0*c0nu2*c0nu3*c0nu4*c1nu5*c2nu1 + 1/2*c0nu0*c0nu1*c0nu4*c0nu5*c1nu3*c2nu2 - 1/2*c0nu0*c0nu1*c0nu3*c0nu4*c1nu5*c2nu2 + 1/2*c0nu0*c0nu2*c0nu4*c0nu5*c1nu1*c2nu3 - 1/2*c0nu0*c0nu1*c0nu2*c0nu5*c1nu4*c2nu3 - 1/2*c0nu0*c0nu1*c0nu2*c0nu5*c1nu3*c2nu4 - 1/2*c0nu0*c0nu1*c0nu3*c0nu4*c1nu2*c2nu5)*n^7 + (c0nu0*c0nu4*c0nu5*c1nu1*c1nu2*c1nu3 + c0nu1*c0nu3*c0nu5*c1nu0*c1nu2*c1nu4 + c0nu2*c0nu3*c0nu4*c1nu0*c1nu1*c1nu5 + 1/2*c0nu0*c0nu2*c0nu3*c0nu5*c1nu4*c2nu1 - 1/2*c0nu0*c0nu2*c0nu3*c0nu4*c1nu5*c2nu1 - 1/2*c0nu0*c0nu1*c0nu3*c0nu5*c1nu4*c2nu2 + 1/2*c0nu1*c0nu2*c0nu4*c0nu5*c1nu0*c2nu3 - 1/2*c0nu0*c0nu1*c0nu3*c0nu5*c1nu2*c2nu4 - 1/2*c0nu0*c0nu2*c0nu3*c0nu4*c1nu1*c2nu5 + 1/6*c0nu0*c0nu1*c0nu3*c0nu4*c0nu5*c3nu2 - 1/2*c0nu0*c0nu1*c0nu2*c0nu4*c0nu5*c3nu3)*n^6 + (c0nu1*c0nu4*c0nu5*c1nu0*c1nu2*c1nu3 + c0nu2*c0nu3*c0nu5*c1nu0*c1nu1*c1nu4 + 1/2*c0nu0*c0nu2*c0nu4*c0nu5*c1nu3*c2nu1 - 1/2*c0nu0*c0nu2*c0nu3*c0nu5*c1nu4*c2nu1 + 1/2*c0nu0*c0nu3*c0nu4*c0nu5*c1nu1*c2nu2 - 1/2*c0nu0*c0nu1*c0nu4*c0nu5*c1nu3*c2nu2 - 1/2*c0nu0*c0nu1*c0nu4*c0nu5*c1nu2*c2nu3 - 1/2*c0nu0*c0nu2*c0nu3*c0nu5*c1nu1*c2nu4 - 1/2*c0nu1*c0nu2*c0nu3*c0nu4*c1nu0*c2nu5 + 1/3*c0nu0*c0nu1*c0nu2*c0nu3*c0nu4*c3nu5)*n^5 + (c0nu2*c0nu4*c0nu5*c1nu0*c1nu1*c1nu3 + 1/2*c0nu0*c0nu3*c0nu4*c0nu5*c1nu2*c2nu1 - 1/2*c0nu0*c0nu2*c0nu4*c0nu5*c1nu3*c2nu1 + 1/2*c0nu1*c0nu3*c0nu4*c0nu5*c1nu0*c2nu2 - 1/2*c0nu0*c0nu2*c0nu4*c0nu5*c1nu1*c2nu3 - 1/2*c0nu1*c0nu2*c0nu3*c0nu5*c1nu0*c2nu4 - 1/2*c0nu0*c0nu1*c0nu3*c0nu4*c0nu5*c3nu2 + 1/3*c0nu0*c0nu1*c0nu2*c0nu3*c0nu5*c3nu4)*n^4 + (c0nu3*c0nu4*c0nu5*c1nu0*c1nu1*c1nu2 - 1/2*c0nu0*c0nu3*c0nu4*c0nu5*c1nu2*c2nu1 - 1/2*c0nu0*c0nu3*c0nu4*c0nu5*c1nu1*c2nu2 - 1/2*c0nu1*c0nu2*c0nu4*c0nu5*c1nu0*c2nu3 + 1/6*c0nu0*c0nu2*c0nu3*c0nu4*c0nu5*c3nu1 + 1/3*c0nu0*c0nu1*c0nu2*c0nu4*c0nu5*c3nu3)*n^3 + (1/2*c0nu2*c0nu3*c0nu4*c0nu5*c1nu0*c2nu1 - 1/2*c0nu1*c0nu3*c0nu4*c0nu5*c1nu0*c2nu2 - 1/2*c0nu0*c0nu2*c0nu3*c0nu4*c0nu5*c3nu1 + 1/3*c0nu0*c0nu1*c0nu3*c0nu4*c0nu5*c3nu2)*n^2 + (-1/2*c0nu2*c0nu3*c0nu4*c0nu5*c1nu0*c2nu1 + 1/3*c0nu0*c0nu2*c0nu3*c0nu4*c0nu5*c3nu1)*n)\n",
      "\n",
      "0 4 0\n",
      "(0, c0Mb, 1/24*c0mu0*c0mu1*c0mu2*c0mu3*c0mu4*c4mu5*n^20 + 1/6*c0mu0*c0mu1*c0mu2*c0mu3*c1mu4*c3mu5*n^19 + (1/4*c0mu0*c0mu1*c0mu2*c0mu3*c2mu4*c2mu5 + 1/6*c0mu0*c0mu1*c0mu2*c0mu4*c1mu3*c3mu5)*n^18 + (1/2*c0mu0*c0mu1*c0mu2*c1mu3*c1mu4*c2mu5 + 1/6*c0mu0*c0mu1*c0mu2*c0mu3*c1mu5*c3mu4 + 1/6*c0mu0*c0mu1*c0mu3*c0mu4*c1mu2*c3mu5)*n^17 + (1/2*c0mu0*c0mu1*c0mu2*c1mu3*c1mu5*c2mu4 + 1/2*c0mu0*c0mu1*c0mu3*c1mu2*c1mu4*c2mu5 + 1/4*c0mu0*c0mu1*c0mu2*c0mu4*c2mu3*c2mu5 + 1/6*c0mu0*c0mu2*c0mu3*c0mu4*c1mu1*c3mu5 + 1/24*c0mu0*c0mu1*c0mu2*c0mu3*c0mu5*c4mu4)*n^16 + (1/2*c0mu0*c0mu1*c0mu2*c1mu4*c1mu5*c2mu3 + 1/2*c0mu0*c0mu1*c0mu3*c1mu2*c1mu5*c2mu4 + 1/2*c0mu0*c0mu1*c0mu4*c1mu2*c1mu3*c2mu5 + 1/2*c0mu0*c0mu2*c0mu3*c1mu1*c1mu4*c2mu5 + 1/6*c0mu0*c0mu1*c0mu2*c0mu5*c1mu3*c3mu4 + 1/6*c0mu1*c0mu2*c0mu3*c0mu4*c1mu0*c3mu5 - 1/4*c0mu0*c0mu1*c0mu2*c0mu3*c0mu4*c4mu5)*n^15 + (c0mu0*c0mu1*c1mu2*c1mu3*c1mu4*c1mu5 + 1/2*c0mu0*c0mu2*c0mu3*c1mu1*c1mu5*c2mu4 + 1/4*c0mu0*c0mu1*c0mu2*c0mu5*c2mu3*c2mu4 + 1/2*c0mu0*c0mu2*c0mu4*c1mu1*c1mu3*c2mu5 + 1/2*c0mu1*c0mu2*c0mu3*c1mu0*c1mu4*c2mu5 + 1/4*c0mu0*c0mu1*c0mu3*c0mu4*c2mu2*c2mu5 - 1/4*c0mu0*c0mu1*c0mu2*c0mu3*c2mu4*c2mu5 + 1/6*c0mu0*c0mu1*c0mu2*c0mu4*c1mu5*c3mu3 + 1/6*c0mu0*c0mu1*c0mu3*c0mu5*c1mu2*c3mu4 - 1/2*c0mu0*c0mu1*c0mu2*c0mu3*c1mu4*c3mu5)*n^14 + (c0mu0*c0mu2*c1mu1*c1mu3*c1mu4*c1mu5 + 1/2*c0mu0*c0mu1*c0mu3*c1mu4*c1mu5*c2mu2 + 1/2*c0mu0*c0mu1*c0mu4*c1mu2*c1mu5*c2mu3 + 1/2*c0mu0*c0mu1*c0mu5*c1mu2*c1mu3*c2mu4 + 1/2*c0mu1*c0mu2*c0mu3*c1mu0*c1mu5*c2mu4 + 1/2*c0mu0*c0mu3*c0mu4*c1mu1*c1mu2*c2mu5 + 1/2*c0mu1*c0mu2*c0mu4*c1mu0*c1mu3*c2mu5 - 1/4*c0mu0*c0mu1*c0mu2*c0mu4*c2mu3*c2mu5 - 1/4*c0mu0*c0mu1*c0mu2*c0mu3*c2mu4*c2mu5 + 1/6*c0mu0*c0mu1*c0mu2*c0mu5*c1mu4*c3mu3 + 1/6*c0mu0*c0mu2*c0mu3*c0mu5*c1mu1*c3mu4 - 1/2*c0mu0*c0mu1*c0mu2*c0mu3*c1mu5*c3mu4 - 1/2*c0mu0*c0mu1*c0mu2*c0mu4*c1mu3*c3mu5)*n^13 + (c0mu0*c0mu3*c1mu1*c1mu2*c1mu4*c1mu5 + c0mu1*c0mu2*c1mu0*c1mu3*c1mu4*c1mu5 + 1/2*c0mu0*c0mu1*c0mu4*c1mu3*c1mu5*c2mu2 + 1/2*c0mu0*c0mu1*c0mu5*c1mu2*c1mu4*c2mu3 + 1/2*c0mu0*c0mu2*c0mu4*c1mu1*c1mu5*c2mu3 - 1/2*c0mu0*c0mu1*c0mu2*c1mu4*c1mu5*c2mu3 + 1/2*c0mu0*c0mu2*c0mu5*c1mu1*c1mu3*c2mu4 - 1/2*c0mu0*c0mu1*c0mu2*c1mu3*c1mu5*c2mu4 + 1/4*c0mu0*c0mu1*c0mu3*c0mu5*c2mu2*c2mu4 + 1/2*c0mu1*c0mu3*c0mu4*c1mu0*c1mu2*c2mu5 - 1/2*c0mu0*c0mu1*c0mu2*c1mu3*c1mu4*c2mu5 + 1/4*c0mu0*c0mu2*c0mu3*c0mu4*c2mu1*c2mu5 - 1/4*c0mu0*c0mu1*c0mu3*c0mu4*c2mu2*c2mu5 + 1/6*c0mu1*c0mu2*c0mu3*c0mu5*c1mu0*c3mu4 - 1/2*c0mu0*c0mu1*c0mu3*c0mu4*c1mu2*c3mu5 + 1/24*c0mu0*c0mu1*c0mu2*c0mu4*c0mu5*c4mu3 - 1/4*c0mu0*c0mu1*c0mu2*c0mu3*c0mu5*c4mu4)*n^12 + (c0mu0*c0mu4*c1mu1*c1mu2*c1mu3*c1mu5 + c0mu1*c0mu3*c1mu0*c1mu2*c1mu4*c1mu5 + 1/2*c0mu0*c0mu2*c0mu3*c1mu4*c1mu5*c2mu1 + 1/2*c0mu0*c0mu1*c0mu5*c1mu3*c1mu4*c2mu2 - 1/2*c0mu0*c0mu1*c0mu3*c1mu4*c1mu5*c2mu2 + 1/2*c0mu0*c0mu2*c0mu5*c1mu1*c1mu4*c2mu3 + 1/2*c0mu1*c0mu2*c0mu4*c1mu0*c1mu5*c2mu3 + 1/2*c0mu0*c0mu3*c0mu5*c1mu1*c1mu2*c2mu4 + 1/2*c0mu1*c0mu2*c0mu5*c1mu0*c1mu3*c2mu4 - 1/2*c0mu0*c0mu1*c0mu3*c1mu2*c1mu5*c2mu4 - 1/4*c0mu0*c0mu1*c0mu2*c0mu5*c2mu3*c2mu4 + 1/2*c0mu2*c0mu3*c0mu4*c1mu0*c1mu1*c2mu5 - 1/2*c0mu0*c0mu1*c0mu3*c1mu2*c1mu4*c2mu5 - 1/4*c0mu0*c0mu2*c0mu3*c0mu4*c2mu1*c2mu5 - 1/4*c0mu0*c0mu1*c0mu2*c0mu4*c2mu3*c2mu5 + 1/6*c0mu0*c0mu1*c0mu3*c0mu4*c1mu5*c3mu2 + 1/6*c0mu0*c0mu1*c0mu4*c0mu5*c1mu2*c3mu3 - 1/2*c0mu0*c0mu1*c0mu2*c0mu4*c1mu5*c3mu3 - 1/2*c0mu0*c0mu1*c0mu2*c0mu5*c1mu3*c3mu4 - 1/2*c0mu0*c0mu2*c0mu3*c0mu4*c1mu1*c3mu5)*n^11 + (c0mu0*c0mu5*c1mu1*c1mu2*c1mu3*c1mu4 + c0mu1*c0mu4*c1mu0*c1mu2*c1mu3*c1mu5 + c0mu2*c0mu3*c1mu0*c1mu1*c1mu4*c1mu5 + 1/2*c0mu0*c0mu2*c0mu4*c1mu3*c1mu5*c2mu1 - 1/2*c0mu0*c0mu2*c0mu3*c1mu4*c1mu5*c2mu1 + 1/2*c0mu0*c0mu3*c0mu4*c1mu1*c1mu5*c2mu2 - 1/2*c0mu0*c0mu1*c0mu4*c1mu3*c1mu5*c2mu2 + 1/2*c0mu1*c0mu2*c0mu5*c1mu0*c1mu4*c2mu3 - 1/2*c0mu0*c0mu1*c0mu4*c1mu2*c1mu5*c2mu3 + 1/4*c0mu0*c0mu1*c0mu4*c0mu5*c2mu2*c2mu3 + 1/2*c0mu1*c0mu3*c0mu5*c1mu0*c1mu2*c2mu4 - 1/2*c0mu0*c0mu2*c0mu3*c1mu1*c1mu5*c2mu4 + 1/4*c0mu0*c0mu2*c0mu3*c0mu5*c2mu1*c2mu4 - 1/4*c0mu0*c0mu1*c0mu3*c0mu5*c2mu2*c2mu4 - 1/4*c0mu0*c0mu1*c0mu2*c0mu5*c2mu3*c2mu4 - 1/2*c0mu0*c0mu1*c0mu4*c1mu2*c1mu3*c2mu5 - 1/2*c0mu0*c0mu2*c0mu3*c1mu1*c1mu4*c2mu5 + 1/6*c0mu0*c0mu1*c0mu3*c0mu5*c1mu4*c3mu2 + 1/6*c0mu0*c0mu2*c0mu4*c0mu5*c1mu1*c3mu3 - 1/2*c0mu0*c0mu1*c0mu2*c0mu5*c1mu4*c3mu3 - 1/2*c0mu0*c0mu1*c0mu3*c0mu5*c1mu2*c3mu4 - 1/2*c0mu1*c0mu2*c0mu3*c0mu4*c1mu0*c3mu5 + 11/24*c0mu0*c0mu1*c0mu2*c0mu3*c0mu4*c4mu5)*n^10 + (c0mu1*c0mu5*c1mu0*c1mu2*c1mu3*c1mu4 + c0mu2*c0mu4*c1mu0*c1mu1*c1mu3*c1mu5 + 1/2*c0mu0*c0mu2*c0mu5*c1mu3*c1mu4*c2mu1 + 1/2*c0mu0*c0mu3*c0mu4*c1mu2*c1mu5*c2mu1 - 1/2*c0mu0*c0mu2*c0mu4*c1mu3*c1mu5*c2mu1 + 1/2*c0mu0*c0mu3*c0mu5*c1mu1*c1mu4*c2mu2 - 1/2*c0mu0*c0mu1*c0mu5*c1mu3*c1mu4*c2mu2 + 1/2*c0mu1*c0mu3*c0mu4*c1mu0*c1mu5*c2mu2 + 1/2*c0mu0*c0mu4*c0mu5*c1mu1*c1mu2*c2mu3 - 1/2*c0mu0*c0mu1*c0mu5*c1mu2*c1mu4*c2mu3 - 1/2*c0mu0*c0mu2*c0mu4*c1mu1*c1mu5*c2mu3 + 1/2*c0mu2*c0mu3*c0mu5*c1mu0*c1mu1*c2mu4 - 1/2*c0mu0*c0mu1*c0mu5*c1mu2*c1mu3*c2mu4 - 1/2*c0mu1*c0mu2*c0mu3*c1mu0*c1mu5*c2mu4 - 1/4*c0mu0*c0mu2*c0mu3*c0mu5*c2mu1*c2mu4 - 1/2*c0mu0*c0mu2*c0mu4*c1mu1*c1mu3*c2mu5 - 1/2*c0mu1*c0mu2*c0mu3*c1mu0*c1mu4*c2mu5 - 1/4*c0mu0*c0mu1*c0mu3*c0mu4*c2mu2*c2mu5 + 1/4*c0mu0*c0mu1*c0mu2*c0mu3*c2mu4*c2mu5 + 1/6*c0mu0*c0mu1*c0mu4*c0mu5*c1mu3*c3mu2 - 1/2*c0mu0*c0mu1*c0mu3*c0mu4*c1mu5*c3mu2 + 1/6*c0mu1*c0mu2*c0mu4*c0mu5*c1mu0*c3mu3 - 1/2*c0mu0*c0mu2*c0mu3*c0mu5*c1mu1*c3mu4 + 1/3*c0mu0*c0mu1*c0mu2*c0mu3*c1mu5*c3mu4 + 1/3*c0mu0*c0mu1*c0mu2*c0mu3*c1mu4*c3mu5 - 1/4*c0mu0*c0mu1*c0mu2*c0mu4*c0mu5*c4mu3)*n^9 + (c0mu2*c0mu5*c1mu0*c1mu1*c1mu3*c1mu4 + c0mu3*c0mu4*c1mu0*c1mu1*c1mu2*c1mu5 + 1/2*c0mu0*c0mu3*c0mu5*c1mu2*c1mu4*c2mu1 - 1/2*c0mu0*c0mu2*c0mu5*c1mu3*c1mu4*c2mu1 - 1/2*c0mu0*c0mu3*c0mu4*c1mu2*c1mu5*c2mu1 + 1/2*c0mu0*c0mu4*c0mu5*c1mu1*c1mu3*c2mu2 + 1/2*c0mu1*c0mu3*c0mu5*c1mu0*c1mu4*c2mu2 - 1/2*c0mu0*c0mu3*c0mu4*c1mu1*c1mu5*c2mu2 + 1/2*c0mu1*c0mu4*c0mu5*c1mu0*c1mu2*c2mu3 - 1/2*c0mu0*c0mu2*c0mu5*c1mu1*c1mu4*c2mu3 - 1/2*c0mu1*c0mu2*c0mu4*c1mu0*c1mu5*c2mu3 + 1/4*c0mu0*c0mu2*c0mu4*c0mu5*c2mu1*c2mu3 - 1/4*c0mu0*c0mu1*c0mu4*c0mu5*c2mu2*c2mu3 - 1/2*c0mu0*c0mu2*c0mu5*c1mu1*c1mu3*c2mu4 - 1/4*c0mu0*c0mu1*c0mu3*c0mu5*c2mu2*c2mu4 - 1/2*c0mu0*c0mu3*c0mu4*c1mu1*c1mu2*c2mu5 - 1/2*c0mu1*c0mu2*c0mu4*c1mu0*c1mu3*c2mu5 + 1/4*c0mu0*c0mu1*c0mu2*c0mu4*c2mu3*c2mu5 + 1/6*c0mu0*c0mu2*c0mu3*c0mu4*c1mu5*c3mu1 - 1/2*c0mu0*c0mu1*c0mu3*c0mu5*c1mu4*c3mu2 - 1/2*c0mu0*c0mu1*c0mu4*c0mu5*c1mu2*c3mu3 + 1/3*c0mu0*c0mu1*c0mu2*c0mu4*c1mu5*c3mu3 - 1/2*c0mu1*c0mu2*c0mu3*c0mu5*c1mu0*c3mu4 + 1/3*c0mu0*c0mu1*c0mu2*c0mu4*c1mu3*c3mu5 + 1/24*c0mu0*c0mu1*c0mu3*c0mu4*c0mu5*c4mu2 + 11/24*c0mu0*c0mu1*c0mu2*c0mu3*c0mu5*c4mu4)*n^8 + (c0mu3*c0mu5*c1mu0*c1mu1*c1mu2*c1mu4 + 1/2*c0mu0*c0mu4*c0mu5*c1mu2*c1mu3*c2mu1 - 1/2*c0mu0*c0mu3*c0mu5*c1mu2*c1mu4*c2mu1 + 1/2*c0mu2*c0mu3*c0mu4*c1mu0*c1mu5*c2mu1 + 1/2*c0mu1*c0mu4*c0mu5*c1mu0*c1mu3*c2mu2 - 1/2*c0mu0*c0mu3*c0mu5*c1mu1*c1mu4*c2mu2 - 1/2*c0mu1*c0mu3*c0mu4*c1mu0*c1mu5*c2mu2 + 1/2*c0mu2*c0mu4*c0mu5*c1mu0*c1mu1*c2mu3 - 1/2*c0mu1*c0mu2*c0mu5*c1mu0*c1mu4*c2mu3 - 1/4*c0mu0*c0mu2*c0mu4*c0mu5*c2mu1*c2mu3 - 1/4*c0mu0*c0mu1*c0mu4*c0mu5*c2mu2*c2mu3 - 1/2*c0mu0*c0mu3*c0mu5*c1mu1*c1mu2*c2mu4 - 1/2*c0mu1*c0mu2*c0mu5*c1mu0*c1mu3*c2mu4 + 1/4*c0mu0*c0mu1*c0mu2*c0mu5*c2mu3*c2mu4 - 1/2*c0mu1*c0mu3*c0mu4*c1mu0*c1mu2*c2mu5 - 1/4*c0mu0*c0mu2*c0mu3*c0mu4*c2mu1*c2mu5 + 1/4*c0mu0*c0mu1*c0mu3*c0mu4*c2mu2*c2mu5 + 1/6*c0mu0*c0mu2*c0mu3*c0mu5*c1mu4*c3mu1 - 1/2*c0mu0*c0mu2*c0mu3*c0mu4*c1mu5*c3mu1 + 1/6*c0mu0*c0mu3*c0mu4*c0mu5*c1mu1*c3mu2 - 1/2*c0mu0*c0mu1*c0mu4*c0mu5*c1mu3*c3mu2 + 1/3*c0mu0*c0mu1*c0mu3*c0mu4*c1mu5*c3mu2 - 1/2*c0mu0*c0mu2*c0mu4*c0mu5*c1mu1*c3mu3 + 1/3*c0mu0*c0mu1*c0mu2*c0mu5*c1mu4*c3mu3 + 1/3*c0mu0*c0mu1*c0mu2*c0mu5*c1mu3*c3mu4 + 1/3*c0mu0*c0mu1*c0mu3*c0mu4*c1mu2*c3mu5)*n^7 + (c0mu4*c0mu5*c1mu0*c1mu1*c1mu2*c1mu3 - 1/2*c0mu0*c0mu4*c0mu5*c1mu2*c1mu3*c2mu1 + 1/2*c0mu2*c0mu3*c0mu5*c1mu0*c1mu4*c2mu1 - 1/2*c0mu2*c0mu3*c0mu4*c1mu0*c1mu5*c2mu1 - 1/2*c0mu0*c0mu4*c0mu5*c1mu1*c1mu3*c2mu2 - 1/2*c0mu1*c0mu3*c0mu5*c1mu0*c1mu4*c2mu2 + 1/4*c0mu0*c0mu3*c0mu4*c0mu5*c2mu1*c2mu2 - 1/2*c0mu0*c0mu4*c0mu5*c1mu1*c1mu2*c2mu3 - 1/2*c0mu1*c0mu3*c0mu5*c1mu0*c1mu2*c2mu4 - 1/4*c0mu0*c0mu2*c0mu3*c0mu5*c2mu1*c2mu4 + 1/4*c0mu0*c0mu1*c0mu3*c0mu5*c2mu2*c2mu4 - 1/2*c0mu2*c0mu3*c0mu4*c1mu0*c1mu1*c2mu5 + 1/4*c0mu0*c0mu2*c0mu3*c0mu4*c2mu1*c2mu5 + 1/6*c0mu0*c0mu2*c0mu4*c0mu5*c1mu3*c3mu1 - 1/2*c0mu0*c0mu2*c0mu3*c0mu5*c1mu4*c3mu1 + 1/3*c0mu0*c0mu2*c0mu3*c0mu4*c1mu5*c3mu1 + 1/6*c0mu1*c0mu3*c0mu4*c0mu5*c1mu0*c3mu2 + 1/3*c0mu0*c0mu1*c0mu3*c0mu5*c1mu4*c3mu2 - 1/2*c0mu1*c0mu2*c0mu4*c0mu5*c1mu0*c3mu3 + 1/3*c0mu0*c0mu1*c0mu3*c0mu5*c1mu2*c3mu4 + 1/3*c0mu0*c0mu2*c0mu3*c0mu4*c1mu1*c3mu5 - 1/4*c0mu0*c0mu1*c0mu3*c0mu4*c0mu5*c4mu2 + 11/24*c0mu0*c0mu1*c0mu2*c0mu4*c0mu5*c4mu3)*n^6 + (1/2*c0mu2*c0mu4*c0mu5*c1mu0*c1mu3*c2mu1 - 1/2*c0mu2*c0mu3*c0mu5*c1mu0*c1mu4*c2mu1 + 1/2*c0mu3*c0mu4*c0mu5*c1mu0*c1mu1*c2mu2 - 1/2*c0mu1*c0mu4*c0mu5*c1mu0*c1mu3*c2mu2 - 1/4*c0mu0*c0mu3*c0mu4*c0mu5*c2mu1*c2mu2 - 1/2*c0mu1*c0mu4*c0mu5*c1mu0*c1mu2*c2mu3 - 1/4*c0mu0*c0mu2*c0mu4*c0mu5*c2mu1*c2mu3 + 1/4*c0mu0*c0mu1*c0mu4*c0mu5*c2mu2*c2mu3 - 1/2*c0mu2*c0mu3*c0mu5*c1mu0*c1mu1*c2mu4 + 1/4*c0mu0*c0mu2*c0mu3*c0mu5*c2mu1*c2mu4 + 1/6*c0mu0*c0mu3*c0mu4*c0mu5*c1mu2*c3mu1 - 1/2*c0mu0*c0mu2*c0mu4*c0mu5*c1mu3*c3mu1 + 1/3*c0mu0*c0mu2*c0mu3*c0mu5*c1mu4*c3mu1 - 1/2*c0mu0*c0mu3*c0mu4*c0mu5*c1mu1*c3mu2 + 1/3*c0mu0*c0mu1*c0mu4*c0mu5*c1mu3*c3mu2 + 1/3*c0mu0*c0mu1*c0mu4*c0mu5*c1mu2*c3mu3 + 1/3*c0mu0*c0mu2*c0mu3*c0mu5*c1mu1*c3mu4 + 1/3*c0mu1*c0mu2*c0mu3*c0mu4*c1mu0*c3mu5 - 1/4*c0mu0*c0mu1*c0mu2*c0mu3*c0mu4*c4mu5)*n^5 + (1/2*c0mu3*c0mu4*c0mu5*c1mu0*c1mu2*c2mu1 - 1/2*c0mu2*c0mu4*c0mu5*c1mu0*c1mu3*c2mu1 - 1/4*c0mu0*c0mu3*c0mu4*c0mu5*c2mu1*c2mu2 - 1/2*c0mu2*c0mu4*c0mu5*c1mu0*c1mu1*c2mu3 + 1/4*c0mu0*c0mu2*c0mu4*c0mu5*c2mu1*c2mu3 - 1/2*c0mu0*c0mu3*c0mu4*c0mu5*c1mu2*c3mu1 + 1/3*c0mu0*c0mu2*c0mu4*c0mu5*c1mu3*c3mu1 - 1/2*c0mu1*c0mu3*c0mu4*c0mu5*c1mu0*c3mu2 + 1/3*c0mu0*c0mu2*c0mu4*c0mu5*c1mu1*c3mu3 + 1/3*c0mu1*c0mu2*c0mu3*c0mu5*c1mu0*c3mu4 + 1/24*c0mu0*c0mu2*c0mu3*c0mu4*c0mu5*c4mu1 + 11/24*c0mu0*c0mu1*c0mu3*c0mu4*c0mu5*c4mu2 - 1/4*c0mu0*c0mu1*c0mu2*c0mu3*c0mu5*c4mu4)*n^4 + (-1/2*c0mu3*c0mu4*c0mu5*c1mu0*c1mu2*c2mu1 - 1/2*c0mu3*c0mu4*c0mu5*c1mu0*c1mu1*c2mu2 + 1/4*c0mu0*c0mu3*c0mu4*c0mu5*c2mu1*c2mu2 + 1/6*c0mu2*c0mu3*c0mu4*c0mu5*c1mu0*c3mu1 + 1/3*c0mu0*c0mu3*c0mu4*c0mu5*c1mu2*c3mu1 + 1/3*c0mu0*c0mu3*c0mu4*c0mu5*c1mu1*c3mu2 + 1/3*c0mu1*c0mu2*c0mu4*c0mu5*c1mu0*c3mu3 - 1/4*c0mu0*c0mu2*c0mu3*c0mu4*c0mu5*c4mu1 - 1/4*c0mu0*c0mu1*c0mu2*c0mu4*c0mu5*c4mu3)*n^3 + (-1/2*c0mu2*c0mu3*c0mu4*c0mu5*c1mu0*c3mu1 + 1/3*c0mu1*c0mu3*c0mu4*c0mu5*c1mu0*c3mu2 + 11/24*c0mu0*c0mu2*c0mu3*c0mu4*c0mu5*c4mu1 - 1/4*c0mu0*c0mu1*c0mu3*c0mu4*c0mu5*c4mu2)*n^2 + (1/3*c0mu2*c0mu3*c0mu4*c0mu5*c1mu0*c3mu1 - 1/4*c0mu0*c0mu2*c0mu3*c0mu4*c0mu5*c4mu1)*n, c0nu0*c0nu1*c0nu2*c0nu3*c0nu4*c0nu5)\n",
      "\n",
      "0 3 1\n"
     ]
    },
    {
     "name": "stdout",
     "output_type": "stream",
     "text": [
      "(0, c0Mb, 1/6*c0mu0*c0mu1*c0mu2*c0mu3*c0mu4*c3mu5*n^15 + 1/2*c0mu0*c0mu1*c0mu2*c0mu3*c1mu4*c2mu5*n^14 + (1/2*c0mu0*c0mu1*c0mu2*c0mu3*c1mu5*c2mu4 + 1/2*c0mu0*c0mu1*c0mu2*c0mu4*c1mu3*c2mu5)*n^13 + (c0mu0*c0mu1*c0mu2*c1mu3*c1mu4*c1mu5 + 1/2*c0mu0*c0mu1*c0mu3*c0mu4*c1mu2*c2mu5 + 1/6*c0mu0*c0mu1*c0mu2*c0mu3*c0mu5*c3mu4)*n^12 + (c0mu0*c0mu1*c0mu3*c1mu2*c1mu4*c1mu5 + 1/2*c0mu0*c0mu1*c0mu2*c0mu4*c1mu5*c2mu3 + 1/2*c0mu0*c0mu1*c0mu2*c0mu5*c1mu3*c2mu4 + 1/2*c0mu0*c0mu2*c0mu3*c0mu4*c1mu1*c2mu5)*n^11 + (c0mu0*c0mu1*c0mu4*c1mu2*c1mu3*c1mu5 + c0mu0*c0mu2*c0mu3*c1mu1*c1mu4*c1mu5 + 1/2*c0mu0*c0mu1*c0mu2*c0mu5*c1mu4*c2mu3 + 1/2*c0mu0*c0mu1*c0mu3*c0mu5*c1mu2*c2mu4 + 1/2*c0mu1*c0mu2*c0mu3*c0mu4*c1mu0*c2mu5 - 1/2*c0mu0*c0mu1*c0mu2*c0mu3*c0mu4*c3mu5)*n^10 + (c0mu0*c0mu1*c0mu5*c1mu2*c1mu3*c1mu4 + c0mu0*c0mu2*c0mu4*c1mu1*c1mu3*c1mu5 + c0mu1*c0mu2*c0mu3*c1mu0*c1mu4*c1mu5 + 1/2*c0mu0*c0mu1*c0mu3*c0mu4*c1mu5*c2mu2 + 1/2*c0mu0*c0mu2*c0mu3*c0mu5*c1mu1*c2mu4 - 1/2*c0mu0*c0mu1*c0mu2*c0mu3*c1mu5*c2mu4 - 1/2*c0mu0*c0mu1*c0mu2*c0mu3*c1mu4*c2mu5 + 1/6*c0mu0*c0mu1*c0mu2*c0mu4*c0mu5*c3mu3)*n^9 + (c0mu0*c0mu2*c0mu5*c1mu1*c1mu3*c1mu4 + c0mu0*c0mu3*c0mu4*c1mu1*c1mu2*c1mu5 + c0mu1*c0mu2*c0mu4*c1mu0*c1mu3*c1mu5 + 1/2*c0mu0*c0mu1*c0mu3*c0mu5*c1mu4*c2mu2 + 1/2*c0mu0*c0mu1*c0mu4*c0mu5*c1mu2*c2mu3 - 1/2*c0mu0*c0mu1*c0mu2*c0mu4*c1mu5*c2mu3 + 1/2*c0mu1*c0mu2*c0mu3*c0mu5*c1mu0*c2mu4 - 1/2*c0mu0*c0mu1*c0mu2*c0mu4*c1mu3*c2mu5 - 1/2*c0mu0*c0mu1*c0mu2*c0mu3*c0mu5*c3mu4)*n^8 + (c0mu0*c0mu3*c0mu5*c1mu1*c1mu2*c1mu4 + c0mu1*c0mu2*c0mu5*c1mu0*c1mu3*c1mu4 + c0mu1*c0mu3*c0mu4*c1mu0*c1mu2*c1mu5 + 1/2*c0mu0*c0mu2*c0mu3*c0mu4*c1mu5*c2mu1 + 1/2*c0mu0*c0mu1*c0mu4*c0mu5*c1mu3*c2mu2 - 1/2*c0mu0*c0mu1*c0mu3*c0mu4*c1mu5*c2mu2 + 1/2*c0mu0*c0mu2*c0mu4*c0mu5*c1mu1*c2mu3 - 1/2*c0mu0*c0mu1*c0mu2*c0mu5*c1mu4*c2mu3 - 1/2*c0mu0*c0mu1*c0mu2*c0mu5*c1mu3*c2mu4 - 1/2*c0mu0*c0mu1*c0mu3*c0mu4*c1mu2*c2mu5)*n^7 + (c0mu0*c0mu4*c0mu5*c1mu1*c1mu2*c1mu3 + c0mu1*c0mu3*c0mu5*c1mu0*c1mu2*c1mu4 + c0mu2*c0mu3*c0mu4*c1mu0*c1mu1*c1mu5 + 1/2*c0mu0*c0mu2*c0mu3*c0mu5*c1mu4*c2mu1 - 1/2*c0mu0*c0mu2*c0mu3*c0mu4*c1mu5*c2mu1 - 1/2*c0mu0*c0mu1*c0mu3*c0mu5*c1mu4*c2mu2 + 1/2*c0mu1*c0mu2*c0mu4*c0mu5*c1mu0*c2mu3 - 1/2*c0mu0*c0mu1*c0mu3*c0mu5*c1mu2*c2mu4 - 1/2*c0mu0*c0mu2*c0mu3*c0mu4*c1mu1*c2mu5 + 1/6*c0mu0*c0mu1*c0mu3*c0mu4*c0mu5*c3mu2 - 1/2*c0mu0*c0mu1*c0mu2*c0mu4*c0mu5*c3mu3)*n^6 + (c0mu1*c0mu4*c0mu5*c1mu0*c1mu2*c1mu3 + c0mu2*c0mu3*c0mu5*c1mu0*c1mu1*c1mu4 + 1/2*c0mu0*c0mu2*c0mu4*c0mu5*c1mu3*c2mu1 - 1/2*c0mu0*c0mu2*c0mu3*c0mu5*c1mu4*c2mu1 + 1/2*c0mu0*c0mu3*c0mu4*c0mu5*c1mu1*c2mu2 - 1/2*c0mu0*c0mu1*c0mu4*c0mu5*c1mu3*c2mu2 - 1/2*c0mu0*c0mu1*c0mu4*c0mu5*c1mu2*c2mu3 - 1/2*c0mu0*c0mu2*c0mu3*c0mu5*c1mu1*c2mu4 - 1/2*c0mu1*c0mu2*c0mu3*c0mu4*c1mu0*c2mu5 + 1/3*c0mu0*c0mu1*c0mu2*c0mu3*c0mu4*c3mu5)*n^5 + (c0mu2*c0mu4*c0mu5*c1mu0*c1mu1*c1mu3 + 1/2*c0mu0*c0mu3*c0mu4*c0mu5*c1mu2*c2mu1 - 1/2*c0mu0*c0mu2*c0mu4*c0mu5*c1mu3*c2mu1 + 1/2*c0mu1*c0mu3*c0mu4*c0mu5*c1mu0*c2mu2 - 1/2*c0mu0*c0mu2*c0mu4*c0mu5*c1mu1*c2mu3 - 1/2*c0mu1*c0mu2*c0mu3*c0mu5*c1mu0*c2mu4 - 1/2*c0mu0*c0mu1*c0mu3*c0mu4*c0mu5*c3mu2 + 1/3*c0mu0*c0mu1*c0mu2*c0mu3*c0mu5*c3mu4)*n^4 + (c0mu3*c0mu4*c0mu5*c1mu0*c1mu1*c1mu2 - 1/2*c0mu0*c0mu3*c0mu4*c0mu5*c1mu2*c2mu1 - 1/2*c0mu0*c0mu3*c0mu4*c0mu5*c1mu1*c2mu2 - 1/2*c0mu1*c0mu2*c0mu4*c0mu5*c1mu0*c2mu3 + 1/6*c0mu0*c0mu2*c0mu3*c0mu4*c0mu5*c3mu1 + 1/3*c0mu0*c0mu1*c0mu2*c0mu4*c0mu5*c3mu3)*n^3 + (1/2*c0mu2*c0mu3*c0mu4*c0mu5*c1mu0*c2mu1 - 1/2*c0mu1*c0mu3*c0mu4*c0mu5*c1mu0*c2mu2 - 1/2*c0mu0*c0mu2*c0mu3*c0mu4*c0mu5*c3mu1 + 1/3*c0mu0*c0mu1*c0mu3*c0mu4*c0mu5*c3mu2)*n^2 + (-1/2*c0mu2*c0mu3*c0mu4*c0mu5*c1mu0*c2mu1 + 1/3*c0mu0*c0mu2*c0mu3*c0mu4*c0mu5*c3mu1)*n, c0nu0*c0nu1*c0nu2*c0nu3*c0nu4*c1nu5*n^5 + c0nu0*c0nu1*c0nu2*c0nu3*c0nu5*c1nu4*n^4 + c0nu0*c0nu1*c0nu2*c0nu4*c0nu5*c1nu3*n^3 + c0nu0*c0nu1*c0nu3*c0nu4*c0nu5*c1nu2*n^2 + c0nu0*c0nu2*c0nu3*c0nu4*c0nu5*c1nu1*n + c0nu1*c0nu2*c0nu3*c0nu4*c0nu5*c1nu0)\n",
      "\n",
      "0 2 2\n",
      "(0, c0Mb, 1/2*c0mu0*c0mu1*c0mu2*c0mu3*c0mu4*c2mu5*n^10 + c0mu0*c0mu1*c0mu2*c0mu3*c1mu4*c1mu5*n^9 + (c0mu0*c0mu1*c0mu2*c0mu4*c1mu3*c1mu5 + 1/2*c0mu0*c0mu1*c0mu2*c0mu3*c0mu5*c2mu4)*n^8 + (c0mu0*c0mu1*c0mu2*c0mu5*c1mu3*c1mu4 + c0mu0*c0mu1*c0mu3*c0mu4*c1mu2*c1mu5)*n^7 + (c0mu0*c0mu1*c0mu3*c0mu5*c1mu2*c1mu4 + c0mu0*c0mu2*c0mu3*c0mu4*c1mu1*c1mu5 + 1/2*c0mu0*c0mu1*c0mu2*c0mu4*c0mu5*c2mu3)*n^6 + (c0mu0*c0mu1*c0mu4*c0mu5*c1mu2*c1mu3 + c0mu0*c0mu2*c0mu3*c0mu5*c1mu1*c1mu4 + c0mu1*c0mu2*c0mu3*c0mu4*c1mu0*c1mu5 - 1/2*c0mu0*c0mu1*c0mu2*c0mu3*c0mu4*c2mu5)*n^5 + (c0mu0*c0mu2*c0mu4*c0mu5*c1mu1*c1mu3 + c0mu1*c0mu2*c0mu3*c0mu5*c1mu0*c1mu4 + 1/2*c0mu0*c0mu1*c0mu3*c0mu4*c0mu5*c2mu2 - 1/2*c0mu0*c0mu1*c0mu2*c0mu3*c0mu5*c2mu4)*n^4 + (c0mu0*c0mu3*c0mu4*c0mu5*c1mu1*c1mu2 + c0mu1*c0mu2*c0mu4*c0mu5*c1mu0*c1mu3 - 1/2*c0mu0*c0mu1*c0mu2*c0mu4*c0mu5*c2mu3)*n^3 + (c0mu1*c0mu3*c0mu4*c0mu5*c1mu0*c1mu2 + 1/2*c0mu0*c0mu2*c0mu3*c0mu4*c0mu5*c2mu1 - 1/2*c0mu0*c0mu1*c0mu3*c0mu4*c0mu5*c2mu2)*n^2 + (c0mu2*c0mu3*c0mu4*c0mu5*c1mu0*c1mu1 - 1/2*c0mu0*c0mu2*c0mu3*c0mu4*c0mu5*c2mu1)*n, 1/2*c0nu0*c0nu1*c0nu2*c0nu3*c0nu4*c2nu5*n^10 + c0nu0*c0nu1*c0nu2*c0nu3*c1nu4*c1nu5*n^9 + (c0nu0*c0nu1*c0nu2*c0nu4*c1nu3*c1nu5 + 1/2*c0nu0*c0nu1*c0nu2*c0nu3*c0nu5*c2nu4)*n^8 + (c0nu0*c0nu1*c0nu2*c0nu5*c1nu3*c1nu4 + c0nu0*c0nu1*c0nu3*c0nu4*c1nu2*c1nu5)*n^7 + (c0nu0*c0nu1*c0nu3*c0nu5*c1nu2*c1nu4 + c0nu0*c0nu2*c0nu3*c0nu4*c1nu1*c1nu5 + 1/2*c0nu0*c0nu1*c0nu2*c0nu4*c0nu5*c2nu3)*n^6 + (c0nu0*c0nu1*c0nu4*c0nu5*c1nu2*c1nu3 + c0nu0*c0nu2*c0nu3*c0nu5*c1nu1*c1nu4 + c0nu1*c0nu2*c0nu3*c0nu4*c1nu0*c1nu5 - 1/2*c0nu0*c0nu1*c0nu2*c0nu3*c0nu4*c2nu5)*n^5 + (c0nu0*c0nu2*c0nu4*c0nu5*c1nu1*c1nu3 + c0nu1*c0nu2*c0nu3*c0nu5*c1nu0*c1nu4 + 1/2*c0nu0*c0nu1*c0nu3*c0nu4*c0nu5*c2nu2 - 1/2*c0nu0*c0nu1*c0nu2*c0nu3*c0nu5*c2nu4)*n^4 + (c0nu0*c0nu3*c0nu4*c0nu5*c1nu1*c1nu2 + c0nu1*c0nu2*c0nu4*c0nu5*c1nu0*c1nu3 - 1/2*c0nu0*c0nu1*c0nu2*c0nu4*c0nu5*c2nu3)*n^3 + (c0nu1*c0nu3*c0nu4*c0nu5*c1nu0*c1nu2 + 1/2*c0nu0*c0nu2*c0nu3*c0nu4*c0nu5*c2nu1 - 1/2*c0nu0*c0nu1*c0nu3*c0nu4*c0nu5*c2nu2)*n^2 + (c0nu2*c0nu3*c0nu4*c0nu5*c1nu0*c1nu1 - 1/2*c0nu0*c0nu2*c0nu3*c0nu4*c0nu5*c2nu1)*n)\n",
      "\n",
      "0 1 3\n",
      "(0, c0Mb, c0mu0*c0mu1*c0mu2*c0mu3*c0mu4*c1mu5*n^5 + c0mu0*c0mu1*c0mu2*c0mu3*c0mu5*c1mu4*n^4 + c0mu0*c0mu1*c0mu2*c0mu4*c0mu5*c1mu3*n^3 + c0mu0*c0mu1*c0mu3*c0mu4*c0mu5*c1mu2*n^2 + c0mu0*c0mu2*c0mu3*c0mu4*c0mu5*c1mu1*n + c0mu1*c0mu2*c0mu3*c0mu4*c0mu5*c1mu0, 1/6*c0nu0*c0nu1*c0nu2*c0nu3*c0nu4*c3nu5*n^15 + 1/2*c0nu0*c0nu1*c0nu2*c0nu3*c1nu4*c2nu5*n^14 + (1/2*c0nu0*c0nu1*c0nu2*c0nu3*c1nu5*c2nu4 + 1/2*c0nu0*c0nu1*c0nu2*c0nu4*c1nu3*c2nu5)*n^13 + (c0nu0*c0nu1*c0nu2*c1nu3*c1nu4*c1nu5 + 1/2*c0nu0*c0nu1*c0nu3*c0nu4*c1nu2*c2nu5 + 1/6*c0nu0*c0nu1*c0nu2*c0nu3*c0nu5*c3nu4)*n^12 + (c0nu0*c0nu1*c0nu3*c1nu2*c1nu4*c1nu5 + 1/2*c0nu0*c0nu1*c0nu2*c0nu4*c1nu5*c2nu3 + 1/2*c0nu0*c0nu1*c0nu2*c0nu5*c1nu3*c2nu4 + 1/2*c0nu0*c0nu2*c0nu3*c0nu4*c1nu1*c2nu5)*n^11 + (c0nu0*c0nu1*c0nu4*c1nu2*c1nu3*c1nu5 + c0nu0*c0nu2*c0nu3*c1nu1*c1nu4*c1nu5 + 1/2*c0nu0*c0nu1*c0nu2*c0nu5*c1nu4*c2nu3 + 1/2*c0nu0*c0nu1*c0nu3*c0nu5*c1nu2*c2nu4 + 1/2*c0nu1*c0nu2*c0nu3*c0nu4*c1nu0*c2nu5 - 1/2*c0nu0*c0nu1*c0nu2*c0nu3*c0nu4*c3nu5)*n^10 + (c0nu0*c0nu1*c0nu5*c1nu2*c1nu3*c1nu4 + c0nu0*c0nu2*c0nu4*c1nu1*c1nu3*c1nu5 + c0nu1*c0nu2*c0nu3*c1nu0*c1nu4*c1nu5 + 1/2*c0nu0*c0nu1*c0nu3*c0nu4*c1nu5*c2nu2 + 1/2*c0nu0*c0nu2*c0nu3*c0nu5*c1nu1*c2nu4 - 1/2*c0nu0*c0nu1*c0nu2*c0nu3*c1nu5*c2nu4 - 1/2*c0nu0*c0nu1*c0nu2*c0nu3*c1nu4*c2nu5 + 1/6*c0nu0*c0nu1*c0nu2*c0nu4*c0nu5*c3nu3)*n^9 + (c0nu0*c0nu2*c0nu5*c1nu1*c1nu3*c1nu4 + c0nu0*c0nu3*c0nu4*c1nu1*c1nu2*c1nu5 + c0nu1*c0nu2*c0nu4*c1nu0*c1nu3*c1nu5 + 1/2*c0nu0*c0nu1*c0nu3*c0nu5*c1nu4*c2nu2 + 1/2*c0nu0*c0nu1*c0nu4*c0nu5*c1nu2*c2nu3 - 1/2*c0nu0*c0nu1*c0nu2*c0nu4*c1nu5*c2nu3 + 1/2*c0nu1*c0nu2*c0nu3*c0nu5*c1nu0*c2nu4 - 1/2*c0nu0*c0nu1*c0nu2*c0nu4*c1nu3*c2nu5 - 1/2*c0nu0*c0nu1*c0nu2*c0nu3*c0nu5*c3nu4)*n^8 + (c0nu0*c0nu3*c0nu5*c1nu1*c1nu2*c1nu4 + c0nu1*c0nu2*c0nu5*c1nu0*c1nu3*c1nu4 + c0nu1*c0nu3*c0nu4*c1nu0*c1nu2*c1nu5 + 1/2*c0nu0*c0nu2*c0nu3*c0nu4*c1nu5*c2nu1 + 1/2*c0nu0*c0nu1*c0nu4*c0nu5*c1nu3*c2nu2 - 1/2*c0nu0*c0nu1*c0nu3*c0nu4*c1nu5*c2nu2 + 1/2*c0nu0*c0nu2*c0nu4*c0nu5*c1nu1*c2nu3 - 1/2*c0nu0*c0nu1*c0nu2*c0nu5*c1nu4*c2nu3 - 1/2*c0nu0*c0nu1*c0nu2*c0nu5*c1nu3*c2nu4 - 1/2*c0nu0*c0nu1*c0nu3*c0nu4*c1nu2*c2nu5)*n^7 + (c0nu0*c0nu4*c0nu5*c1nu1*c1nu2*c1nu3 + c0nu1*c0nu3*c0nu5*c1nu0*c1nu2*c1nu4 + c0nu2*c0nu3*c0nu4*c1nu0*c1nu1*c1nu5 + 1/2*c0nu0*c0nu2*c0nu3*c0nu5*c1nu4*c2nu1 - 1/2*c0nu0*c0nu2*c0nu3*c0nu4*c1nu5*c2nu1 - 1/2*c0nu0*c0nu1*c0nu3*c0nu5*c1nu4*c2nu2 + 1/2*c0nu1*c0nu2*c0nu4*c0nu5*c1nu0*c2nu3 - 1/2*c0nu0*c0nu1*c0nu3*c0nu5*c1nu2*c2nu4 - 1/2*c0nu0*c0nu2*c0nu3*c0nu4*c1nu1*c2nu5 + 1/6*c0nu0*c0nu1*c0nu3*c0nu4*c0nu5*c3nu2 - 1/2*c0nu0*c0nu1*c0nu2*c0nu4*c0nu5*c3nu3)*n^6 + (c0nu1*c0nu4*c0nu5*c1nu0*c1nu2*c1nu3 + c0nu2*c0nu3*c0nu5*c1nu0*c1nu1*c1nu4 + 1/2*c0nu0*c0nu2*c0nu4*c0nu5*c1nu3*c2nu1 - 1/2*c0nu0*c0nu2*c0nu3*c0nu5*c1nu4*c2nu1 + 1/2*c0nu0*c0nu3*c0nu4*c0nu5*c1nu1*c2nu2 - 1/2*c0nu0*c0nu1*c0nu4*c0nu5*c1nu3*c2nu2 - 1/2*c0nu0*c0nu1*c0nu4*c0nu5*c1nu2*c2nu3 - 1/2*c0nu0*c0nu2*c0nu3*c0nu5*c1nu1*c2nu4 - 1/2*c0nu1*c0nu2*c0nu3*c0nu4*c1nu0*c2nu5 + 1/3*c0nu0*c0nu1*c0nu2*c0nu3*c0nu4*c3nu5)*n^5 + (c0nu2*c0nu4*c0nu5*c1nu0*c1nu1*c1nu3 + 1/2*c0nu0*c0nu3*c0nu4*c0nu5*c1nu2*c2nu1 - 1/2*c0nu0*c0nu2*c0nu4*c0nu5*c1nu3*c2nu1 + 1/2*c0nu1*c0nu3*c0nu4*c0nu5*c1nu0*c2nu2 - 1/2*c0nu0*c0nu2*c0nu4*c0nu5*c1nu1*c2nu3 - 1/2*c0nu1*c0nu2*c0nu3*c0nu5*c1nu0*c2nu4 - 1/2*c0nu0*c0nu1*c0nu3*c0nu4*c0nu5*c3nu2 + 1/3*c0nu0*c0nu1*c0nu2*c0nu3*c0nu5*c3nu4)*n^4 + (c0nu3*c0nu4*c0nu5*c1nu0*c1nu1*c1nu2 - 1/2*c0nu0*c0nu3*c0nu4*c0nu5*c1nu2*c2nu1 - 1/2*c0nu0*c0nu3*c0nu4*c0nu5*c1nu1*c2nu2 - 1/2*c0nu1*c0nu2*c0nu4*c0nu5*c1nu0*c2nu3 + 1/6*c0nu0*c0nu2*c0nu3*c0nu4*c0nu5*c3nu1 + 1/3*c0nu0*c0nu1*c0nu2*c0nu4*c0nu5*c3nu3)*n^3 + (1/2*c0nu2*c0nu3*c0nu4*c0nu5*c1nu0*c2nu1 - 1/2*c0nu1*c0nu3*c0nu4*c0nu5*c1nu0*c2nu2 - 1/2*c0nu0*c0nu2*c0nu3*c0nu4*c0nu5*c3nu1 + 1/3*c0nu0*c0nu1*c0nu3*c0nu4*c0nu5*c3nu2)*n^2 + (-1/2*c0nu2*c0nu3*c0nu4*c0nu5*c1nu0*c2nu1 + 1/3*c0nu0*c0nu2*c0nu3*c0nu4*c0nu5*c3nu1)*n)\n",
      "\n",
      "0 0 4\n"
     ]
    },
    {
     "name": "stdout",
     "output_type": "stream",
     "text": [
      "(0, c0Mb, c0mu0*c0mu1*c0mu2*c0mu3*c0mu4*c0mu5, 1/24*c0nu0*c0nu1*c0nu2*c0nu3*c0nu4*c4nu5*n^20 + 1/6*c0nu0*c0nu1*c0nu2*c0nu3*c1nu4*c3nu5*n^19 + (1/4*c0nu0*c0nu1*c0nu2*c0nu3*c2nu4*c2nu5 + 1/6*c0nu0*c0nu1*c0nu2*c0nu4*c1nu3*c3nu5)*n^18 + (1/2*c0nu0*c0nu1*c0nu2*c1nu3*c1nu4*c2nu5 + 1/6*c0nu0*c0nu1*c0nu2*c0nu3*c1nu5*c3nu4 + 1/6*c0nu0*c0nu1*c0nu3*c0nu4*c1nu2*c3nu5)*n^17 + (1/2*c0nu0*c0nu1*c0nu2*c1nu3*c1nu5*c2nu4 + 1/2*c0nu0*c0nu1*c0nu3*c1nu2*c1nu4*c2nu5 + 1/4*c0nu0*c0nu1*c0nu2*c0nu4*c2nu3*c2nu5 + 1/6*c0nu0*c0nu2*c0nu3*c0nu4*c1nu1*c3nu5 + 1/24*c0nu0*c0nu1*c0nu2*c0nu3*c0nu5*c4nu4)*n^16 + (1/2*c0nu0*c0nu1*c0nu2*c1nu4*c1nu5*c2nu3 + 1/2*c0nu0*c0nu1*c0nu3*c1nu2*c1nu5*c2nu4 + 1/2*c0nu0*c0nu1*c0nu4*c1nu2*c1nu3*c2nu5 + 1/2*c0nu0*c0nu2*c0nu3*c1nu1*c1nu4*c2nu5 + 1/6*c0nu0*c0nu1*c0nu2*c0nu5*c1nu3*c3nu4 + 1/6*c0nu1*c0nu2*c0nu3*c0nu4*c1nu0*c3nu5 - 1/4*c0nu0*c0nu1*c0nu2*c0nu3*c0nu4*c4nu5)*n^15 + (c0nu0*c0nu1*c1nu2*c1nu3*c1nu4*c1nu5 + 1/2*c0nu0*c0nu2*c0nu3*c1nu1*c1nu5*c2nu4 + 1/4*c0nu0*c0nu1*c0nu2*c0nu5*c2nu3*c2nu4 + 1/2*c0nu0*c0nu2*c0nu4*c1nu1*c1nu3*c2nu5 + 1/2*c0nu1*c0nu2*c0nu3*c1nu0*c1nu4*c2nu5 + 1/4*c0nu0*c0nu1*c0nu3*c0nu4*c2nu2*c2nu5 - 1/4*c0nu0*c0nu1*c0nu2*c0nu3*c2nu4*c2nu5 + 1/6*c0nu0*c0nu1*c0nu2*c0nu4*c1nu5*c3nu3 + 1/6*c0nu0*c0nu1*c0nu3*c0nu5*c1nu2*c3nu4 - 1/2*c0nu0*c0nu1*c0nu2*c0nu3*c1nu4*c3nu5)*n^14 + (c0nu0*c0nu2*c1nu1*c1nu3*c1nu4*c1nu5 + 1/2*c0nu0*c0nu1*c0nu3*c1nu4*c1nu5*c2nu2 + 1/2*c0nu0*c0nu1*c0nu4*c1nu2*c1nu5*c2nu3 + 1/2*c0nu0*c0nu1*c0nu5*c1nu2*c1nu3*c2nu4 + 1/2*c0nu1*c0nu2*c0nu3*c1nu0*c1nu5*c2nu4 + 1/2*c0nu0*c0nu3*c0nu4*c1nu1*c1nu2*c2nu5 + 1/2*c0nu1*c0nu2*c0nu4*c1nu0*c1nu3*c2nu5 - 1/4*c0nu0*c0nu1*c0nu2*c0nu4*c2nu3*c2nu5 - 1/4*c0nu0*c0nu1*c0nu2*c0nu3*c2nu4*c2nu5 + 1/6*c0nu0*c0nu1*c0nu2*c0nu5*c1nu4*c3nu3 + 1/6*c0nu0*c0nu2*c0nu3*c0nu5*c1nu1*c3nu4 - 1/2*c0nu0*c0nu1*c0nu2*c0nu3*c1nu5*c3nu4 - 1/2*c0nu0*c0nu1*c0nu2*c0nu4*c1nu3*c3nu5)*n^13 + (c0nu0*c0nu3*c1nu1*c1nu2*c1nu4*c1nu5 + c0nu1*c0nu2*c1nu0*c1nu3*c1nu4*c1nu5 + 1/2*c0nu0*c0nu1*c0nu4*c1nu3*c1nu5*c2nu2 + 1/2*c0nu0*c0nu1*c0nu5*c1nu2*c1nu4*c2nu3 + 1/2*c0nu0*c0nu2*c0nu4*c1nu1*c1nu5*c2nu3 - 1/2*c0nu0*c0nu1*c0nu2*c1nu4*c1nu5*c2nu3 + 1/2*c0nu0*c0nu2*c0nu5*c1nu1*c1nu3*c2nu4 - 1/2*c0nu0*c0nu1*c0nu2*c1nu3*c1nu5*c2nu4 + 1/4*c0nu0*c0nu1*c0nu3*c0nu5*c2nu2*c2nu4 + 1/2*c0nu1*c0nu3*c0nu4*c1nu0*c1nu2*c2nu5 - 1/2*c0nu0*c0nu1*c0nu2*c1nu3*c1nu4*c2nu5 + 1/4*c0nu0*c0nu2*c0nu3*c0nu4*c2nu1*c2nu5 - 1/4*c0nu0*c0nu1*c0nu3*c0nu4*c2nu2*c2nu5 + 1/6*c0nu1*c0nu2*c0nu3*c0nu5*c1nu0*c3nu4 - 1/2*c0nu0*c0nu1*c0nu3*c0nu4*c1nu2*c3nu5 + 1/24*c0nu0*c0nu1*c0nu2*c0nu4*c0nu5*c4nu3 - 1/4*c0nu0*c0nu1*c0nu2*c0nu3*c0nu5*c4nu4)*n^12 + (c0nu0*c0nu4*c1nu1*c1nu2*c1nu3*c1nu5 + c0nu1*c0nu3*c1nu0*c1nu2*c1nu4*c1nu5 + 1/2*c0nu0*c0nu2*c0nu3*c1nu4*c1nu5*c2nu1 + 1/2*c0nu0*c0nu1*c0nu5*c1nu3*c1nu4*c2nu2 - 1/2*c0nu0*c0nu1*c0nu3*c1nu4*c1nu5*c2nu2 + 1/2*c0nu0*c0nu2*c0nu5*c1nu1*c1nu4*c2nu3 + 1/2*c0nu1*c0nu2*c0nu4*c1nu0*c1nu5*c2nu3 + 1/2*c0nu0*c0nu3*c0nu5*c1nu1*c1nu2*c2nu4 + 1/2*c0nu1*c0nu2*c0nu5*c1nu0*c1nu3*c2nu4 - 1/2*c0nu0*c0nu1*c0nu3*c1nu2*c1nu5*c2nu4 - 1/4*c0nu0*c0nu1*c0nu2*c0nu5*c2nu3*c2nu4 + 1/2*c0nu2*c0nu3*c0nu4*c1nu0*c1nu1*c2nu5 - 1/2*c0nu0*c0nu1*c0nu3*c1nu2*c1nu4*c2nu5 - 1/4*c0nu0*c0nu2*c0nu3*c0nu4*c2nu1*c2nu5 - 1/4*c0nu0*c0nu1*c0nu2*c0nu4*c2nu3*c2nu5 + 1/6*c0nu0*c0nu1*c0nu3*c0nu4*c1nu5*c3nu2 + 1/6*c0nu0*c0nu1*c0nu4*c0nu5*c1nu2*c3nu3 - 1/2*c0nu0*c0nu1*c0nu2*c0nu4*c1nu5*c3nu3 - 1/2*c0nu0*c0nu1*c0nu2*c0nu5*c1nu3*c3nu4 - 1/2*c0nu0*c0nu2*c0nu3*c0nu4*c1nu1*c3nu5)*n^11 + (c0nu0*c0nu5*c1nu1*c1nu2*c1nu3*c1nu4 + c0nu1*c0nu4*c1nu0*c1nu2*c1nu3*c1nu5 + c0nu2*c0nu3*c1nu0*c1nu1*c1nu4*c1nu5 + 1/2*c0nu0*c0nu2*c0nu4*c1nu3*c1nu5*c2nu1 - 1/2*c0nu0*c0nu2*c0nu3*c1nu4*c1nu5*c2nu1 + 1/2*c0nu0*c0nu3*c0nu4*c1nu1*c1nu5*c2nu2 - 1/2*c0nu0*c0nu1*c0nu4*c1nu3*c1nu5*c2nu2 + 1/2*c0nu1*c0nu2*c0nu5*c1nu0*c1nu4*c2nu3 - 1/2*c0nu0*c0nu1*c0nu4*c1nu2*c1nu5*c2nu3 + 1/4*c0nu0*c0nu1*c0nu4*c0nu5*c2nu2*c2nu3 + 1/2*c0nu1*c0nu3*c0nu5*c1nu0*c1nu2*c2nu4 - 1/2*c0nu0*c0nu2*c0nu3*c1nu1*c1nu5*c2nu4 + 1/4*c0nu0*c0nu2*c0nu3*c0nu5*c2nu1*c2nu4 - 1/4*c0nu0*c0nu1*c0nu3*c0nu5*c2nu2*c2nu4 - 1/4*c0nu0*c0nu1*c0nu2*c0nu5*c2nu3*c2nu4 - 1/2*c0nu0*c0nu1*c0nu4*c1nu2*c1nu3*c2nu5 - 1/2*c0nu0*c0nu2*c0nu3*c1nu1*c1nu4*c2nu5 + 1/6*c0nu0*c0nu1*c0nu3*c0nu5*c1nu4*c3nu2 + 1/6*c0nu0*c0nu2*c0nu4*c0nu5*c1nu1*c3nu3 - 1/2*c0nu0*c0nu1*c0nu2*c0nu5*c1nu4*c3nu3 - 1/2*c0nu0*c0nu1*c0nu3*c0nu5*c1nu2*c3nu4 - 1/2*c0nu1*c0nu2*c0nu3*c0nu4*c1nu0*c3nu5 + 11/24*c0nu0*c0nu1*c0nu2*c0nu3*c0nu4*c4nu5)*n^10 + (c0nu1*c0nu5*c1nu0*c1nu2*c1nu3*c1nu4 + c0nu2*c0nu4*c1nu0*c1nu1*c1nu3*c1nu5 + 1/2*c0nu0*c0nu2*c0nu5*c1nu3*c1nu4*c2nu1 + 1/2*c0nu0*c0nu3*c0nu4*c1nu2*c1nu5*c2nu1 - 1/2*c0nu0*c0nu2*c0nu4*c1nu3*c1nu5*c2nu1 + 1/2*c0nu0*c0nu3*c0nu5*c1nu1*c1nu4*c2nu2 - 1/2*c0nu0*c0nu1*c0nu5*c1nu3*c1nu4*c2nu2 + 1/2*c0nu1*c0nu3*c0nu4*c1nu0*c1nu5*c2nu2 + 1/2*c0nu0*c0nu4*c0nu5*c1nu1*c1nu2*c2nu3 - 1/2*c0nu0*c0nu1*c0nu5*c1nu2*c1nu4*c2nu3 - 1/2*c0nu0*c0nu2*c0nu4*c1nu1*c1nu5*c2nu3 + 1/2*c0nu2*c0nu3*c0nu5*c1nu0*c1nu1*c2nu4 - 1/2*c0nu0*c0nu1*c0nu5*c1nu2*c1nu3*c2nu4 - 1/2*c0nu1*c0nu2*c0nu3*c1nu0*c1nu5*c2nu4 - 1/4*c0nu0*c0nu2*c0nu3*c0nu5*c2nu1*c2nu4 - 1/2*c0nu0*c0nu2*c0nu4*c1nu1*c1nu3*c2nu5 - 1/2*c0nu1*c0nu2*c0nu3*c1nu0*c1nu4*c2nu5 - 1/4*c0nu0*c0nu1*c0nu3*c0nu4*c2nu2*c2nu5 + 1/4*c0nu0*c0nu1*c0nu2*c0nu3*c2nu4*c2nu5 + 1/6*c0nu0*c0nu1*c0nu4*c0nu5*c1nu3*c3nu2 - 1/2*c0nu0*c0nu1*c0nu3*c0nu4*c1nu5*c3nu2 + 1/6*c0nu1*c0nu2*c0nu4*c0nu5*c1nu0*c3nu3 - 1/2*c0nu0*c0nu2*c0nu3*c0nu5*c1nu1*c3nu4 + 1/3*c0nu0*c0nu1*c0nu2*c0nu3*c1nu5*c3nu4 + 1/3*c0nu0*c0nu1*c0nu2*c0nu3*c1nu4*c3nu5 - 1/4*c0nu0*c0nu1*c0nu2*c0nu4*c0nu5*c4nu3)*n^9 + (c0nu2*c0nu5*c1nu0*c1nu1*c1nu3*c1nu4 + c0nu3*c0nu4*c1nu0*c1nu1*c1nu2*c1nu5 + 1/2*c0nu0*c0nu3*c0nu5*c1nu2*c1nu4*c2nu1 - 1/2*c0nu0*c0nu2*c0nu5*c1nu3*c1nu4*c2nu1 - 1/2*c0nu0*c0nu3*c0nu4*c1nu2*c1nu5*c2nu1 + 1/2*c0nu0*c0nu4*c0nu5*c1nu1*c1nu3*c2nu2 + 1/2*c0nu1*c0nu3*c0nu5*c1nu0*c1nu4*c2nu2 - 1/2*c0nu0*c0nu3*c0nu4*c1nu1*c1nu5*c2nu2 + 1/2*c0nu1*c0nu4*c0nu5*c1nu0*c1nu2*c2nu3 - 1/2*c0nu0*c0nu2*c0nu5*c1nu1*c1nu4*c2nu3 - 1/2*c0nu1*c0nu2*c0nu4*c1nu0*c1nu5*c2nu3 + 1/4*c0nu0*c0nu2*c0nu4*c0nu5*c2nu1*c2nu3 - 1/4*c0nu0*c0nu1*c0nu4*c0nu5*c2nu2*c2nu3 - 1/2*c0nu0*c0nu2*c0nu5*c1nu1*c1nu3*c2nu4 - 1/4*c0nu0*c0nu1*c0nu3*c0nu5*c2nu2*c2nu4 - 1/2*c0nu0*c0nu3*c0nu4*c1nu1*c1nu2*c2nu5 - 1/2*c0nu1*c0nu2*c0nu4*c1nu0*c1nu3*c2nu5 + 1/4*c0nu0*c0nu1*c0nu2*c0nu4*c2nu3*c2nu5 + 1/6*c0nu0*c0nu2*c0nu3*c0nu4*c1nu5*c3nu1 - 1/2*c0nu0*c0nu1*c0nu3*c0nu5*c1nu4*c3nu2 - 1/2*c0nu0*c0nu1*c0nu4*c0nu5*c1nu2*c3nu3 + 1/3*c0nu0*c0nu1*c0nu2*c0nu4*c1nu5*c3nu3 - 1/2*c0nu1*c0nu2*c0nu3*c0nu5*c1nu0*c3nu4 + 1/3*c0nu0*c0nu1*c0nu2*c0nu4*c1nu3*c3nu5 + 1/24*c0nu0*c0nu1*c0nu3*c0nu4*c0nu5*c4nu2 + 11/24*c0nu0*c0nu1*c0nu2*c0nu3*c0nu5*c4nu4)*n^8 + (c0nu3*c0nu5*c1nu0*c1nu1*c1nu2*c1nu4 + 1/2*c0nu0*c0nu4*c0nu5*c1nu2*c1nu3*c2nu1 - 1/2*c0nu0*c0nu3*c0nu5*c1nu2*c1nu4*c2nu1 + 1/2*c0nu2*c0nu3*c0nu4*c1nu0*c1nu5*c2nu1 + 1/2*c0nu1*c0nu4*c0nu5*c1nu0*c1nu3*c2nu2 - 1/2*c0nu0*c0nu3*c0nu5*c1nu1*c1nu4*c2nu2 - 1/2*c0nu1*c0nu3*c0nu4*c1nu0*c1nu5*c2nu2 + 1/2*c0nu2*c0nu4*c0nu5*c1nu0*c1nu1*c2nu3 - 1/2*c0nu1*c0nu2*c0nu5*c1nu0*c1nu4*c2nu3 - 1/4*c0nu0*c0nu2*c0nu4*c0nu5*c2nu1*c2nu3 - 1/4*c0nu0*c0nu1*c0nu4*c0nu5*c2nu2*c2nu3 - 1/2*c0nu0*c0nu3*c0nu5*c1nu1*c1nu2*c2nu4 - 1/2*c0nu1*c0nu2*c0nu5*c1nu0*c1nu3*c2nu4 + 1/4*c0nu0*c0nu1*c0nu2*c0nu5*c2nu3*c2nu4 - 1/2*c0nu1*c0nu3*c0nu4*c1nu0*c1nu2*c2nu5 - 1/4*c0nu0*c0nu2*c0nu3*c0nu4*c2nu1*c2nu5 + 1/4*c0nu0*c0nu1*c0nu3*c0nu4*c2nu2*c2nu5 + 1/6*c0nu0*c0nu2*c0nu3*c0nu5*c1nu4*c3nu1 - 1/2*c0nu0*c0nu2*c0nu3*c0nu4*c1nu5*c3nu1 + 1/6*c0nu0*c0nu3*c0nu4*c0nu5*c1nu1*c3nu2 - 1/2*c0nu0*c0nu1*c0nu4*c0nu5*c1nu3*c3nu2 + 1/3*c0nu0*c0nu1*c0nu3*c0nu4*c1nu5*c3nu2 - 1/2*c0nu0*c0nu2*c0nu4*c0nu5*c1nu1*c3nu3 + 1/3*c0nu0*c0nu1*c0nu2*c0nu5*c1nu4*c3nu3 + 1/3*c0nu0*c0nu1*c0nu2*c0nu5*c1nu3*c3nu4 + 1/3*c0nu0*c0nu1*c0nu3*c0nu4*c1nu2*c3nu5)*n^7 + (c0nu4*c0nu5*c1nu0*c1nu1*c1nu2*c1nu3 - 1/2*c0nu0*c0nu4*c0nu5*c1nu2*c1nu3*c2nu1 + 1/2*c0nu2*c0nu3*c0nu5*c1nu0*c1nu4*c2nu1 - 1/2*c0nu2*c0nu3*c0nu4*c1nu0*c1nu5*c2nu1 - 1/2*c0nu0*c0nu4*c0nu5*c1nu1*c1nu3*c2nu2 - 1/2*c0nu1*c0nu3*c0nu5*c1nu0*c1nu4*c2nu2 + 1/4*c0nu0*c0nu3*c0nu4*c0nu5*c2nu1*c2nu2 - 1/2*c0nu0*c0nu4*c0nu5*c1nu1*c1nu2*c2nu3 - 1/2*c0nu1*c0nu3*c0nu5*c1nu0*c1nu2*c2nu4 - 1/4*c0nu0*c0nu2*c0nu3*c0nu5*c2nu1*c2nu4 + 1/4*c0nu0*c0nu1*c0nu3*c0nu5*c2nu2*c2nu4 - 1/2*c0nu2*c0nu3*c0nu4*c1nu0*c1nu1*c2nu5 + 1/4*c0nu0*c0nu2*c0nu3*c0nu4*c2nu1*c2nu5 + 1/6*c0nu0*c0nu2*c0nu4*c0nu5*c1nu3*c3nu1 - 1/2*c0nu0*c0nu2*c0nu3*c0nu5*c1nu4*c3nu1 + 1/3*c0nu0*c0nu2*c0nu3*c0nu4*c1nu5*c3nu1 + 1/6*c0nu1*c0nu3*c0nu4*c0nu5*c1nu0*c3nu2 + 1/3*c0nu0*c0nu1*c0nu3*c0nu5*c1nu4*c3nu2 - 1/2*c0nu1*c0nu2*c0nu4*c0nu5*c1nu0*c3nu3 + 1/3*c0nu0*c0nu1*c0nu3*c0nu5*c1nu2*c3nu4 + 1/3*c0nu0*c0nu2*c0nu3*c0nu4*c1nu1*c3nu5 - 1/4*c0nu0*c0nu1*c0nu3*c0nu4*c0nu5*c4nu2 + 11/24*c0nu0*c0nu1*c0nu2*c0nu4*c0nu5*c4nu3)*n^6 + (1/2*c0nu2*c0nu4*c0nu5*c1nu0*c1nu3*c2nu1 - 1/2*c0nu2*c0nu3*c0nu5*c1nu0*c1nu4*c2nu1 + 1/2*c0nu3*c0nu4*c0nu5*c1nu0*c1nu1*c2nu2 - 1/2*c0nu1*c0nu4*c0nu5*c1nu0*c1nu3*c2nu2 - 1/4*c0nu0*c0nu3*c0nu4*c0nu5*c2nu1*c2nu2 - 1/2*c0nu1*c0nu4*c0nu5*c1nu0*c1nu2*c2nu3 - 1/4*c0nu0*c0nu2*c0nu4*c0nu5*c2nu1*c2nu3 + 1/4*c0nu0*c0nu1*c0nu4*c0nu5*c2nu2*c2nu3 - 1/2*c0nu2*c0nu3*c0nu5*c1nu0*c1nu1*c2nu4 + 1/4*c0nu0*c0nu2*c0nu3*c0nu5*c2nu1*c2nu4 + 1/6*c0nu0*c0nu3*c0nu4*c0nu5*c1nu2*c3nu1 - 1/2*c0nu0*c0nu2*c0nu4*c0nu5*c1nu3*c3nu1 + 1/3*c0nu0*c0nu2*c0nu3*c0nu5*c1nu4*c3nu1 - 1/2*c0nu0*c0nu3*c0nu4*c0nu5*c1nu1*c3nu2 + 1/3*c0nu0*c0nu1*c0nu4*c0nu5*c1nu3*c3nu2 + 1/3*c0nu0*c0nu1*c0nu4*c0nu5*c1nu2*c3nu3 + 1/3*c0nu0*c0nu2*c0nu3*c0nu5*c1nu1*c3nu4 + 1/3*c0nu1*c0nu2*c0nu3*c0nu4*c1nu0*c3nu5 - 1/4*c0nu0*c0nu1*c0nu2*c0nu3*c0nu4*c4nu5)*n^5 + (1/2*c0nu3*c0nu4*c0nu5*c1nu0*c1nu2*c2nu1 - 1/2*c0nu2*c0nu4*c0nu5*c1nu0*c1nu3*c2nu1 - 1/4*c0nu0*c0nu3*c0nu4*c0nu5*c2nu1*c2nu2 - 1/2*c0nu2*c0nu4*c0nu5*c1nu0*c1nu1*c2nu3 + 1/4*c0nu0*c0nu2*c0nu4*c0nu5*c2nu1*c2nu3 - 1/2*c0nu0*c0nu3*c0nu4*c0nu5*c1nu2*c3nu1 + 1/3*c0nu0*c0nu2*c0nu4*c0nu5*c1nu3*c3nu1 - 1/2*c0nu1*c0nu3*c0nu4*c0nu5*c1nu0*c3nu2 + 1/3*c0nu0*c0nu2*c0nu4*c0nu5*c1nu1*c3nu3 + 1/3*c0nu1*c0nu2*c0nu3*c0nu5*c1nu0*c3nu4 + 1/24*c0nu0*c0nu2*c0nu3*c0nu4*c0nu5*c4nu1 + 11/24*c0nu0*c0nu1*c0nu3*c0nu4*c0nu5*c4nu2 - 1/4*c0nu0*c0nu1*c0nu2*c0nu3*c0nu5*c4nu4)*n^4 + (-1/2*c0nu3*c0nu4*c0nu5*c1nu0*c1nu2*c2nu1 - 1/2*c0nu3*c0nu4*c0nu5*c1nu0*c1nu1*c2nu2 + 1/4*c0nu0*c0nu3*c0nu4*c0nu5*c2nu1*c2nu2 + 1/6*c0nu2*c0nu3*c0nu4*c0nu5*c1nu0*c3nu1 + 1/3*c0nu0*c0nu3*c0nu4*c0nu5*c1nu2*c3nu1 + 1/3*c0nu0*c0nu3*c0nu4*c0nu5*c1nu1*c3nu2 + 1/3*c0nu1*c0nu2*c0nu4*c0nu5*c1nu0*c3nu3 - 1/4*c0nu0*c0nu2*c0nu3*c0nu4*c0nu5*c4nu1 - 1/4*c0nu0*c0nu1*c0nu2*c0nu4*c0nu5*c4nu3)*n^3 + (-1/2*c0nu2*c0nu3*c0nu4*c0nu5*c1nu0*c3nu1 + 1/3*c0nu1*c0nu3*c0nu4*c0nu5*c1nu0*c3nu2 + 11/24*c0nu0*c0nu2*c0nu3*c0nu4*c0nu5*c4nu1 - 1/4*c0nu0*c0nu1*c0nu3*c0nu4*c0nu5*c4nu2)*n^2 + (1/3*c0nu2*c0nu3*c0nu4*c0nu5*c1nu0*c3nu1 - 1/4*c0nu0*c0nu2*c0nu3*c0nu4*c0nu5*c4nu1)*n)\n",
      "\n"
     ]
    },
    {
     "data": {
      "text/plain": [
       "(-c3Mb*c0mu0*c0mu1*c0mu2*c0mu3*c0mu4*c1mu5*c0nu0*c0nu1*c0nu2*c0nu3*c0nu4*c0nu5 + c3Mb*c0mu0*c0mu1*c0mu2*c0mu3*c0mu4*c0mu5*c0nu0*c0nu1*c0nu2*c0nu3*c0nu4*c1nu5)*n^5 + (-c3Mb*c0mu0*c0mu1*c0mu2*c0mu3*c0mu5*c1mu4*c0nu0*c0nu1*c0nu2*c0nu3*c0nu4*c0nu5 + c3Mb*c0mu0*c0mu1*c0mu2*c0mu3*c0mu4*c0mu5*c0nu0*c0nu1*c0nu2*c0nu3*c0nu5*c1nu4)*n^4 + (-c3Mb*c0mu0*c0mu1*c0mu2*c0mu4*c0mu5*c1mu3*c0nu0*c0nu1*c0nu2*c0nu3*c0nu4*c0nu5 + c3Mb*c0mu0*c0mu1*c0mu2*c0mu3*c0mu4*c0mu5*c0nu0*c0nu1*c0nu2*c0nu4*c0nu5*c1nu3)*n^3 + (-c3Mb*c0mu0*c0mu1*c0mu3*c0mu4*c0mu5*c1mu2*c0nu0*c0nu1*c0nu2*c0nu3*c0nu4*c0nu5 + c3Mb*c0mu0*c0mu1*c0mu2*c0mu3*c0mu4*c0mu5*c0nu0*c0nu1*c0nu3*c0nu4*c0nu5*c1nu2)*n^2 + (-c4Mb*c0mu0*c0mu1*c0mu2*c0mu3*c0mu4*c0mu5*c0nu0*c0nu1*c0nu2*c0nu3*c0nu4*c0nu5 - c3Mb*c0mu0*c0mu2*c0mu3*c0mu4*c0mu5*c1mu1*c0nu0*c0nu1*c0nu2*c0nu3*c0nu4*c0nu5 + c3Mb*c0mu0*c0mu1*c0mu2*c0mu3*c0mu4*c0mu5*c0nu0*c0nu2*c0nu3*c0nu4*c0nu5*c1nu1)*n - 2*c4Mb*c0mu0*c0mu1*c0mu2*c0mu3*c0mu4*c0mu5*c0nu0*c0nu1*c0nu2*c0nu3*c0nu4*c0nu5 - c3Mb*c0mu1*c0mu2*c0mu3*c0mu4*c0mu5*c1mu0*c0nu0*c0nu1*c0nu2*c0nu3*c0nu4*c0nu5 + c3Mb*c0mu0*c0mu1*c0mu2*c0mu3*c0mu4*c0mu5*c0nu1*c0nu2*c0nu3*c0nu4*c0nu5*c1nu0"
      ]
     },
     "execution_count": 89,
     "metadata": {},
     "output_type": "execute_result"
    }
   ],
   "source": [
    "F(4)"
   ]
  },
  {
   "cell_type": "code",
   "execution_count": 10,
   "metadata": {},
   "outputs": [
    {
     "data": {
      "text/plain": [
       "[[3, 0], [2, 1], [1, 2], [0, 3]]"
      ]
     },
     "execution_count": 10,
     "metadata": {},
     "output_type": "execute_result"
    }
   ],
   "source": [
    "list(IntegerVectors(3,2))"
   ]
  },
  {
   "cell_type": "code",
   "execution_count": 5,
   "metadata": {},
   "outputs": [
    {
     "data": {
      "text/plain": [
       "c0Mb"
      ]
     },
     "execution_count": 5,
     "metadata": {},
     "output_type": "execute_result"
    }
   ],
   "source": [
    "cM"
   ]
  },
  {
   "cell_type": "code",
   "execution_count": 7,
   "metadata": {},
   "outputs": [
    {
     "data": {
      "text/plain": [
       "c0mu0 + n*c0mu1"
      ]
     },
     "execution_count": 7,
     "metadata": {},
     "output_type": "execute_result"
    }
   ],
   "source": [
    "cmMn"
   ]
  },
  {
   "cell_type": "code",
   "execution_count": null,
   "metadata": {},
   "outputs": [],
   "source": []
  }
 ],
 "metadata": {
  "kernelspec": {
   "display_name": "SageMath 8.6",
   "language": "",
   "name": "sagemath"
  },
  "language_info": {
   "codemirror_mode": {
    "name": "ipython",
    "version": 2
   },
   "file_extension": ".py",
   "mimetype": "text/x-python",
   "name": "python",
   "nbconvert_exporter": "python",
   "pygments_lexer": "ipython2",
   "version": "2.7.15"
  }
 },
 "nbformat": 4,
 "nbformat_minor": 2
}
