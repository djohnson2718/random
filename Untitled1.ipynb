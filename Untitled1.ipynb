{
 "cells": [
  {
   "cell_type": "code",
   "execution_count": 115,
   "metadata": {},
   "outputs": [],
   "source": [
    "def subs_coef(F,s):\n",
    "    Fnew = Zring.zero().add_bigoh(F.prec())\n",
    "    for i in range(F.prec()):\n",
    "        Fnew += z^i * F[i].subs(s)\n",
    "    return Fnew\n",
    "\n",
    "def simp_rat_coef(F):\n",
    "    Fnew = Zring.zero().add_bigoh(F.prec())\n",
    "    for i in range(F.prec()):\n",
    "        Fnew += z^i * F[i].map_coefficients(lambda x : x.simplify_rational())\n",
    "    return Fnew"
   ]
  },
  {
   "cell_type": "code",
   "execution_count": 94,
   "metadata": {},
   "outputs": [
    {
     "data": {
      "text/plain": [
       "1 + C1*u1*z + (C11*u1^2 + C2*u2)*z^2 + (C111*u1^3 + C21*u1*u2 + C3*u3)*z^3 + (C1111*u1^4 + C211*u1^2*u2 + C22*u2^2 + C31*u1*u3 + C4*u4)*z^4 + O(z^5)"
      ]
     },
     "execution_count": 94,
     "metadata": {},
     "output_type": "execute_result"
    }
   ],
   "source": [
    "order = 4\n",
    "Uring = PolynomialRing(SR, [\"u\" + str(i) for i in range(order+1)])\n",
    "u = Uring.gens()\n",
    "Zring.<z> = PowerSeriesRing(Uring)\n",
    "\n",
    "\n",
    "\n",
    "def C(p):\n",
    "    return SR(\"C\" + \"\".join([str(pi) for pi in p]))\n",
    "\n",
    "H = 1 + sum((\n",
    "    z^i * sum((\n",
    "        prod((u[pi] for pi in p)) * C(p) for p in Partitions(i)\n",
    "    ))\n",
    "    for i in range(1, order+1)\n",
    ")) + O(z^(order+1))\n",
    "\n",
    "H"
   ]
  },
  {
   "cell_type": "code",
   "execution_count": 119,
   "metadata": {},
   "outputs": [],
   "source": [
    "def restore(H2):\n",
    "    Hf = H2\n",
    "    for i in range(1, H2.prec()):\n",
    "        #print Hf\n",
    "        diff = Hf[i] - H[i]\n",
    "        c = (- diff/C([i])).map_coefficients(lambda x: x.simplify_full())\n",
    "        \n",
    "        print \"...\", u[i] + c\n",
    "        \n",
    "        #print \"Hf = \", Hf\n",
    "        \n",
    "        Hf = subs_coef(Hf, {u[i]: u[i] + c})\n",
    "        #Hf = simp_rat_coef(Hf)\n",
    "    \n",
    "    print\n",
    "    print \"done\", Hf - H"
   ]
  },
  {
   "cell_type": "code",
   "execution_count": 120,
   "metadata": {},
   "outputs": [],
   "source": [
    "H2 = H.subs({z:exp(z)-1})"
   ]
  },
  {
   "cell_type": "code",
   "execution_count": 121,
   "metadata": {},
   "outputs": [
    {
     "name": "stdout",
     "output_type": "stream",
     "text": [
      "... u1\n",
      "... (-1/2*C1/C2)*u1 + u2\n",
      "... (-1/2*(2*C11*C2 - C1*C21)/(C2*C3))*u1^2 + 1/3*C1/C3*u1 + (-C2/C3)*u2 + u3\n",
      "... (-1/2*((3*C111*C2 - C1*C211)*C3 - (2*C11*C2 - C1*C21)*C31)/(C2*C3*C4))*u1^3 + (-1/12*(4*C1*C2^2*C31 - (11*C11*C2^2 - 3*C1^2*C22)*C3)/(C2^2*C3*C4))*u1^2 + (1/2*(2*C2^2*C31 - (3*C2*C21 - 2*C1*C22)*C3)/(C2*C3*C4))*u1*u2 + (-1/4*C1/C4)*u1 + 11/12*C2/C4*u2 + (-3/2*C3/C4)*u3 + u4\n",
      "\n",
      "done O(z^5)\n"
     ]
    }
   ],
   "source": [
    "restore(H2)"
   ]
  },
  {
   "cell_type": "code",
   "execution_count": 98,
   "metadata": {},
   "outputs": [
    {
     "data": {
      "text/plain": [
       "1 + C1*u1*z + (C11*u1^2 + C1*u1 + C2*u2)*z^2 + (C111*u1^3 + 2*C11*u1^2 + C21*u1*u2 + 2*C2*u2 + C3*u3)*z^3 + (C1111*u1^4 + 3*C111*u1^3 + C211*u1^2*u2 + C11*u1^2 + 3*C21*u1*u2 + C22*u2^2 + C31*u1*u3 + C2*u2 + 3*C3*u3 + C4*u4)*z^4 + O(z^5)"
      ]
     },
     "execution_count": 98,
     "metadata": {},
     "output_type": "execute_result"
    }
   ],
   "source": [
    "H2"
   ]
  },
  {
   "cell_type": "code",
   "execution_count": 80,
   "metadata": {},
   "outputs": [
    {
     "data": {
      "text/plain": [
       "1 + C1*u1*z + (C11*u1^2 + C2*u2)*z^2 + (C111*u1^3 + C21*u1*u2 + C3*u3)*z^3 + (C1111*u1^4 + C211*u1^2*u2 + C22*u2^2 + C31*u1*u3 + C4*u4)*z^4 + O(z^5)"
      ]
     },
     "execution_count": 80,
     "metadata": {},
     "output_type": "execute_result"
    }
   ],
   "source": [
    "H"
   ]
  },
  {
   "cell_type": "code",
   "execution_count": 6,
   "metadata": {},
   "outputs": [
    {
     "data": {
      "text/plain": [
       "1 + C*u_1*z"
      ]
     },
     "execution_count": 6,
     "metadata": {},
     "output_type": "execute_result"
    }
   ],
   "source": [
    "1+z*u[1]*SR(\"C\")"
   ]
  },
  {
   "cell_type": "code",
   "execution_count": 112,
   "metadata": {},
   "outputs": [],
   "source": [
    "t=prod((u[pi] for pi in p)) * C(p)"
   ]
  },
  {
   "cell_type": "code",
   "execution_count": 114,
   "metadata": {},
   "outputs": [
    {
     "data": {
      "text/plain": [
       "C21*u1*u2"
      ]
     },
     "execution_count": 114,
     "metadata": {},
     "output_type": "execute_result"
    }
   ],
   "source": [
    "t.map_coefficients(lambda x:x.simplify_rational())"
   ]
  },
  {
   "cell_type": "code",
   "execution_count": 23,
   "metadata": {},
   "outputs": [
    {
     "data": {
      "text/plain": [
       "C21*u_3"
      ]
     },
     "execution_count": 23,
     "metadata": {},
     "output_type": "execute_result"
    }
   ],
   "source": [
    "u[3]*C(p)"
   ]
  },
  {
   "cell_type": "code",
   "execution_count": 25,
   "metadata": {},
   "outputs": [
    {
     "data": {
      "text/plain": [
       "u_2*u_1"
      ]
     },
     "execution_count": 25,
     "metadata": {},
     "output_type": "execute_result"
    }
   ],
   "source": [
    "prod((u[pi] for pi in p)) "
   ]
  },
  {
   "cell_type": "code",
   "execution_count": 26,
   "metadata": {},
   "outputs": [
    {
     "ename": "TypeError",
     "evalue": "sequence item 0: expected string, sage.rings.integer.Integer found",
     "output_type": "error",
     "traceback": [
      "\u001b[0;31m---------------------------------------------------------------------------\u001b[0m",
      "\u001b[0;31mTypeError\u001b[0m                                 Traceback (most recent call last)",
      "\u001b[0;32m<ipython-input-26-dafa04496958>\u001b[0m in \u001b[0;36m<module>\u001b[0;34m()\u001b[0m\n\u001b[0;32m----> 1\u001b[0;31m \u001b[0mSR\u001b[0m\u001b[0;34m(\u001b[0m\u001b[0;34m\"C\"\u001b[0m \u001b[0;34m+\u001b[0m \u001b[0;34m\"\"\u001b[0m\u001b[0;34m.\u001b[0m\u001b[0mjoin\u001b[0m\u001b[0;34m(\u001b[0m\u001b[0mp\u001b[0m\u001b[0;34m)\u001b[0m\u001b[0;34m)\u001b[0m\u001b[0;34m\u001b[0m\u001b[0m\n\u001b[0m",
      "\u001b[0;31mTypeError\u001b[0m: sequence item 0: expected string, sage.rings.integer.Integer found"
     ]
    }
   ],
   "source": [
    " SR(\"C\" + \"\".join(p))"
   ]
  },
  {
   "cell_type": "code",
   "execution_count": null,
   "metadata": {},
   "outputs": [],
   "source": []
  }
 ],
 "metadata": {
  "kernelspec": {
   "display_name": "SageMath 8.6",
   "language": "",
   "name": "sagemath"
  },
  "language_info": {
   "codemirror_mode": {
    "name": "ipython",
    "version": 2
   },
   "file_extension": ".py",
   "mimetype": "text/x-python",
   "name": "python",
   "nbconvert_exporter": "python",
   "pygments_lexer": "ipython2",
   "version": "2.7.15"
  }
 },
 "nbformat": 4,
 "nbformat_minor": 2
}
