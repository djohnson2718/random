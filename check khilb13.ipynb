{
 "cells": [
  {
   "cell_type": "code",
   "execution_count": 18,
   "metadata": {},
   "outputs": [
    {
     "data": {
      "text/plain": [
       "-r*z/(z - 1)"
      ]
     },
     "execution_count": 18,
     "metadata": {},
     "output_type": "execute_result"
    }
   ],
   "source": [
    "#verifies formula on p18\n",
    "var(\"z,y,r\")\n",
    "\n",
    "F = z * ((1-z)/(1-z+y))^r \n",
    "\n",
    "dzdy = -F.derivative(y)/F.derivative(z)\n",
    "\n",
    "dzdy.subs({y:0})"
   ]
  },
  {
   "cell_type": "code",
   "execution_count": 22,
   "metadata": {},
   "outputs": [
    {
     "name": "stdout",
     "output_type": "stream",
     "text": [
      "1\n",
      "0\n",
      "0\n",
      "0\n"
     ]
    }
   ],
   "source": [
    "#p19\n",
    "\n",
    "print(F.derivative(z).subs({y:0}))\n",
    "print(F.derivative(z,2).subs({y:0}))\n",
    "print(F.derivative(z,3).subs({y:0}))\n",
    "print(F.derivative(z,4).subs({y:0}))"
   ]
  },
  {
   "cell_type": "code",
   "execution_count": 16,
   "metadata": {},
   "outputs": [
    {
     "name": "stdout",
     "output_type": "stream",
     "text": [
      "n=1, k=1 3 3\n",
      "n=1, k=2 6 6\n",
      "n=1, k=3 6 6\n",
      "n=1, k=4 0 0\n",
      "n=2, k=1 3 3\n",
      "n=2, k=2 30 30\n",
      "n=2, k=3 180 180\n",
      "n=2, k=4 720 720\n",
      "n=3, k=1 3 3\n",
      "n=3, k=2 72 72\n",
      "n=3, k=3 1008 1008\n",
      "n=3, k=4 10080 10080\n",
      "n=4, k=1 3 3\n",
      "n=4, k=2 132 132\n",
      "n=4, k=3 3300 3300\n",
      "n=4, k=4 59400 59400\n",
      "n=5, k=1 3 3\n",
      "n=5, k=2 210 210\n",
      "n=5, k=3 8190 8190\n",
      "n=5, k=4 229320 229320\n"
     ]
    }
   ],
   "source": [
    "#supports page 18 footnote 5\n",
    "\n",
    "R.<z> = PowerSeriesRing(SR)\n",
    "r=3\n",
    "var(\"y\")\n",
    "\n",
    "F = (z * ((1-z)/(1-z+y))^r).add_bigoh(6); F\n",
    "\n",
    "Z = F.reverse();\n",
    "\n",
    "max_k = 5\n",
    "\n",
    "for n, c in zip(Z.exponents(), Z.coefficients()):\n",
    "    cd = c\n",
    "    for k in range(1,max_k):\n",
    "        cd = cd.derivative(y)\n",
    "        print(\"n={}, k={}\".format(n,k),cd.subs({y:0}), factorial(k-1)*r*binomial(r*n-1,k-1) * binomial(n+k -2, k-1) )"
   ]
  },
  {
   "cell_type": "code",
   "execution_count": null,
   "metadata": {},
   "outputs": [],
   "source": []
  }
 ],
 "metadata": {
  "kernelspec": {
   "display_name": "SageMath 9.0",
   "language": "sage",
   "name": "sagemath"
  },
  "language_info": {
   "codemirror_mode": {
    "name": "ipython",
    "version": 3
   },
   "file_extension": ".py",
   "mimetype": "text/x-python",
   "name": "python",
   "nbconvert_exporter": "python",
   "pygments_lexer": "ipython3",
   "version": "3.7.3"
  }
 },
 "nbformat": 4,
 "nbformat_minor": 2
}
