{
 "cells": [
  {
   "cell_type": "code",
   "execution_count": 11,
   "metadata": {},
   "outputs": [],
   "source": [
    "from sage.combinat.symmetric_group_algebra import a, b, e, e_hat\n",
    "S=SymmetricGroupAlgebra(QQ,4)"
   ]
  },
  {
   "cell_type": "code",
   "execution_count": 7,
   "metadata": {},
   "outputs": [],
   "source": [
    "y=e([[1,2],[3,4]])\n",
    "yh = e_hat([[1,2],[3,4]])"
   ]
  },
  {
   "cell_type": "code",
   "execution_count": 10,
   "metadata": {},
   "outputs": [
    {
     "data": {
      "text/plain": [
       "1/12*[1, 2, 3, 4] + 1/12*[1, 2, 4, 3] - 1/12*[1, 3, 4, 2] - 1/12*[1, 4, 3, 2] + 1/12*[2, 1, 3, 4] + 1/12*[2, 1, 4, 3] - 1/12*[2, 3, 4, 1] - 1/12*[2, 4, 3, 1] - 1/12*[3, 1, 2, 4] - 1/12*[3, 2, 1, 4] + 1/12*[3, 4, 1, 2] + 1/12*[3, 4, 2, 1] - 1/12*[4, 1, 2, 3] - 1/12*[4, 2, 1, 3] + 1/12*[4, 3, 1, 2] + 1/12*[4, 3, 2, 1]"
      ]
     },
     "execution_count": 10,
     "metadata": {},
     "output_type": "execute_result"
    }
   ],
   "source": [
    "yh^10"
   ]
  },
  {
   "cell_type": "code",
   "execution_count": 4,
   "metadata": {},
   "outputs": [
    {
     "data": {
      "text/plain": [
       "12*[1, 2, 3, 4] + 12*[1, 2, 4, 3] - 12*[1, 3, 4, 2] - 12*[1, 4, 3, 2] + 12*[2, 1, 3, 4] + 12*[2, 1, 4, 3] - 12*[2, 3, 4, 1] - 12*[2, 4, 3, 1] - 12*[3, 1, 2, 4] - 12*[3, 2, 1, 4] + 12*[3, 4, 1, 2] + 12*[3, 4, 2, 1] - 12*[4, 1, 2, 3] - 12*[4, 2, 1, 3] + 12*[4, 3, 1, 2] + 12*[4, 3, 2, 1]"
      ]
     },
     "execution_count": 4,
     "metadata": {},
     "output_type": "execute_result"
    }
   ],
   "source": [
    "y^2"
   ]
  },
  {
   "cell_type": "code",
   "execution_count": 5,
   "metadata": {},
   "outputs": [
    {
     "data": {
      "text/plain": [
       "5159780352*[1, 2, 3, 4] + 5159780352*[1, 2, 4, 3] - 5159780352*[1, 3, 4, 2] - 5159780352*[1, 4, 3, 2] + 5159780352*[2, 1, 3, 4] + 5159780352*[2, 1, 4, 3] - 5159780352*[2, 3, 4, 1] - 5159780352*[2, 4, 3, 1] - 5159780352*[3, 1, 2, 4] - 5159780352*[3, 2, 1, 4] + 5159780352*[3, 4, 1, 2] + 5159780352*[3, 4, 2, 1] - 5159780352*[4, 1, 2, 3] - 5159780352*[4, 2, 1, 3] + 5159780352*[4, 3, 1, 2] + 5159780352*[4, 3, 2, 1]"
      ]
     },
     "execution_count": 5,
     "metadata": {},
     "output_type": "execute_result"
    }
   ],
   "source": [
    "y^10"
   ]
  },
  {
   "cell_type": "code",
   "execution_count": 18,
   "metadata": {},
   "outputs": [],
   "source": [
    "al=S([1,2,3,4]) + S([3,2,1,4])"
   ]
  },
  {
   "cell_type": "code",
   "execution_count": 19,
   "metadata": {},
   "outputs": [
    {
     "data": {
      "text/plain": [
       "[1, 2, 4, 3] - [1, 3, 2, 4] - [1, 3, 4, 2] + [1, 4, 2, 3] + [2, 1, 3, 4] + [2, 3, 1, 4] - [2, 4, 1, 3] - [2, 4, 3, 1] - [3, 1, 2, 4] - [3, 1, 4, 2] + [3, 2, 4, 1] + [3, 4, 2, 1] + [4, 1, 3, 2] - [4, 2, 1, 3] - [4, 2, 3, 1] + [4, 3, 1, 2]"
      ]
     },
     "execution_count": 19,
     "metadata": {},
     "output_type": "execute_result"
    }
   ],
   "source": [
    "y*al"
   ]
  },
  {
   "cell_type": "code",
   "execution_count": 20,
   "metadata": {},
   "outputs": [
    {
     "data": {
      "text/plain": [
       "0"
      ]
     },
     "execution_count": 20,
     "metadata": {},
     "output_type": "execute_result"
    }
   ],
   "source": [
    "al*y"
   ]
  },
  {
   "cell_type": "code",
   "execution_count": null,
   "metadata": {},
   "outputs": [],
   "source": []
  }
 ],
 "metadata": {
  "kernelspec": {
   "display_name": "SageMath 8.6",
   "language": "",
   "name": "sagemath"
  },
  "language_info": {
   "codemirror_mode": {
    "name": "ipython",
    "version": 2
   },
   "file_extension": ".py",
   "mimetype": "text/x-python",
   "name": "python",
   "nbconvert_exporter": "python",
   "pygments_lexer": "ipython2",
   "version": "2.7.15"
  }
 },
 "nbformat": 4,
 "nbformat_minor": 2
}
